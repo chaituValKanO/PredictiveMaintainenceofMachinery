{
 "cells": [
  {
   "cell_type": "code",
   "execution_count": 127,
   "metadata": {
    "colab": {
     "base_uri": "https://localhost:8080/",
     "height": 71
    },
    "colab_type": "code",
    "executionInfo": {
     "elapsed": 1200,
     "status": "ok",
     "timestamp": 1536898916132,
     "user": {
      "displayName": "Chaitu Val Kan O",
      "photoUrl": "//lh5.googleusercontent.com/-MgIVQbXFFc0/AAAAAAAAAAI/AAAAAAAAAt4/fhDmGUAU9Ys/s50-c-k-no/photo.jpg",
      "userId": "110646612461357816482"
     },
     "user_tz": -330
    },
    "id": "hXtQxPFgTdAi",
    "outputId": "878b3bb7-d1f7-466f-a267-d68affb302c2"
   },
   "outputs": [],
   "source": [
    "import pandas as pd\n",
    "import numpy as np\n",
    "import itertools\n",
    "from sklearn.preprocessing import StandardScaler, Imputer, LabelEncoder\n",
    "from sklearn.cross_validation import train_test_split\n",
    "from sklearn.metrics import classification_report, confusion_matrix, f1_score\n",
    "from sklearn.linear_model import SGDClassifier\n",
    "from sklearn.svm import SVC\n",
    "from sklearn.model_selection import GridSearchCV, cross_val_score, StratifiedKFold\n",
    "import matplotlib.pyplot as plt\n",
    "import seaborn as sns"
   ]
  },
  {
   "cell_type": "markdown",
   "metadata": {},
   "source": [
    "#### 1) Reading the train dataset created from preprocessing step"
   ]
  },
  {
   "cell_type": "code",
   "execution_count": 128,
   "metadata": {
    "colab": {},
    "colab_type": "code",
    "id": "lSp2NX1fTdAm"
   },
   "outputs": [],
   "source": [
    "dataset = pd.read_csv(\"C:\\\\Users\\\\chait\\\\Documents\\\\Insofe\\\\PhD\\\\scripts\\\\my_train.csv\", header=0)"
   ]
  },
  {
   "cell_type": "markdown",
   "metadata": {},
   "source": [
    "#### 2) Exploratory Data Analysis"
   ]
  },
  {
   "cell_type": "code",
   "execution_count": 129,
   "metadata": {
    "colab": {},
    "colab_type": "code",
    "id": "spE3Aw5iTdAp",
    "outputId": "2c2813f3-d732-48d1-c733-05a3d43a01b5"
   },
   "outputs": [
    {
     "name": "stdout",
     "output_type": "stream",
     "text": [
      "<class 'pandas.core.frame.DataFrame'>\n",
      "RangeIndex: 674 entries, 0 to 673\n",
      "Data columns (total 38 columns):\n",
      "MachineID                      674 non-null object\n",
      "MachineModel                   674 non-null object\n",
      "ServicePeriod                  674 non-null int64\n",
      "error1_avg                     674 non-null float64\n",
      "error2_avg                     674 non-null float64\n",
      "error3_avg                     674 non-null float64\n",
      "error4_avg                     674 non-null float64\n",
      "error5_avg                     674 non-null float64\n",
      "Comp_Timelapse_diff_errors     674 non-null float64\n",
      "RecentError                    674 non-null object\n",
      "MostOccuredError               674 non-null object\n",
      "comp_1_replace_avg             674 non-null float64\n",
      "comp_2_replace_avg             674 non-null float64\n",
      "comp_3_replace_avg             674 non-null float64\n",
      "comp_4_replace_avg             674 non-null float64\n",
      "Comp_Timelapse_diff_replace    674 non-null float64\n",
      "RecentReplacedComp             674 non-null object\n",
      "MostReplacedComp               674 non-null object\n",
      "comp1_repair_avg               674 non-null float64\n",
      "comp2_repair_avg               674 non-null float64\n",
      "comp3_repair_avg               674 non-null float64\n",
      "comp4_repair_avg               674 non-null float64\n",
      "Comp_Timelapse_diff_repair     674 non-null float64\n",
      "RecentRepaired                 674 non-null object\n",
      "MostRepairedComponent          674 non-null object\n",
      "Sensor1_max                    674 non-null float64\n",
      "Sensor2_max                    674 non-null float64\n",
      "Sensor3_max                    674 non-null float64\n",
      "Sensor4_max                    674 non-null float64\n",
      "Sensor1_min                    674 non-null float64\n",
      "Sensor2_min                    674 non-null float64\n",
      "Sensor3_min                    674 non-null float64\n",
      "Sensor4_min                    674 non-null float64\n",
      "Sensor1_mean                   674 non-null float64\n",
      "Sensor2_mean                   674 non-null float64\n",
      "Sensor3_mean                   674 non-null float64\n",
      "Sensor4_mean                   674 non-null float64\n",
      "ActionPoint                    674 non-null object\n",
      "dtypes: float64(28), int64(1), object(9)\n",
      "memory usage: 200.2+ KB\n"
     ]
    }
   ],
   "source": [
    "dataset.info()"
   ]
  },
  {
   "cell_type": "code",
   "execution_count": 130,
   "metadata": {
    "colab": {},
    "colab_type": "code",
    "id": "lS6s2GURTdAu",
    "outputId": "16c8cbcb-0876-435c-ce54-377cc9d4d9ff"
   },
   "outputs": [
    {
     "data": {
      "text/html": [
       "<div>\n",
       "<style scoped>\n",
       "    .dataframe tbody tr th:only-of-type {\n",
       "        vertical-align: middle;\n",
       "    }\n",
       "\n",
       "    .dataframe tbody tr th {\n",
       "        vertical-align: top;\n",
       "    }\n",
       "\n",
       "    .dataframe thead th {\n",
       "        text-align: right;\n",
       "    }\n",
       "</style>\n",
       "<table border=\"1\" class=\"dataframe\">\n",
       "  <thead>\n",
       "    <tr style=\"text-align: right;\">\n",
       "      <th></th>\n",
       "      <th>MachineID</th>\n",
       "      <th>MachineModel</th>\n",
       "      <th>ServicePeriod</th>\n",
       "      <th>error1_avg</th>\n",
       "      <th>error2_avg</th>\n",
       "      <th>error3_avg</th>\n",
       "      <th>error4_avg</th>\n",
       "      <th>error5_avg</th>\n",
       "      <th>Comp_Timelapse_diff_errors</th>\n",
       "      <th>RecentError</th>\n",
       "      <th>...</th>\n",
       "      <th>Sensor4_max</th>\n",
       "      <th>Sensor1_min</th>\n",
       "      <th>Sensor2_min</th>\n",
       "      <th>Sensor3_min</th>\n",
       "      <th>Sensor4_min</th>\n",
       "      <th>Sensor1_mean</th>\n",
       "      <th>Sensor2_mean</th>\n",
       "      <th>Sensor3_mean</th>\n",
       "      <th>Sensor4_mean</th>\n",
       "      <th>ActionPoint</th>\n",
       "    </tr>\n",
       "  </thead>\n",
       "  <tbody>\n",
       "    <tr>\n",
       "      <th>0</th>\n",
       "      <td>MID11001</td>\n",
       "      <td>model4</td>\n",
       "      <td>21</td>\n",
       "      <td>60.00</td>\n",
       "      <td>35.65</td>\n",
       "      <td>40.71</td>\n",
       "      <td>0.0</td>\n",
       "      <td>65.00</td>\n",
       "      <td>13.58</td>\n",
       "      <td>error2</td>\n",
       "      <td>...</td>\n",
       "      <td>66.51</td>\n",
       "      <td>113.81</td>\n",
       "      <td>217.34</td>\n",
       "      <td>61.86</td>\n",
       "      <td>21.22</td>\n",
       "      <td>171.26</td>\n",
       "      <td>444.78</td>\n",
       "      <td>100.88</td>\n",
       "      <td>40.33</td>\n",
       "      <td>ComponentRepair</td>\n",
       "    </tr>\n",
       "    <tr>\n",
       "      <th>1</th>\n",
       "      <td>MID11002</td>\n",
       "      <td>model1</td>\n",
       "      <td>21</td>\n",
       "      <td>0.00</td>\n",
       "      <td>150.00</td>\n",
       "      <td>150.00</td>\n",
       "      <td>95.0</td>\n",
       "      <td>95.00</td>\n",
       "      <td>31.50</td>\n",
       "      <td>error5</td>\n",
       "      <td>...</td>\n",
       "      <td>73.26</td>\n",
       "      <td>108.43</td>\n",
       "      <td>208.67</td>\n",
       "      <td>62.02</td>\n",
       "      <td>21.12</td>\n",
       "      <td>170.38</td>\n",
       "      <td>445.79</td>\n",
       "      <td>101.04</td>\n",
       "      <td>40.49</td>\n",
       "      <td>ComponentRepair</td>\n",
       "    </tr>\n",
       "    <tr>\n",
       "      <th>2</th>\n",
       "      <td>MID11003</td>\n",
       "      <td>model3</td>\n",
       "      <td>22</td>\n",
       "      <td>37.50</td>\n",
       "      <td>90.00</td>\n",
       "      <td>93.54</td>\n",
       "      <td>0.0</td>\n",
       "      <td>85.00</td>\n",
       "      <td>27.27</td>\n",
       "      <td>error3</td>\n",
       "      <td>...</td>\n",
       "      <td>62.11</td>\n",
       "      <td>111.57</td>\n",
       "      <td>244.51</td>\n",
       "      <td>51.25</td>\n",
       "      <td>21.25</td>\n",
       "      <td>170.77</td>\n",
       "      <td>446.16</td>\n",
       "      <td>100.60</td>\n",
       "      <td>40.54</td>\n",
       "      <td>NoIssue</td>\n",
       "    </tr>\n",
       "    <tr>\n",
       "      <th>3</th>\n",
       "      <td>MID11004</td>\n",
       "      <td>model4</td>\n",
       "      <td>22</td>\n",
       "      <td>42.41</td>\n",
       "      <td>78.75</td>\n",
       "      <td>78.75</td>\n",
       "      <td>0.0</td>\n",
       "      <td>52.50</td>\n",
       "      <td>18.53</td>\n",
       "      <td>error2</td>\n",
       "      <td>...</td>\n",
       "      <td>63.70</td>\n",
       "      <td>111.27</td>\n",
       "      <td>238.93</td>\n",
       "      <td>61.19</td>\n",
       "      <td>22.79</td>\n",
       "      <td>170.74</td>\n",
       "      <td>445.82</td>\n",
       "      <td>100.78</td>\n",
       "      <td>40.59</td>\n",
       "      <td>NoIssue</td>\n",
       "    </tr>\n",
       "    <tr>\n",
       "      <th>4</th>\n",
       "      <td>MID11005</td>\n",
       "      <td>model3</td>\n",
       "      <td>22</td>\n",
       "      <td>44.21</td>\n",
       "      <td>96.44</td>\n",
       "      <td>33.24</td>\n",
       "      <td>0.0</td>\n",
       "      <td>56.25</td>\n",
       "      <td>19.02</td>\n",
       "      <td>error2</td>\n",
       "      <td>...</td>\n",
       "      <td>66.24</td>\n",
       "      <td>110.95</td>\n",
       "      <td>242.30</td>\n",
       "      <td>64.10</td>\n",
       "      <td>22.16</td>\n",
       "      <td>170.82</td>\n",
       "      <td>446.06</td>\n",
       "      <td>100.76</td>\n",
       "      <td>40.57</td>\n",
       "      <td>ComponentRepair</td>\n",
       "    </tr>\n",
       "  </tbody>\n",
       "</table>\n",
       "<p>5 rows × 38 columns</p>\n",
       "</div>"
      ],
      "text/plain": [
       "  MachineID MachineModel  ServicePeriod  error1_avg  error2_avg  error3_avg  \\\n",
       "0  MID11001       model4             21       60.00       35.65       40.71   \n",
       "1  MID11002       model1             21        0.00      150.00      150.00   \n",
       "2  MID11003       model3             22       37.50       90.00       93.54   \n",
       "3  MID11004       model4             22       42.41       78.75       78.75   \n",
       "4  MID11005       model3             22       44.21       96.44       33.24   \n",
       "\n",
       "   error4_avg  error5_avg  Comp_Timelapse_diff_errors RecentError  \\\n",
       "0         0.0       65.00                       13.58      error2   \n",
       "1        95.0       95.00                       31.50      error5   \n",
       "2         0.0       85.00                       27.27      error3   \n",
       "3         0.0       52.50                       18.53      error2   \n",
       "4         0.0       56.25                       19.02      error2   \n",
       "\n",
       "        ...        Sensor4_max  Sensor1_min  Sensor2_min  Sensor3_min  \\\n",
       "0       ...              66.51       113.81       217.34        61.86   \n",
       "1       ...              73.26       108.43       208.67        62.02   \n",
       "2       ...              62.11       111.57       244.51        51.25   \n",
       "3       ...              63.70       111.27       238.93        61.19   \n",
       "4       ...              66.24       110.95       242.30        64.10   \n",
       "\n",
       "   Sensor4_min  Sensor1_mean Sensor2_mean Sensor3_mean  Sensor4_mean  \\\n",
       "0        21.22        171.26       444.78       100.88         40.33   \n",
       "1        21.12        170.38       445.79       101.04         40.49   \n",
       "2        21.25        170.77       446.16       100.60         40.54   \n",
       "3        22.79        170.74       445.82       100.78         40.59   \n",
       "4        22.16        170.82       446.06       100.76         40.57   \n",
       "\n",
       "       ActionPoint  \n",
       "0  ComponentRepair  \n",
       "1  ComponentRepair  \n",
       "2          NoIssue  \n",
       "3          NoIssue  \n",
       "4  ComponentRepair  \n",
       "\n",
       "[5 rows x 38 columns]"
      ]
     },
     "execution_count": 130,
     "metadata": {},
     "output_type": "execute_result"
    }
   ],
   "source": [
    "dataset.head()"
   ]
  },
  {
   "cell_type": "code",
   "execution_count": 131,
   "metadata": {
    "colab": {},
    "colab_type": "code",
    "id": "I5IugoUtTdAy",
    "outputId": "633de86a-a632-478f-f8f0-c7c880f67585"
   },
   "outputs": [
    {
     "data": {
      "text/html": [
       "<div>\n",
       "<style scoped>\n",
       "    .dataframe tbody tr th:only-of-type {\n",
       "        vertical-align: middle;\n",
       "    }\n",
       "\n",
       "    .dataframe tbody tr th {\n",
       "        vertical-align: top;\n",
       "    }\n",
       "\n",
       "    .dataframe thead th {\n",
       "        text-align: right;\n",
       "    }\n",
       "</style>\n",
       "<table border=\"1\" class=\"dataframe\">\n",
       "  <thead>\n",
       "    <tr style=\"text-align: right;\">\n",
       "      <th></th>\n",
       "      <th>MachineID</th>\n",
       "      <th>MachineModel</th>\n",
       "      <th>ServicePeriod</th>\n",
       "      <th>error1_avg</th>\n",
       "      <th>error2_avg</th>\n",
       "      <th>error3_avg</th>\n",
       "      <th>error4_avg</th>\n",
       "      <th>error5_avg</th>\n",
       "      <th>Comp_Timelapse_diff_errors</th>\n",
       "      <th>RecentError</th>\n",
       "      <th>...</th>\n",
       "      <th>Sensor4_max</th>\n",
       "      <th>Sensor1_min</th>\n",
       "      <th>Sensor2_min</th>\n",
       "      <th>Sensor3_min</th>\n",
       "      <th>Sensor4_min</th>\n",
       "      <th>Sensor1_mean</th>\n",
       "      <th>Sensor2_mean</th>\n",
       "      <th>Sensor3_mean</th>\n",
       "      <th>Sensor4_mean</th>\n",
       "      <th>ActionPoint</th>\n",
       "    </tr>\n",
       "  </thead>\n",
       "  <tbody>\n",
       "    <tr>\n",
       "      <th>669</th>\n",
       "      <td>MID11845</td>\n",
       "      <td>model2</td>\n",
       "      <td>5</td>\n",
       "      <td>18.78</td>\n",
       "      <td>60.00</td>\n",
       "      <td>60.0</td>\n",
       "      <td>82.50</td>\n",
       "      <td>0.0</td>\n",
       "      <td>23.57</td>\n",
       "      <td>error4</td>\n",
       "      <td>...</td>\n",
       "      <td>64.44</td>\n",
       "      <td>116.03</td>\n",
       "      <td>226.84</td>\n",
       "      <td>63.30</td>\n",
       "      <td>22.10</td>\n",
       "      <td>170.90</td>\n",
       "      <td>447.85</td>\n",
       "      <td>101.06</td>\n",
       "      <td>40.20</td>\n",
       "      <td>NoIssue</td>\n",
       "    </tr>\n",
       "    <tr>\n",
       "      <th>670</th>\n",
       "      <td>MID11846</td>\n",
       "      <td>model3</td>\n",
       "      <td>4</td>\n",
       "      <td>44.88</td>\n",
       "      <td>45.00</td>\n",
       "      <td>45.0</td>\n",
       "      <td>23.71</td>\n",
       "      <td>0.0</td>\n",
       "      <td>15.50</td>\n",
       "      <td>error1</td>\n",
       "      <td>...</td>\n",
       "      <td>66.57</td>\n",
       "      <td>109.56</td>\n",
       "      <td>159.59</td>\n",
       "      <td>64.30</td>\n",
       "      <td>17.12</td>\n",
       "      <td>170.66</td>\n",
       "      <td>447.11</td>\n",
       "      <td>100.68</td>\n",
       "      <td>40.26</td>\n",
       "      <td>ComponentRepair</td>\n",
       "    </tr>\n",
       "    <tr>\n",
       "      <th>671</th>\n",
       "      <td>MID11847</td>\n",
       "      <td>model2</td>\n",
       "      <td>3</td>\n",
       "      <td>72.49</td>\n",
       "      <td>26.21</td>\n",
       "      <td>40.0</td>\n",
       "      <td>55.00</td>\n",
       "      <td>0.0</td>\n",
       "      <td>15.29</td>\n",
       "      <td>error2</td>\n",
       "      <td>...</td>\n",
       "      <td>66.77</td>\n",
       "      <td>119.70</td>\n",
       "      <td>223.41</td>\n",
       "      <td>58.28</td>\n",
       "      <td>23.15</td>\n",
       "      <td>170.72</td>\n",
       "      <td>446.87</td>\n",
       "      <td>101.42</td>\n",
       "      <td>40.26</td>\n",
       "      <td>ComponentReplacement</td>\n",
       "    </tr>\n",
       "    <tr>\n",
       "      <th>672</th>\n",
       "      <td>MID11848</td>\n",
       "      <td>model4</td>\n",
       "      <td>4</td>\n",
       "      <td>70.00</td>\n",
       "      <td>0.00</td>\n",
       "      <td>7.6</td>\n",
       "      <td>17.19</td>\n",
       "      <td>0.0</td>\n",
       "      <td>31.69</td>\n",
       "      <td>error1</td>\n",
       "      <td>...</td>\n",
       "      <td>62.87</td>\n",
       "      <td>117.16</td>\n",
       "      <td>160.57</td>\n",
       "      <td>62.36</td>\n",
       "      <td>20.97</td>\n",
       "      <td>170.80</td>\n",
       "      <td>447.65</td>\n",
       "      <td>100.49</td>\n",
       "      <td>40.26</td>\n",
       "      <td>ComponentRepair</td>\n",
       "    </tr>\n",
       "    <tr>\n",
       "      <th>673</th>\n",
       "      <td>MID11850</td>\n",
       "      <td>model3</td>\n",
       "      <td>3</td>\n",
       "      <td>39.10</td>\n",
       "      <td>54.00</td>\n",
       "      <td>54.0</td>\n",
       "      <td>0.00</td>\n",
       "      <td>0.0</td>\n",
       "      <td>21.39</td>\n",
       "      <td>error1</td>\n",
       "      <td>...</td>\n",
       "      <td>61.84</td>\n",
       "      <td>114.43</td>\n",
       "      <td>224.84</td>\n",
       "      <td>61.71</td>\n",
       "      <td>20.54</td>\n",
       "      <td>170.67</td>\n",
       "      <td>444.25</td>\n",
       "      <td>100.78</td>\n",
       "      <td>40.15</td>\n",
       "      <td>ComponentRepair</td>\n",
       "    </tr>\n",
       "  </tbody>\n",
       "</table>\n",
       "<p>5 rows × 38 columns</p>\n",
       "</div>"
      ],
      "text/plain": [
       "    MachineID MachineModel  ServicePeriod  error1_avg  error2_avg  error3_avg  \\\n",
       "669  MID11845       model2              5       18.78       60.00        60.0   \n",
       "670  MID11846       model3              4       44.88       45.00        45.0   \n",
       "671  MID11847       model2              3       72.49       26.21        40.0   \n",
       "672  MID11848       model4              4       70.00        0.00         7.6   \n",
       "673  MID11850       model3              3       39.10       54.00        54.0   \n",
       "\n",
       "     error4_avg  error5_avg  Comp_Timelapse_diff_errors RecentError  \\\n",
       "669       82.50         0.0                       23.57      error4   \n",
       "670       23.71         0.0                       15.50      error1   \n",
       "671       55.00         0.0                       15.29      error2   \n",
       "672       17.19         0.0                       31.69      error1   \n",
       "673        0.00         0.0                       21.39      error1   \n",
       "\n",
       "             ...          Sensor4_max  Sensor1_min  Sensor2_min  Sensor3_min  \\\n",
       "669          ...                64.44       116.03       226.84        63.30   \n",
       "670          ...                66.57       109.56       159.59        64.30   \n",
       "671          ...                66.77       119.70       223.41        58.28   \n",
       "672          ...                62.87       117.16       160.57        62.36   \n",
       "673          ...                61.84       114.43       224.84        61.71   \n",
       "\n",
       "     Sensor4_min  Sensor1_mean Sensor2_mean Sensor3_mean  Sensor4_mean  \\\n",
       "669        22.10        170.90       447.85       101.06         40.20   \n",
       "670        17.12        170.66       447.11       100.68         40.26   \n",
       "671        23.15        170.72       446.87       101.42         40.26   \n",
       "672        20.97        170.80       447.65       100.49         40.26   \n",
       "673        20.54        170.67       444.25       100.78         40.15   \n",
       "\n",
       "              ActionPoint  \n",
       "669               NoIssue  \n",
       "670       ComponentRepair  \n",
       "671  ComponentReplacement  \n",
       "672       ComponentRepair  \n",
       "673       ComponentRepair  \n",
       "\n",
       "[5 rows x 38 columns]"
      ]
     },
     "execution_count": 131,
     "metadata": {},
     "output_type": "execute_result"
    }
   ],
   "source": [
    "dataset.tail(5)"
   ]
  },
  {
   "cell_type": "code",
   "execution_count": 132,
   "metadata": {
    "colab": {},
    "colab_type": "code",
    "id": "OrSr08RCTdA1",
    "outputId": "dd17cc69-0654-4a4c-dba3-d95d1a50b4ae"
   },
   "outputs": [
    {
     "data": {
      "text/html": [
       "<div>\n",
       "<style scoped>\n",
       "    .dataframe tbody tr th:only-of-type {\n",
       "        vertical-align: middle;\n",
       "    }\n",
       "\n",
       "    .dataframe tbody tr th {\n",
       "        vertical-align: top;\n",
       "    }\n",
       "\n",
       "    .dataframe thead th {\n",
       "        text-align: right;\n",
       "    }\n",
       "</style>\n",
       "<table border=\"1\" class=\"dataframe\">\n",
       "  <thead>\n",
       "    <tr style=\"text-align: right;\">\n",
       "      <th></th>\n",
       "      <th>ServicePeriod</th>\n",
       "      <th>error1_avg</th>\n",
       "      <th>error2_avg</th>\n",
       "      <th>error3_avg</th>\n",
       "      <th>error4_avg</th>\n",
       "      <th>error5_avg</th>\n",
       "      <th>Comp_Timelapse_diff_errors</th>\n",
       "      <th>comp_1_replace_avg</th>\n",
       "      <th>comp_2_replace_avg</th>\n",
       "      <th>comp_3_replace_avg</th>\n",
       "      <th>...</th>\n",
       "      <th>Sensor3_max</th>\n",
       "      <th>Sensor4_max</th>\n",
       "      <th>Sensor1_min</th>\n",
       "      <th>Sensor2_min</th>\n",
       "      <th>Sensor3_min</th>\n",
       "      <th>Sensor4_min</th>\n",
       "      <th>Sensor1_mean</th>\n",
       "      <th>Sensor2_mean</th>\n",
       "      <th>Sensor3_mean</th>\n",
       "      <th>Sensor4_mean</th>\n",
       "    </tr>\n",
       "  </thead>\n",
       "  <tbody>\n",
       "    <tr>\n",
       "      <th>count</th>\n",
       "      <td>674.000000</td>\n",
       "      <td>674.000000</td>\n",
       "      <td>674.000000</td>\n",
       "      <td>674.000000</td>\n",
       "      <td>674.000000</td>\n",
       "      <td>674.000000</td>\n",
       "      <td>674.000000</td>\n",
       "      <td>674.000000</td>\n",
       "      <td>674.000000</td>\n",
       "      <td>674.000000</td>\n",
       "      <td>...</td>\n",
       "      <td>674.000000</td>\n",
       "      <td>674.000000</td>\n",
       "      <td>674.000000</td>\n",
       "      <td>674.000000</td>\n",
       "      <td>674.000000</td>\n",
       "      <td>674.000000</td>\n",
       "      <td>674.000000</td>\n",
       "      <td>674.000000</td>\n",
       "      <td>674.000000</td>\n",
       "      <td>674.000000</td>\n",
       "    </tr>\n",
       "    <tr>\n",
       "      <th>mean</th>\n",
       "      <td>13.091988</td>\n",
       "      <td>44.113991</td>\n",
       "      <td>47.677389</td>\n",
       "      <td>46.326365</td>\n",
       "      <td>19.600445</td>\n",
       "      <td>25.634139</td>\n",
       "      <td>26.116884</td>\n",
       "      <td>37.440282</td>\n",
       "      <td>44.943234</td>\n",
       "      <td>18.009629</td>\n",
       "      <td>...</td>\n",
       "      <td>155.885697</td>\n",
       "      <td>64.889674</td>\n",
       "      <td>113.157478</td>\n",
       "      <td>217.153442</td>\n",
       "      <td>62.113843</td>\n",
       "      <td>21.118279</td>\n",
       "      <td>170.758917</td>\n",
       "      <td>446.624199</td>\n",
       "      <td>100.842478</td>\n",
       "      <td>40.365356</td>\n",
       "    </tr>\n",
       "    <tr>\n",
       "      <th>std</th>\n",
       "      <td>5.288455</td>\n",
       "      <td>34.573864</td>\n",
       "      <td>31.041506</td>\n",
       "      <td>31.879803</td>\n",
       "      <td>30.278308</td>\n",
       "      <td>33.797062</td>\n",
       "      <td>9.207301</td>\n",
       "      <td>39.119877</td>\n",
       "      <td>36.152294</td>\n",
       "      <td>31.166810</td>\n",
       "      <td>...</td>\n",
       "      <td>7.704799</td>\n",
       "      <td>2.921304</td>\n",
       "      <td>4.886335</td>\n",
       "      <td>26.071793</td>\n",
       "      <td>3.058292</td>\n",
       "      <td>1.519342</td>\n",
       "      <td>0.229260</td>\n",
       "      <td>0.889770</td>\n",
       "      <td>0.283153</td>\n",
       "      <td>0.125382</td>\n",
       "    </tr>\n",
       "    <tr>\n",
       "      <th>min</th>\n",
       "      <td>3.000000</td>\n",
       "      <td>0.000000</td>\n",
       "      <td>0.000000</td>\n",
       "      <td>0.000000</td>\n",
       "      <td>0.000000</td>\n",
       "      <td>0.000000</td>\n",
       "      <td>0.000000</td>\n",
       "      <td>0.000000</td>\n",
       "      <td>0.000000</td>\n",
       "      <td>0.000000</td>\n",
       "      <td>...</td>\n",
       "      <td>144.120000</td>\n",
       "      <td>58.490000</td>\n",
       "      <td>87.780000</td>\n",
       "      <td>102.170000</td>\n",
       "      <td>50.540000</td>\n",
       "      <td>14.640000</td>\n",
       "      <td>170.140000</td>\n",
       "      <td>443.760000</td>\n",
       "      <td>100.240000</td>\n",
       "      <td>40.090000</td>\n",
       "    </tr>\n",
       "    <tr>\n",
       "      <th>25%</th>\n",
       "      <td>9.000000</td>\n",
       "      <td>5.225000</td>\n",
       "      <td>29.580000</td>\n",
       "      <td>23.907500</td>\n",
       "      <td>0.000000</td>\n",
       "      <td>0.000000</td>\n",
       "      <td>20.000000</td>\n",
       "      <td>0.000000</td>\n",
       "      <td>0.000000</td>\n",
       "      <td>0.000000</td>\n",
       "      <td>...</td>\n",
       "      <td>150.752500</td>\n",
       "      <td>62.962500</td>\n",
       "      <td>110.627500</td>\n",
       "      <td>205.285000</td>\n",
       "      <td>60.420000</td>\n",
       "      <td>20.342500</td>\n",
       "      <td>170.610000</td>\n",
       "      <td>446.010000</td>\n",
       "      <td>100.650000</td>\n",
       "      <td>40.270000</td>\n",
       "    </tr>\n",
       "    <tr>\n",
       "      <th>50%</th>\n",
       "      <td>13.000000</td>\n",
       "      <td>45.000000</td>\n",
       "      <td>48.825000</td>\n",
       "      <td>48.000000</td>\n",
       "      <td>0.000000</td>\n",
       "      <td>0.000000</td>\n",
       "      <td>24.230000</td>\n",
       "      <td>35.000000</td>\n",
       "      <td>48.375000</td>\n",
       "      <td>0.000000</td>\n",
       "      <td>...</td>\n",
       "      <td>153.925000</td>\n",
       "      <td>64.290000</td>\n",
       "      <td>113.830000</td>\n",
       "      <td>221.575000</td>\n",
       "      <td>62.510000</td>\n",
       "      <td>21.265000</td>\n",
       "      <td>170.760000</td>\n",
       "      <td>446.605000</td>\n",
       "      <td>100.770000</td>\n",
       "      <td>40.340000</td>\n",
       "    </tr>\n",
       "    <tr>\n",
       "      <th>75%</th>\n",
       "      <td>18.000000</td>\n",
       "      <td>65.732500</td>\n",
       "      <td>67.500000</td>\n",
       "      <td>67.097500</td>\n",
       "      <td>45.000000</td>\n",
       "      <td>57.000000</td>\n",
       "      <td>30.000000</td>\n",
       "      <td>69.375000</td>\n",
       "      <td>67.500000</td>\n",
       "      <td>45.000000</td>\n",
       "      <td>...</td>\n",
       "      <td>158.175000</td>\n",
       "      <td>66.025000</td>\n",
       "      <td>116.487500</td>\n",
       "      <td>235.415000</td>\n",
       "      <td>64.380000</td>\n",
       "      <td>22.147500</td>\n",
       "      <td>170.900000</td>\n",
       "      <td>447.260000</td>\n",
       "      <td>100.990000</td>\n",
       "      <td>40.460000</td>\n",
       "    </tr>\n",
       "    <tr>\n",
       "      <th>max</th>\n",
       "      <td>22.000000</td>\n",
       "      <td>147.380000</td>\n",
       "      <td>157.500000</td>\n",
       "      <td>157.500000</td>\n",
       "      <td>135.000000</td>\n",
       "      <td>135.000000</td>\n",
       "      <td>95.390000</td>\n",
       "      <td>142.500000</td>\n",
       "      <td>162.060000</td>\n",
       "      <td>135.000000</td>\n",
       "      <td>...</td>\n",
       "      <td>195.270000</td>\n",
       "      <td>79.110000</td>\n",
       "      <td>123.610000</td>\n",
       "      <td>269.030000</td>\n",
       "      <td>67.840000</td>\n",
       "      <td>24.290000</td>\n",
       "      <td>171.530000</td>\n",
       "      <td>449.480000</td>\n",
       "      <td>101.660000</td>\n",
       "      <td>40.680000</td>\n",
       "    </tr>\n",
       "  </tbody>\n",
       "</table>\n",
       "<p>8 rows × 29 columns</p>\n",
       "</div>"
      ],
      "text/plain": [
       "       ServicePeriod  error1_avg  error2_avg  error3_avg  error4_avg  \\\n",
       "count     674.000000  674.000000  674.000000  674.000000  674.000000   \n",
       "mean       13.091988   44.113991   47.677389   46.326365   19.600445   \n",
       "std         5.288455   34.573864   31.041506   31.879803   30.278308   \n",
       "min         3.000000    0.000000    0.000000    0.000000    0.000000   \n",
       "25%         9.000000    5.225000   29.580000   23.907500    0.000000   \n",
       "50%        13.000000   45.000000   48.825000   48.000000    0.000000   \n",
       "75%        18.000000   65.732500   67.500000   67.097500   45.000000   \n",
       "max        22.000000  147.380000  157.500000  157.500000  135.000000   \n",
       "\n",
       "       error5_avg  Comp_Timelapse_diff_errors  comp_1_replace_avg  \\\n",
       "count  674.000000                  674.000000          674.000000   \n",
       "mean    25.634139                   26.116884           37.440282   \n",
       "std     33.797062                    9.207301           39.119877   \n",
       "min      0.000000                    0.000000            0.000000   \n",
       "25%      0.000000                   20.000000            0.000000   \n",
       "50%      0.000000                   24.230000           35.000000   \n",
       "75%     57.000000                   30.000000           69.375000   \n",
       "max    135.000000                   95.390000          142.500000   \n",
       "\n",
       "       comp_2_replace_avg  comp_3_replace_avg      ...       Sensor3_max  \\\n",
       "count          674.000000          674.000000      ...        674.000000   \n",
       "mean            44.943234           18.009629      ...        155.885697   \n",
       "std             36.152294           31.166810      ...          7.704799   \n",
       "min              0.000000            0.000000      ...        144.120000   \n",
       "25%              0.000000            0.000000      ...        150.752500   \n",
       "50%             48.375000            0.000000      ...        153.925000   \n",
       "75%             67.500000           45.000000      ...        158.175000   \n",
       "max            162.060000          135.000000      ...        195.270000   \n",
       "\n",
       "       Sensor4_max  Sensor1_min  Sensor2_min  Sensor3_min  Sensor4_min  \\\n",
       "count   674.000000   674.000000   674.000000   674.000000   674.000000   \n",
       "mean     64.889674   113.157478   217.153442    62.113843    21.118279   \n",
       "std       2.921304     4.886335    26.071793     3.058292     1.519342   \n",
       "min      58.490000    87.780000   102.170000    50.540000    14.640000   \n",
       "25%      62.962500   110.627500   205.285000    60.420000    20.342500   \n",
       "50%      64.290000   113.830000   221.575000    62.510000    21.265000   \n",
       "75%      66.025000   116.487500   235.415000    64.380000    22.147500   \n",
       "max      79.110000   123.610000   269.030000    67.840000    24.290000   \n",
       "\n",
       "       Sensor1_mean  Sensor2_mean  Sensor3_mean  Sensor4_mean  \n",
       "count    674.000000    674.000000    674.000000    674.000000  \n",
       "mean     170.758917    446.624199    100.842478     40.365356  \n",
       "std        0.229260      0.889770      0.283153      0.125382  \n",
       "min      170.140000    443.760000    100.240000     40.090000  \n",
       "25%      170.610000    446.010000    100.650000     40.270000  \n",
       "50%      170.760000    446.605000    100.770000     40.340000  \n",
       "75%      170.900000    447.260000    100.990000     40.460000  \n",
       "max      171.530000    449.480000    101.660000     40.680000  \n",
       "\n",
       "[8 rows x 29 columns]"
      ]
     },
     "execution_count": 132,
     "metadata": {},
     "output_type": "execute_result"
    }
   ],
   "source": [
    "dataset.describe()"
   ]
  },
  {
   "cell_type": "markdown",
   "metadata": {},
   "source": [
    "#### 3)Dropping unnecessary columns and checking for null values"
   ]
  },
  {
   "cell_type": "code",
   "execution_count": 133,
   "metadata": {
    "colab": {},
    "colab_type": "code",
    "id": "SfYRn3lpTdA5"
   },
   "outputs": [],
   "source": [
    "dataset.drop(labels=['MachineID', 'comp_4_replace_avg'], axis=1, inplace=True)"
   ]
  },
  {
   "cell_type": "code",
   "execution_count": 134,
   "metadata": {
    "colab": {},
    "colab_type": "code",
    "id": "aFa4BM17TdA7",
    "outputId": "5e328630-3b1e-4fac-cb32-abf959a6a003"
   },
   "outputs": [
    {
     "data": {
      "text/plain": [
       "MachineModel                   0\n",
       "ServicePeriod                  0\n",
       "error1_avg                     0\n",
       "error2_avg                     0\n",
       "error3_avg                     0\n",
       "error4_avg                     0\n",
       "error5_avg                     0\n",
       "Comp_Timelapse_diff_errors     0\n",
       "RecentError                    0\n",
       "MostOccuredError               0\n",
       "comp_1_replace_avg             0\n",
       "comp_2_replace_avg             0\n",
       "comp_3_replace_avg             0\n",
       "Comp_Timelapse_diff_replace    0\n",
       "RecentReplacedComp             0\n",
       "MostReplacedComp               0\n",
       "comp1_repair_avg               0\n",
       "comp2_repair_avg               0\n",
       "comp3_repair_avg               0\n",
       "comp4_repair_avg               0\n",
       "Comp_Timelapse_diff_repair     0\n",
       "RecentRepaired                 0\n",
       "MostRepairedComponent          0\n",
       "Sensor1_max                    0\n",
       "Sensor2_max                    0\n",
       "Sensor3_max                    0\n",
       "Sensor4_max                    0\n",
       "Sensor1_min                    0\n",
       "Sensor2_min                    0\n",
       "Sensor3_min                    0\n",
       "Sensor4_min                    0\n",
       "Sensor1_mean                   0\n",
       "Sensor2_mean                   0\n",
       "Sensor3_mean                   0\n",
       "Sensor4_mean                   0\n",
       "ActionPoint                    0\n",
       "dtype: int64"
      ]
     },
     "execution_count": 134,
     "metadata": {},
     "output_type": "execute_result"
    }
   ],
   "source": [
    "dataset.isnull().sum(axis=0)"
   ]
  },
  {
   "cell_type": "markdown",
   "metadata": {},
   "source": [
    "#### 4) Filtering categorical and non categorical values"
   ]
  },
  {
   "cell_type": "code",
   "execution_count": 135,
   "metadata": {
    "colab": {},
    "colab_type": "code",
    "id": "GEhHj3qHTdBC"
   },
   "outputs": [],
   "source": [
    "columns = dataset.columns\n",
    "cat_attr = ['MachineModel', 'RecentError', 'MostOccuredError', 'RecentReplacedComp', 'MostReplacedComp', 'RecentRepaired', 'MostRepairedComponent', 'ActionPoint']\n",
    "#num_attr = ['tenure', 'MonthlyCharges', 'TotalCharges']\n",
    "num_attr = list(set(columns) - set(cat_attr))"
   ]
  },
  {
   "cell_type": "code",
   "execution_count": 136,
   "metadata": {
    "colab": {},
    "colab_type": "code",
    "id": "eeqm2lg-TdBE",
    "outputId": "443c0631-77c7-445b-ced8-e90c8a4b3151"
   },
   "outputs": [
    {
     "name": "stdout",
     "output_type": "stream",
     "text": [
      "The total columns in the dataset are 36\n",
      "The numerical columns in the dataset are 28\n",
      "The categorical columns in the dataset are 8\n"
     ]
    }
   ],
   "source": [
    "print(\"The total columns in the dataset are {}\".format(len(columns)))\n",
    "print(\"The numerical columns in the dataset are {}\".format(len(num_attr)))\n",
    "print(\"The categorical columns in the dataset are {}\".format(len(cat_attr)))"
   ]
  },
  {
   "cell_type": "markdown",
   "metadata": {},
   "source": [
    "#### 5) Typecasting the columns into required data types"
   ]
  },
  {
   "cell_type": "code",
   "execution_count": 137,
   "metadata": {
    "colab": {},
    "colab_type": "code",
    "id": "s7Ohj1EbTdBJ"
   },
   "outputs": [],
   "source": [
    "dataset[num_attr] = dataset[num_attr].apply(lambda x: x.astype('float64'))"
   ]
  },
  {
   "cell_type": "code",
   "execution_count": 138,
   "metadata": {
    "colab": {},
    "colab_type": "code",
    "id": "oEM9RWkPTdBM"
   },
   "outputs": [],
   "source": [
    "dataset[cat_attr] = dataset[cat_attr].apply(lambda x: x.astype('category'))\n",
    "#dataset['ActionPoint'] = pd.Categorical(dataset['ActionPoint'])"
   ]
  },
  {
   "cell_type": "code",
   "execution_count": 139,
   "metadata": {
    "colab": {},
    "colab_type": "code",
    "id": "fGMh7gsXTdBO",
    "outputId": "550f05ce-7e13-4b28-a974-68866b9566ac"
   },
   "outputs": [
    {
     "data": {
      "text/plain": [
       "MachineModel                   category\n",
       "ServicePeriod                   float64\n",
       "error1_avg                      float64\n",
       "error2_avg                      float64\n",
       "error3_avg                      float64\n",
       "error4_avg                      float64\n",
       "error5_avg                      float64\n",
       "Comp_Timelapse_diff_errors      float64\n",
       "RecentError                    category\n",
       "MostOccuredError               category\n",
       "comp_1_replace_avg              float64\n",
       "comp_2_replace_avg              float64\n",
       "comp_3_replace_avg              float64\n",
       "Comp_Timelapse_diff_replace     float64\n",
       "RecentReplacedComp             category\n",
       "MostReplacedComp               category\n",
       "comp1_repair_avg                float64\n",
       "comp2_repair_avg                float64\n",
       "comp3_repair_avg                float64\n",
       "comp4_repair_avg                float64\n",
       "Comp_Timelapse_diff_repair      float64\n",
       "RecentRepaired                 category\n",
       "MostRepairedComponent          category\n",
       "Sensor1_max                     float64\n",
       "Sensor2_max                     float64\n",
       "Sensor3_max                     float64\n",
       "Sensor4_max                     float64\n",
       "Sensor1_min                     float64\n",
       "Sensor2_min                     float64\n",
       "Sensor3_min                     float64\n",
       "Sensor4_min                     float64\n",
       "Sensor1_mean                    float64\n",
       "Sensor2_mean                    float64\n",
       "Sensor3_mean                    float64\n",
       "Sensor4_mean                    float64\n",
       "ActionPoint                    category\n",
       "dtype: object"
      ]
     },
     "execution_count": 139,
     "metadata": {},
     "output_type": "execute_result"
    }
   ],
   "source": [
    "dataset.dtypes"
   ]
  },
  {
   "cell_type": "code",
   "execution_count": 140,
   "metadata": {
    "colab": {},
    "colab_type": "code",
    "id": "yB0CxAzJTdBS",
    "outputId": "9b8ffd09-79ea-4738-daf8-8daca4232dd7"
   },
   "outputs": [
    {
     "data": {
      "text/plain": [
       "(674, 36)"
      ]
     },
     "execution_count": 140,
     "metadata": {},
     "output_type": "execute_result"
    }
   ],
   "source": [
    "dataset.shape"
   ]
  },
  {
   "cell_type": "code",
   "execution_count": 141,
   "metadata": {
    "colab": {},
    "colab_type": "code",
    "id": "S3CruGTeTdBV",
    "outputId": "afedda8c-6871-433e-dca0-a946690097a6"
   },
   "outputs": [
    {
     "name": "stdout",
     "output_type": "stream",
     "text": [
      "<class 'pandas.core.frame.DataFrame'>\n",
      "RangeIndex: 674 entries, 0 to 673\n",
      "Data columns (total 36 columns):\n",
      "MachineModel                   674 non-null category\n",
      "ServicePeriod                  674 non-null float64\n",
      "error1_avg                     674 non-null float64\n",
      "error2_avg                     674 non-null float64\n",
      "error3_avg                     674 non-null float64\n",
      "error4_avg                     674 non-null float64\n",
      "error5_avg                     674 non-null float64\n",
      "Comp_Timelapse_diff_errors     674 non-null float64\n",
      "RecentError                    674 non-null category\n",
      "MostOccuredError               674 non-null category\n",
      "comp_1_replace_avg             674 non-null float64\n",
      "comp_2_replace_avg             674 non-null float64\n",
      "comp_3_replace_avg             674 non-null float64\n",
      "Comp_Timelapse_diff_replace    674 non-null float64\n",
      "RecentReplacedComp             674 non-null category\n",
      "MostReplacedComp               674 non-null category\n",
      "comp1_repair_avg               674 non-null float64\n",
      "comp2_repair_avg               674 non-null float64\n",
      "comp3_repair_avg               674 non-null float64\n",
      "comp4_repair_avg               674 non-null float64\n",
      "Comp_Timelapse_diff_repair     674 non-null float64\n",
      "RecentRepaired                 674 non-null category\n",
      "MostRepairedComponent          674 non-null category\n",
      "Sensor1_max                    674 non-null float64\n",
      "Sensor2_max                    674 non-null float64\n",
      "Sensor3_max                    674 non-null float64\n",
      "Sensor4_max                    674 non-null float64\n",
      "Sensor1_min                    674 non-null float64\n",
      "Sensor2_min                    674 non-null float64\n",
      "Sensor3_min                    674 non-null float64\n",
      "Sensor4_min                    674 non-null float64\n",
      "Sensor1_mean                   674 non-null float64\n",
      "Sensor2_mean                   674 non-null float64\n",
      "Sensor3_mean                   674 non-null float64\n",
      "Sensor4_mean                   674 non-null float64\n",
      "ActionPoint                    674 non-null category\n",
      "dtypes: category(8), float64(28)\n",
      "memory usage: 154.2 KB\n"
     ]
    }
   ],
   "source": [
    "dataset.info()"
   ]
  },
  {
   "cell_type": "markdown",
   "metadata": {},
   "source": [
    "#### 6) Class Proportionality"
   ]
  },
  {
   "cell_type": "code",
   "execution_count": 142,
   "metadata": {
    "colab": {},
    "colab_type": "code",
    "id": "X4O7GvhfTdBc",
    "outputId": "40cfae00-4ea3-4533-8616-60b64785abdc"
   },
   "outputs": [
    {
     "data": {
      "image/png": "[encoded data removed]",
      "text/plain": [
       "<Figure size 432x288 with 1 Axes>"
      ]
     },
     "metadata": {},
     "output_type": "display_data"
    }
   ],
   "source": [
    "class_labels = dataset.ActionPoint\n",
    "sns.countplot(x='ActionPoint', data=dataset)\n",
    "#plt.savefig('class_prop.png')\n",
    "plt.show()"
   ]
  },
  {
   "cell_type": "markdown",
   "metadata": {},
   "source": [
    "#### 7) Encoding the class labels "
   ]
  },
  {
   "cell_type": "code",
   "execution_count": 143,
   "metadata": {
    "colab": {},
    "colab_type": "code",
    "id": "_dPU4lynTdBt"
   },
   "outputs": [],
   "source": [
    "lab_enc = LabelEncoder()\n",
    "lab_enc.fit(dataset['ActionPoint'])\n",
    "dataset['ActionPoint'] = lab_enc.transform(dataset['ActionPoint'])"
   ]
  },
  {
   "cell_type": "code",
   "execution_count": 144,
   "metadata": {
    "colab": {},
    "colab_type": "code",
    "id": "wKsXiCKwTdBv",
    "outputId": "912bc1ff-a2bf-41ab-acce-558f4bb13267"
   },
   "outputs": [
    {
     "data": {
      "text/plain": [
       "0    413\n",
       "2    191\n",
       "1     70\n",
       "Name: ActionPoint, dtype: int64"
      ]
     },
     "execution_count": 144,
     "metadata": {},
     "output_type": "execute_result"
    }
   ],
   "source": [
    "dataset['ActionPoint'].value_counts()"
   ]
  },
  {
   "cell_type": "code",
   "execution_count": 145,
   "metadata": {
    "colab": {},
    "colab_type": "code",
    "id": "fAAnkf-8TdBy",
    "outputId": "f6e8cac0-1fe3-47cf-b5e4-977e004f44f7"
   },
   "outputs": [
    {
     "name": "stdout",
     "output_type": "stream",
     "text": [
      "674\n"
     ]
    }
   ],
   "source": [
    "labels = dataset['ActionPoint']\n",
    "print(len(labels))\n",
    "dataset.drop(labels='ActionPoint', axis=1, inplace=True)"
   ]
  },
  {
   "cell_type": "markdown",
   "metadata": {},
   "source": [
    "#### 8) Dummifying the categorical variables"
   ]
  },
  {
   "cell_type": "code",
   "execution_count": 146,
   "metadata": {
    "colab": {},
    "colab_type": "code",
    "id": "V8V9t8noTdB1",
    "outputId": "c577b4e4-58a0-432c-8859-427a314b2c29"
   },
   "outputs": [
    {
     "name": "stdout",
     "output_type": "stream",
     "text": [
      "['MostOccuredError', 'RecentError', 'RecentRepaired', 'MachineModel', 'MostReplacedComp', 'MostRepairedComponent', 'RecentReplacedComp']\n",
      "['MachineModel', 'RecentError', 'MostOccuredError', 'RecentReplacedComp', 'MostReplacedComp', 'RecentRepaired', 'MostRepairedComponent', 'ActionPoint']\n"
     ]
    }
   ],
   "source": [
    "print(list(set(cat_attr)-set(['ActionPoint'])))\n",
    "print(cat_attr)\n",
    "##dataset_dumm = pd.get_dummies(data=dataset, columns=cat_attr)"
   ]
  },
  {
   "cell_type": "code",
   "execution_count": 147,
   "metadata": {
    "colab": {},
    "colab_type": "code",
    "id": "b_Slq_lfTdB4"
   },
   "outputs": [],
   "source": [
    "dataset_dumm = pd.get_dummies(data=dataset, columns=list(set(cat_attr)-set(['ActionPoint'])))"
   ]
  },
  {
   "cell_type": "code",
   "execution_count": 148,
   "metadata": {
    "colab": {},
    "colab_type": "code",
    "id": "HTP2DgyZTdB7",
    "outputId": "9685ee7a-bd65-4b25-95c0-0d437202cf0a"
   },
   "outputs": [
    {
     "data": {
      "text/plain": [
       "Index(['ServicePeriod', 'error1_avg', 'error2_avg', 'error3_avg', 'error4_avg',\n",
       "       'error5_avg', 'Comp_Timelapse_diff_errors', 'comp_1_replace_avg',\n",
       "       'comp_2_replace_avg', 'comp_3_replace_avg',\n",
       "       'Comp_Timelapse_diff_replace', 'comp1_repair_avg', 'comp2_repair_avg',\n",
       "       'comp3_repair_avg', 'comp4_repair_avg', 'Comp_Timelapse_diff_repair',\n",
       "       'Sensor1_max', 'Sensor2_max', 'Sensor3_max', 'Sensor4_max',\n",
       "       'Sensor1_min', 'Sensor2_min', 'Sensor3_min', 'Sensor4_min',\n",
       "       'Sensor1_mean', 'Sensor2_mean', 'Sensor3_mean', 'Sensor4_mean',\n",
       "       'MostOccuredError_error1', 'MostOccuredError_error2',\n",
       "       'MostOccuredError_error3', 'MostOccuredError_error4',\n",
       "       'MostOccuredError_error5', 'RecentError_error1', 'RecentError_error2',\n",
       "       'RecentError_error3', 'RecentError_error4', 'RecentError_error5',\n",
       "       'RecentRepaired_Component1', 'RecentRepaired_Component2',\n",
       "       'RecentRepaired_Component3', 'RecentRepaired_Component4',\n",
       "       'MachineModel_model1', 'MachineModel_model2', 'MachineModel_model3',\n",
       "       'MachineModel_model4', 'MostReplacedComp_Component1',\n",
       "       'MostReplacedComp_Component2', 'MostReplacedComp_Component3',\n",
       "       'MostReplacedComp_Component4', 'MostRepairedComponent_Component1',\n",
       "       'MostRepairedComponent_Component2', 'MostRepairedComponent_Component3',\n",
       "       'MostRepairedComponent_Component4', 'RecentReplacedComp_Component1',\n",
       "       'RecentReplacedComp_Component2', 'RecentReplacedComp_Component3',\n",
       "       'RecentReplacedComp_Component4'],\n",
       "      dtype='object')"
      ]
     },
     "execution_count": 148,
     "metadata": {},
     "output_type": "execute_result"
    }
   ],
   "source": [
    "dataset_dumm.columns"
   ]
  },
  {
   "cell_type": "code",
   "execution_count": 149,
   "metadata": {
    "scrolled": true
   },
   "outputs": [
    {
     "data": {
      "text/html": [
       "<div>\n",
       "<style scoped>\n",
       "    .dataframe tbody tr th:only-of-type {\n",
       "        vertical-align: middle;\n",
       "    }\n",
       "\n",
       "    .dataframe tbody tr th {\n",
       "        vertical-align: top;\n",
       "    }\n",
       "\n",
       "    .dataframe thead th {\n",
       "        text-align: right;\n",
       "    }\n",
       "</style>\n",
       "<table border=\"1\" class=\"dataframe\">\n",
       "  <thead>\n",
       "    <tr style=\"text-align: right;\">\n",
       "      <th></th>\n",
       "      <th>ServicePeriod</th>\n",
       "      <th>error1_avg</th>\n",
       "      <th>error2_avg</th>\n",
       "      <th>error3_avg</th>\n",
       "      <th>error4_avg</th>\n",
       "      <th>error5_avg</th>\n",
       "      <th>Comp_Timelapse_diff_errors</th>\n",
       "      <th>comp_1_replace_avg</th>\n",
       "      <th>comp_2_replace_avg</th>\n",
       "      <th>comp_3_replace_avg</th>\n",
       "      <th>...</th>\n",
       "      <th>MostReplacedComp_Component3</th>\n",
       "      <th>MostReplacedComp_Component4</th>\n",
       "      <th>MostRepairedComponent_Component1</th>\n",
       "      <th>MostRepairedComponent_Component2</th>\n",
       "      <th>MostRepairedComponent_Component3</th>\n",
       "      <th>MostRepairedComponent_Component4</th>\n",
       "      <th>RecentReplacedComp_Component1</th>\n",
       "      <th>RecentReplacedComp_Component2</th>\n",
       "      <th>RecentReplacedComp_Component3</th>\n",
       "      <th>RecentReplacedComp_Component4</th>\n",
       "    </tr>\n",
       "  </thead>\n",
       "  <tbody>\n",
       "    <tr>\n",
       "      <th>0</th>\n",
       "      <td>21.0</td>\n",
       "      <td>60.00</td>\n",
       "      <td>35.65</td>\n",
       "      <td>40.71</td>\n",
       "      <td>0.0</td>\n",
       "      <td>65.00</td>\n",
       "      <td>13.58</td>\n",
       "      <td>60.0</td>\n",
       "      <td>47.5</td>\n",
       "      <td>0.0</td>\n",
       "      <td>...</td>\n",
       "      <td>0</td>\n",
       "      <td>0</td>\n",
       "      <td>0</td>\n",
       "      <td>1</td>\n",
       "      <td>0</td>\n",
       "      <td>0</td>\n",
       "      <td>0</td>\n",
       "      <td>0</td>\n",
       "      <td>0</td>\n",
       "      <td>1</td>\n",
       "    </tr>\n",
       "    <tr>\n",
       "      <th>1</th>\n",
       "      <td>21.0</td>\n",
       "      <td>0.00</td>\n",
       "      <td>150.00</td>\n",
       "      <td>150.00</td>\n",
       "      <td>95.0</td>\n",
       "      <td>95.00</td>\n",
       "      <td>31.50</td>\n",
       "      <td>0.0</td>\n",
       "      <td>150.0</td>\n",
       "      <td>95.0</td>\n",
       "      <td>...</td>\n",
       "      <td>1</td>\n",
       "      <td>0</td>\n",
       "      <td>0</td>\n",
       "      <td>0</td>\n",
       "      <td>1</td>\n",
       "      <td>0</td>\n",
       "      <td>0</td>\n",
       "      <td>0</td>\n",
       "      <td>1</td>\n",
       "      <td>0</td>\n",
       "    </tr>\n",
       "    <tr>\n",
       "      <th>2</th>\n",
       "      <td>22.0</td>\n",
       "      <td>37.50</td>\n",
       "      <td>90.00</td>\n",
       "      <td>93.54</td>\n",
       "      <td>0.0</td>\n",
       "      <td>85.00</td>\n",
       "      <td>27.27</td>\n",
       "      <td>37.5</td>\n",
       "      <td>135.0</td>\n",
       "      <td>0.0</td>\n",
       "      <td>...</td>\n",
       "      <td>0</td>\n",
       "      <td>1</td>\n",
       "      <td>0</td>\n",
       "      <td>1</td>\n",
       "      <td>0</td>\n",
       "      <td>0</td>\n",
       "      <td>0</td>\n",
       "      <td>1</td>\n",
       "      <td>0</td>\n",
       "      <td>0</td>\n",
       "    </tr>\n",
       "    <tr>\n",
       "      <th>3</th>\n",
       "      <td>22.0</td>\n",
       "      <td>42.41</td>\n",
       "      <td>78.75</td>\n",
       "      <td>78.75</td>\n",
       "      <td>0.0</td>\n",
       "      <td>52.50</td>\n",
       "      <td>18.53</td>\n",
       "      <td>0.0</td>\n",
       "      <td>105.0</td>\n",
       "      <td>0.0</td>\n",
       "      <td>...</td>\n",
       "      <td>0</td>\n",
       "      <td>1</td>\n",
       "      <td>0</td>\n",
       "      <td>0</td>\n",
       "      <td>1</td>\n",
       "      <td>0</td>\n",
       "      <td>0</td>\n",
       "      <td>1</td>\n",
       "      <td>0</td>\n",
       "      <td>0</td>\n",
       "    </tr>\n",
       "    <tr>\n",
       "      <th>4</th>\n",
       "      <td>22.0</td>\n",
       "      <td>44.21</td>\n",
       "      <td>96.44</td>\n",
       "      <td>33.24</td>\n",
       "      <td>0.0</td>\n",
       "      <td>56.25</td>\n",
       "      <td>19.02</td>\n",
       "      <td>45.0</td>\n",
       "      <td>30.0</td>\n",
       "      <td>0.0</td>\n",
       "      <td>...</td>\n",
       "      <td>0</td>\n",
       "      <td>1</td>\n",
       "      <td>0</td>\n",
       "      <td>0</td>\n",
       "      <td>0</td>\n",
       "      <td>1</td>\n",
       "      <td>0</td>\n",
       "      <td>0</td>\n",
       "      <td>0</td>\n",
       "      <td>1</td>\n",
       "    </tr>\n",
       "    <tr>\n",
       "      <th>5</th>\n",
       "      <td>21.0</td>\n",
       "      <td>41.25</td>\n",
       "      <td>19.81</td>\n",
       "      <td>7.57</td>\n",
       "      <td>98.9</td>\n",
       "      <td>40.00</td>\n",
       "      <td>14.13</td>\n",
       "      <td>82.5</td>\n",
       "      <td>0.0</td>\n",
       "      <td>0.0</td>\n",
       "      <td>...</td>\n",
       "      <td>0</td>\n",
       "      <td>1</td>\n",
       "      <td>1</td>\n",
       "      <td>0</td>\n",
       "      <td>0</td>\n",
       "      <td>0</td>\n",
       "      <td>0</td>\n",
       "      <td>0</td>\n",
       "      <td>0</td>\n",
       "      <td>1</td>\n",
       "    </tr>\n",
       "  </tbody>\n",
       "</table>\n",
       "<p>6 rows × 58 columns</p>\n",
       "</div>"
      ],
      "text/plain": [
       "   ServicePeriod  error1_avg  error2_avg  error3_avg  error4_avg  error5_avg  \\\n",
       "0           21.0       60.00       35.65       40.71         0.0       65.00   \n",
       "1           21.0        0.00      150.00      150.00        95.0       95.00   \n",
       "2           22.0       37.50       90.00       93.54         0.0       85.00   \n",
       "3           22.0       42.41       78.75       78.75         0.0       52.50   \n",
       "4           22.0       44.21       96.44       33.24         0.0       56.25   \n",
       "5           21.0       41.25       19.81        7.57        98.9       40.00   \n",
       "\n",
       "   Comp_Timelapse_diff_errors  comp_1_replace_avg  comp_2_replace_avg  \\\n",
       "0                       13.58                60.0                47.5   \n",
       "1                       31.50                 0.0               150.0   \n",
       "2                       27.27                37.5               135.0   \n",
       "3                       18.53                 0.0               105.0   \n",
       "4                       19.02                45.0                30.0   \n",
       "5                       14.13                82.5                 0.0   \n",
       "\n",
       "   comp_3_replace_avg              ...                \\\n",
       "0                 0.0              ...                 \n",
       "1                95.0              ...                 \n",
       "2                 0.0              ...                 \n",
       "3                 0.0              ...                 \n",
       "4                 0.0              ...                 \n",
       "5                 0.0              ...                 \n",
       "\n",
       "   MostReplacedComp_Component3  MostReplacedComp_Component4  \\\n",
       "0                            0                            0   \n",
       "1                            1                            0   \n",
       "2                            0                            1   \n",
       "3                            0                            1   \n",
       "4                            0                            1   \n",
       "5                            0                            1   \n",
       "\n",
       "   MostRepairedComponent_Component1  MostRepairedComponent_Component2  \\\n",
       "0                                 0                                 1   \n",
       "1                                 0                                 0   \n",
       "2                                 0                                 1   \n",
       "3                                 0                                 0   \n",
       "4                                 0                                 0   \n",
       "5                                 1                                 0   \n",
       "\n",
       "   MostRepairedComponent_Component3  MostRepairedComponent_Component4  \\\n",
       "0                                 0                                 0   \n",
       "1                                 1                                 0   \n",
       "2                                 0                                 0   \n",
       "3                                 1                                 0   \n",
       "4                                 0                                 1   \n",
       "5                                 0                                 0   \n",
       "\n",
       "   RecentReplacedComp_Component1  RecentReplacedComp_Component2  \\\n",
       "0                              0                              0   \n",
       "1                              0                              0   \n",
       "2                              0                              1   \n",
       "3                              0                              1   \n",
       "4                              0                              0   \n",
       "5                              0                              0   \n",
       "\n",
       "   RecentReplacedComp_Component3  RecentReplacedComp_Component4  \n",
       "0                              0                              1  \n",
       "1                              1                              0  \n",
       "2                              0                              0  \n",
       "3                              0                              0  \n",
       "4                              0                              1  \n",
       "5                              0                              1  \n",
       "\n",
       "[6 rows x 58 columns]"
      ]
     },
     "execution_count": 149,
     "metadata": {},
     "output_type": "execute_result"
    }
   ],
   "source": [
    "dataset_dumm.head(6)"
   ]
  },
  {
   "cell_type": "markdown",
   "metadata": {},
   "source": [
    "### Model Building"
   ]
  },
  {
   "cell_type": "markdown",
   "metadata": {
    "colab_type": "text",
    "id": "JKMVNS2uTdB_"
   },
   "source": [
    "#### 9) SVM"
   ]
  },
  {
   "cell_type": "code",
   "execution_count": 150,
   "metadata": {
    "colab": {},
    "colab_type": "code",
    "id": "UzRrNp4wTdB_"
   },
   "outputs": [],
   "source": [
    "X_train, X_test, y_train, y_test = train_test_split(dataset_dumm, labels, test_size=0.1, stratify=labels, random_state=0) #0.4"
   ]
  },
  {
   "cell_type": "code",
   "execution_count": 151,
   "metadata": {},
   "outputs": [],
   "source": [
    "svm = SVC() #default rbf kernel"
   ]
  },
  {
   "cell_type": "code",
   "execution_count": 152,
   "metadata": {},
   "outputs": [],
   "source": [
    "svm.fit(X_train, y_train)\n",
    "y_pred = svm.predict(X_test)"
   ]
  },
  {
   "cell_type": "code",
   "execution_count": 153,
   "metadata": {},
   "outputs": [
    {
     "name": "stdout",
     "output_type": "stream",
     "text": [
      "The accuracy of the svc is 0.62\n"
     ]
    }
   ],
   "source": [
    "print(\"The accuracy of the svc is {:.2f}\".format(svm.score(X_test,y_test)))"
   ]
  },
  {
   "cell_type": "code",
   "execution_count": 154,
   "metadata": {},
   "outputs": [
    {
     "name": "stdout",
     "output_type": "stream",
     "text": [
      "[[42  0  0]\n",
      " [ 7  0  0]\n",
      " [19  0  0]]\n"
     ]
    }
   ],
   "source": [
    "print(confusion_matrix(y_test, y_pred))"
   ]
  },
  {
   "cell_type": "code",
   "execution_count": 155,
   "metadata": {},
   "outputs": [
    {
     "name": "stdout",
     "output_type": "stream",
     "text": [
      "             precision    recall  f1-score   support\n",
      "\n",
      "          0       0.62      1.00      0.76        42\n",
      "          1       0.00      0.00      0.00         7\n",
      "          2       0.00      0.00      0.00        19\n",
      "\n",
      "avg / total       0.38      0.62      0.47        68\n",
      "\n"
     ]
    },
    {
     "name": "stderr",
     "output_type": "stream",
     "text": [
      "C:\\Users\\chait\\Anaconda3\\lib\\site-packages\\sklearn\\metrics\\classification.py:1135: UndefinedMetricWarning: Precision and F-score are ill-defined and being set to 0.0 in labels with no predicted samples.\n",
      "  'precision', 'predicted', average, warn_for)\n"
     ]
    }
   ],
   "source": [
    "print(classification_report(y_test, y_pred))"
   ]
  },
  {
   "cell_type": "markdown",
   "metadata": {},
   "source": [
    "#### 10) Prepating the pipeline and hyperparameter tuning with cross validation"
   ]
  },
  {
   "cell_type": "code",
   "execution_count": 156,
   "metadata": {},
   "outputs": [],
   "source": [
    "from sklearn.pipeline import Pipeline\n",
    "from sklearn.preprocessing import StandardScaler"
   ]
  },
  {
   "cell_type": "code",
   "execution_count": 157,
   "metadata": {},
   "outputs": [],
   "source": [
    "#Setting up pipeline\n",
    "steps = [('scaler', StandardScaler()),\n",
    "         ('SVM', SVC())]\n",
    "pipeline = Pipeline(steps)"
   ]
  },
  {
   "cell_type": "markdown",
   "metadata": {},
   "source": [
    "#### 11) Setting up hyper parameters like cost of error, kernel and class weights to address class imbalance"
   ]
  },
  {
   "cell_type": "code",
   "execution_count": 158,
   "metadata": {},
   "outputs": [],
   "source": [
    "#Setting params grid for hyper param tuning\n",
    "kfold = StratifiedKFold(n_splits=5, shuffle=True, random_state=143)\n",
    "param_grid = {'SVM__C': [50, 60, 70, 80, 90], 'SVM__gamma': [0.008, 0.003, 0.001], 'SVM__kernel':['rbf'], \n",
    "              'SVM__class_weight':[{0:0.3, 1:2, 2:0.6}]}\n",
    "svm_grid = GridSearchCV(pipeline, param_grid=param_grid, cv=kfold)"
   ]
  },
  {
   "cell_type": "code",
   "execution_count": 159,
   "metadata": {},
   "outputs": [
    {
     "data": {
      "text/plain": [
       "GridSearchCV(cv=StratifiedKFold(n_splits=5, random_state=143, shuffle=True),\n",
       "       error_score='raise',\n",
       "       estimator=Pipeline(memory=None,\n",
       "     steps=[('scaler', StandardScaler(copy=True, with_mean=True, with_std=True)), ('SVM', SVC(C=1.0, cache_size=200, class_weight=None, coef0=0.0,\n",
       "  decision_function_shape='ovr', degree=3, gamma='auto', kernel='rbf',\n",
       "  max_iter=-1, probability=False, random_state=None, shrinking=True,\n",
       "  tol=0.001, verbose=False))]),\n",
       "       fit_params=None, iid=True, n_jobs=1,\n",
       "       param_grid={'SVM__C': [50, 60, 70, 80, 90], 'SVM__gamma': [0.008, 0.003, 0.001], 'SVM__kernel': ['rbf'], 'SVM__class_weight': [{0: 0.3, 1: 2, 2: 0.6}]},\n",
       "       pre_dispatch='2*n_jobs', refit=True, return_train_score='warn',\n",
       "       scoring=None, verbose=0)"
      ]
     },
     "execution_count": 159,
     "metadata": {},
     "output_type": "execute_result"
    }
   ],
   "source": [
    "svm_grid.fit(X_train, y_train)"
   ]
  },
  {
   "cell_type": "markdown",
   "metadata": {},
   "source": [
    "#### 12) Finding the best estimator from the grid search"
   ]
  },
  {
   "cell_type": "code",
   "execution_count": 160,
   "metadata": {},
   "outputs": [],
   "source": [
    "svm_cv_best = svm_grid.best_estimator_\n",
    "y_pred = svm_cv_best.predict(X_test)"
   ]
  },
  {
   "cell_type": "code",
   "execution_count": 161,
   "metadata": {},
   "outputs": [
    {
     "name": "stdout",
     "output_type": "stream",
     "text": [
      "Accuracy: 0.5735294117647058\n",
      "             precision    recall  f1-score   support\n",
      "\n",
      "          0       0.70      0.67      0.68        42\n",
      "          1       0.17      0.14      0.15         7\n",
      "          2       0.45      0.53      0.49        19\n",
      "\n",
      "avg / total       0.58      0.57      0.57        68\n",
      "\n",
      "Tuned Model Best Parameters: {'SVM__C': 80, 'SVM__class_weight': {0: 0.3, 1: 2, 2: 0.6}, 'SVM__gamma': 0.003, 'SVM__kernel': 'rbf'}\n",
      "Tuned Model Best Score: 0.5907590759075908\n"
     ]
    }
   ],
   "source": [
    "print(\"Accuracy: {}\".format(svm_cv_best.score(X_test, y_test)))\n",
    "print(classification_report(y_test, y_pred))\n",
    "print(\"Tuned Model Best Parameters: {}\".format(svm_grid.best_params_))\n",
    "print(\"Tuned Model Best Score: {}\".format(svm_grid.best_score_))"
   ]
  },
  {
   "cell_type": "markdown",
   "metadata": {},
   "source": [
    "#### 13) Confusion matrix"
   ]
  },
  {
   "cell_type": "code",
   "execution_count": 162,
   "metadata": {},
   "outputs": [],
   "source": [
    "def plot_confusion_matrix(cm, classes,\n",
    "                          title='Confusion matrix',\n",
    "                          cmap=plt.cm.Blues):\n",
    "    \"\"\"\n",
    "    This function prints and plots the confusion matrix.\n",
    "    Normalization can be applied by setting `normalize=True`.\n",
    "    \"\"\"\n",
    "\n",
    "    cm = cm.astype('float') / cm.sum(axis=1)[:, np.newaxis]\n",
    "\n",
    "    plt.imshow(cm, interpolation='nearest', cmap=cmap)\n",
    "    plt.title(title, fontsize=18)\n",
    "    plt.colorbar()\n",
    "    tick_marks = np.arange(len(classes))\n",
    "    plt.xticks(tick_marks, classes, rotation=45, fontsize=12)\n",
    "    plt.yticks(tick_marks, classes, fontsize=12)\n",
    "\n",
    "    fmt = '.05f'\n",
    "    thresh = cm.max() / 2.\n",
    "    for i, j in itertools.product(range(cm.shape[0]), range(cm.shape[1])):\n",
    "        plt.text(j, i, format(cm[i, j], fmt),\n",
    "                 horizontalalignment=\"center\",\n",
    "                 color=\"white\" if cm[i, j] > thresh else \"black\")\n",
    "\n",
    "    plt.ylabel('True label', fontsize=20)\n",
    "    plt.xlabel('Predicted label', fontsize=20)"
   ]
  },
  {
   "cell_type": "code",
   "execution_count": 163,
   "metadata": {},
   "outputs": [
    {
     "data": {
      "image/png": "[encoded data removed]",
      "text/plain": [
       "<Figure size 720x504 with 2 Axes>"
      ]
     },
     "metadata": {},
     "output_type": "display_data"
    }
   ],
   "source": [
    "cnf_matrix = confusion_matrix(y_test , y_pred)\n",
    "plt.figure(figsize=(10,7))\n",
    "plot_confusion_matrix(cnf_matrix, classes=class_labels.unique(), title=\"Confusion matrix\")\n",
    "plt.show()"
   ]
  },
  {
   "cell_type": "markdown",
   "metadata": {},
   "source": [
    "#### OneVsRestClassifier"
   ]
  },
  {
   "cell_type": "markdown",
   "metadata": {},
   "source": [
    "#### Wrapping SVC with OneVsRestClassifier"
   ]
  },
  {
   "cell_type": "code",
   "execution_count": 164,
   "metadata": {},
   "outputs": [],
   "source": [
    "#Setting up pipeline\n",
    "from sklearn.multiclass import OneVsRestClassifier\n",
    "steps_ovr = [('scaler', StandardScaler()),\n",
    "         ('SVM_ovr', OneVsRestClassifier(SVC()))]\n",
    "pipeline_ovr = Pipeline(steps_ovr)"
   ]
  },
  {
   "cell_type": "code",
   "execution_count": 165,
   "metadata": {},
   "outputs": [],
   "source": [
    "#Setting params grid for hyper param tuning\n",
    "param_grid_ovr = {'SVM_ovr__estimator__C': [30, 20, 25], 'SVM_ovr__estimator__gamma': [0.05, 0.01, 0.1], 'SVM_ovr__estimator__kernel':['rbf']}\n",
    "svm_grid_ovr = GridSearchCV(pipeline_ovr, param_grid=param_grid_ovr, cv=kfold, scoring='f1_weighted')"
   ]
  },
  {
   "cell_type": "code",
   "execution_count": 166,
   "metadata": {},
   "outputs": [
    {
     "name": "stderr",
     "output_type": "stream",
     "text": [
      "C:\\Users\\chait\\Anaconda3\\lib\\site-packages\\sklearn\\metrics\\classification.py:1135: UndefinedMetricWarning: F-score is ill-defined and being set to 0.0 in labels with no predicted samples.\n",
      "  'precision', 'predicted', average, warn_for)\n",
      "C:\\Users\\chait\\Anaconda3\\lib\\site-packages\\sklearn\\metrics\\classification.py:1135: UndefinedMetricWarning: F-score is ill-defined and being set to 0.0 in labels with no predicted samples.\n",
      "  'precision', 'predicted', average, warn_for)\n",
      "C:\\Users\\chait\\Anaconda3\\lib\\site-packages\\sklearn\\metrics\\classification.py:1135: UndefinedMetricWarning: F-score is ill-defined and being set to 0.0 in labels with no predicted samples.\n",
      "  'precision', 'predicted', average, warn_for)\n",
      "C:\\Users\\chait\\Anaconda3\\lib\\site-packages\\sklearn\\metrics\\classification.py:1135: UndefinedMetricWarning: F-score is ill-defined and being set to 0.0 in labels with no predicted samples.\n",
      "  'precision', 'predicted', average, warn_for)\n",
      "C:\\Users\\chait\\Anaconda3\\lib\\site-packages\\sklearn\\metrics\\classification.py:1135: UndefinedMetricWarning: F-score is ill-defined and being set to 0.0 in labels with no predicted samples.\n",
      "  'precision', 'predicted', average, warn_for)\n",
      "C:\\Users\\chait\\Anaconda3\\lib\\site-packages\\sklearn\\metrics\\classification.py:1135: UndefinedMetricWarning: F-score is ill-defined and being set to 0.0 in labels with no predicted samples.\n",
      "  'precision', 'predicted', average, warn_for)\n",
      "C:\\Users\\chait\\Anaconda3\\lib\\site-packages\\sklearn\\metrics\\classification.py:1135: UndefinedMetricWarning: F-score is ill-defined and being set to 0.0 in labels with no predicted samples.\n",
      "  'precision', 'predicted', average, warn_for)\n",
      "C:\\Users\\chait\\Anaconda3\\lib\\site-packages\\sklearn\\metrics\\classification.py:1135: UndefinedMetricWarning: F-score is ill-defined and being set to 0.0 in labels with no predicted samples.\n",
      "  'precision', 'predicted', average, warn_for)\n",
      "C:\\Users\\chait\\Anaconda3\\lib\\site-packages\\sklearn\\metrics\\classification.py:1135: UndefinedMetricWarning: F-score is ill-defined and being set to 0.0 in labels with no predicted samples.\n",
      "  'precision', 'predicted', average, warn_for)\n",
      "C:\\Users\\chait\\Anaconda3\\lib\\site-packages\\sklearn\\metrics\\classification.py:1135: UndefinedMetricWarning: F-score is ill-defined and being set to 0.0 in labels with no predicted samples.\n",
      "  'precision', 'predicted', average, warn_for)\n",
      "C:\\Users\\chait\\Anaconda3\\lib\\site-packages\\sklearn\\metrics\\classification.py:1135: UndefinedMetricWarning: F-score is ill-defined and being set to 0.0 in labels with no predicted samples.\n",
      "  'precision', 'predicted', average, warn_for)\n",
      "C:\\Users\\chait\\Anaconda3\\lib\\site-packages\\sklearn\\metrics\\classification.py:1135: UndefinedMetricWarning: F-score is ill-defined and being set to 0.0 in labels with no predicted samples.\n",
      "  'precision', 'predicted', average, warn_for)\n",
      "C:\\Users\\chait\\Anaconda3\\lib\\site-packages\\sklearn\\metrics\\classification.py:1135: UndefinedMetricWarning: F-score is ill-defined and being set to 0.0 in labels with no predicted samples.\n",
      "  'precision', 'predicted', average, warn_for)\n",
      "C:\\Users\\chait\\Anaconda3\\lib\\site-packages\\sklearn\\metrics\\classification.py:1135: UndefinedMetricWarning: F-score is ill-defined and being set to 0.0 in labels with no predicted samples.\n",
      "  'precision', 'predicted', average, warn_for)\n",
      "C:\\Users\\chait\\Anaconda3\\lib\\site-packages\\sklearn\\metrics\\classification.py:1135: UndefinedMetricWarning: F-score is ill-defined and being set to 0.0 in labels with no predicted samples.\n",
      "  'precision', 'predicted', average, warn_for)\n",
      "C:\\Users\\chait\\Anaconda3\\lib\\site-packages\\sklearn\\metrics\\classification.py:1135: UndefinedMetricWarning: F-score is ill-defined and being set to 0.0 in labels with no predicted samples.\n",
      "  'precision', 'predicted', average, warn_for)\n",
      "C:\\Users\\chait\\Anaconda3\\lib\\site-packages\\sklearn\\metrics\\classification.py:1135: UndefinedMetricWarning: F-score is ill-defined and being set to 0.0 in labels with no predicted samples.\n",
      "  'precision', 'predicted', average, warn_for)\n",
      "C:\\Users\\chait\\Anaconda3\\lib\\site-packages\\sklearn\\metrics\\classification.py:1135: UndefinedMetricWarning: F-score is ill-defined and being set to 0.0 in labels with no predicted samples.\n",
      "  'precision', 'predicted', average, warn_for)\n",
      "C:\\Users\\chait\\Anaconda3\\lib\\site-packages\\sklearn\\metrics\\classification.py:1135: UndefinedMetricWarning: F-score is ill-defined and being set to 0.0 in labels with no predicted samples.\n",
      "  'precision', 'predicted', average, warn_for)\n",
      "C:\\Users\\chait\\Anaconda3\\lib\\site-packages\\sklearn\\metrics\\classification.py:1135: UndefinedMetricWarning: F-score is ill-defined and being set to 0.0 in labels with no predicted samples.\n",
      "  'precision', 'predicted', average, warn_for)\n",
      "C:\\Users\\chait\\Anaconda3\\lib\\site-packages\\sklearn\\metrics\\classification.py:1135: UndefinedMetricWarning: F-score is ill-defined and being set to 0.0 in labels with no predicted samples.\n",
      "  'precision', 'predicted', average, warn_for)\n",
      "C:\\Users\\chait\\Anaconda3\\lib\\site-packages\\sklearn\\metrics\\classification.py:1135: UndefinedMetricWarning: F-score is ill-defined and being set to 0.0 in labels with no predicted samples.\n",
      "  'precision', 'predicted', average, warn_for)\n",
      "C:\\Users\\chait\\Anaconda3\\lib\\site-packages\\sklearn\\metrics\\classification.py:1135: UndefinedMetricWarning: F-score is ill-defined and being set to 0.0 in labels with no predicted samples.\n",
      "  'precision', 'predicted', average, warn_for)\n",
      "C:\\Users\\chait\\Anaconda3\\lib\\site-packages\\sklearn\\metrics\\classification.py:1135: UndefinedMetricWarning: F-score is ill-defined and being set to 0.0 in labels with no predicted samples.\n",
      "  'precision', 'predicted', average, warn_for)\n",
      "C:\\Users\\chait\\Anaconda3\\lib\\site-packages\\sklearn\\metrics\\classification.py:1135: UndefinedMetricWarning: F-score is ill-defined and being set to 0.0 in labels with no predicted samples.\n",
      "  'precision', 'predicted', average, warn_for)\n",
      "C:\\Users\\chait\\Anaconda3\\lib\\site-packages\\sklearn\\metrics\\classification.py:1135: UndefinedMetricWarning: F-score is ill-defined and being set to 0.0 in labels with no predicted samples.\n",
      "  'precision', 'predicted', average, warn_for)\n",
      "C:\\Users\\chait\\Anaconda3\\lib\\site-packages\\sklearn\\metrics\\classification.py:1135: UndefinedMetricWarning: F-score is ill-defined and being set to 0.0 in labels with no predicted samples.\n",
      "  'precision', 'predicted', average, warn_for)\n"
     ]
    },
    {
     "data": {
      "text/plain": [
       "GridSearchCV(cv=StratifiedKFold(n_splits=5, random_state=143, shuffle=True),\n",
       "       error_score='raise',\n",
       "       estimator=Pipeline(memory=None,\n",
       "     steps=[('scaler', StandardScaler(copy=True, with_mean=True, with_std=True)), ('SVM_ovr', OneVsRestClassifier(estimator=SVC(C=1.0, cache_size=200, class_weight=None, coef0=0.0,\n",
       "  decision_function_shape='ovr', degree=3, gamma='auto', kernel='rbf',\n",
       "  max_iter=-1, probability=False, random_state=None, shrinking=True,\n",
       "  tol=0.001, verbose=False),\n",
       "          n_jobs=1))]),\n",
       "       fit_params=None, iid=True, n_jobs=1,\n",
       "       param_grid={'SVM_ovr__estimator__C': [30, 20, 25], 'SVM_ovr__estimator__gamma': [0.05, 0.01, 0.1], 'SVM_ovr__estimator__kernel': ['rbf']},\n",
       "       pre_dispatch='2*n_jobs', refit=True, return_train_score='warn',\n",
       "       scoring='f1_weighted', verbose=0)"
      ]
     },
     "execution_count": 166,
     "metadata": {},
     "output_type": "execute_result"
    }
   ],
   "source": [
    "svm_grid_ovr.fit(X_train, y_train)"
   ]
  },
  {
   "cell_type": "code",
   "execution_count": 167,
   "metadata": {},
   "outputs": [],
   "source": [
    "svm_cv_ovr_best = svm_grid_ovr.best_estimator_\n",
    "y_pred_ovr = svm_cv_ovr_best.predict(X_test)"
   ]
  },
  {
   "cell_type": "code",
   "execution_count": 168,
   "metadata": {},
   "outputs": [
    {
     "name": "stdout",
     "output_type": "stream",
     "text": [
      "Accuracy: 0.5588235294117647\n",
      "             precision    recall  f1-score   support\n",
      "\n",
      "          0       0.67      0.69      0.68        42\n",
      "          1       0.20      0.14      0.17         7\n",
      "          2       0.40      0.42      0.41        19\n",
      "\n",
      "avg / total       0.55      0.56      0.55        68\n",
      "\n",
      "Tuned Model Best Parameters: {'SVM_ovr__estimator__C': 25, 'SVM_ovr__estimator__gamma': 0.01, 'SVM_ovr__estimator__kernel': 'rbf'}\n",
      "Tuned Model Best Score: 0.5871538034215975\n"
     ]
    }
   ],
   "source": [
    "print(\"Accuracy: {}\".format(svm_cv_ovr_best.score(X_test, y_test)))\n",
    "print(classification_report(y_test, y_pred_ovr))\n",
    "print(\"Tuned Model Best Parameters: {}\".format(svm_grid_ovr.best_params_))\n",
    "print(\"Tuned Model Best Score: {}\".format(svm_grid_ovr.best_score_))"
   ]
  },
  {
   "cell_type": "markdown",
   "metadata": {},
   "source": [
    "#### Linear SVM"
   ]
  },
  {
   "cell_type": "code",
   "execution_count": 169,
   "metadata": {},
   "outputs": [],
   "source": [
    "from sklearn.svm import LinearSVC"
   ]
  },
  {
   "cell_type": "code",
   "execution_count": 170,
   "metadata": {},
   "outputs": [],
   "source": [
    "#linear_svm = LinearSVC(random_state=143, C=10) #OneVsRestClassifier()\n",
    "steps_linear = [('scaler', StandardScaler()),\n",
    "         ('SVM_linear', LinearSVC())]\n",
    "pipeline_linear = Pipeline(steps_linear)\n",
    "\n",
    "#Setting params grid for hyper param tuning\n",
    "kfold = StratifiedKFold(n_splits=6, shuffle=True, random_state=143)\n",
    "param_grid_linear = {'SVM__C': [20, 30]}\n",
    "linear_svm = GridSearchCV(pipeline, param_grid=param_grid_linear, cv=kfold)"
   ]
  },
  {
   "cell_type": "code",
   "execution_count": 171,
   "metadata": {},
   "outputs": [
    {
     "data": {
      "text/plain": [
       "GridSearchCV(cv=StratifiedKFold(n_splits=6, random_state=143, shuffle=True),\n",
       "       error_score='raise',\n",
       "       estimator=Pipeline(memory=None,\n",
       "     steps=[('scaler', StandardScaler(copy=True, with_mean=True, with_std=True)), ('SVM', SVC(C=1.0, cache_size=200, class_weight=None, coef0=0.0,\n",
       "  decision_function_shape='ovr', degree=3, gamma='auto', kernel='rbf',\n",
       "  max_iter=-1, probability=False, random_state=None, shrinking=True,\n",
       "  tol=0.001, verbose=False))]),\n",
       "       fit_params=None, iid=True, n_jobs=1,\n",
       "       param_grid={'SVM__C': [20, 30]}, pre_dispatch='2*n_jobs',\n",
       "       refit=True, return_train_score='warn', scoring=None, verbose=0)"
      ]
     },
     "execution_count": 171,
     "metadata": {},
     "output_type": "execute_result"
    }
   ],
   "source": [
    "linear_svm.fit(X_train, y_train)"
   ]
  },
  {
   "cell_type": "code",
   "execution_count": 172,
   "metadata": {},
   "outputs": [],
   "source": [
    "y_pred_linear = linear_svm.predict(X_test)"
   ]
  },
  {
   "cell_type": "code",
   "execution_count": 173,
   "metadata": {},
   "outputs": [
    {
     "name": "stdout",
     "output_type": "stream",
     "text": [
      "Accuracy: 0.6029411764705882\n",
      "             precision    recall  f1-score   support\n",
      "\n",
      "          0       0.70      0.76      0.73        42\n",
      "          1       0.25      0.14      0.18         7\n",
      "          2       0.44      0.42      0.43        19\n",
      "\n",
      "avg / total       0.58      0.60      0.59        68\n",
      "\n",
      "Tuned Model Best Parameters: {'SVM__C': 20}\n",
      "Tuned Model Best Score: 0.5891089108910891\n"
     ]
    }
   ],
   "source": [
    "print(\"Accuracy: {}\".format(linear_svm.score(X_test, y_test)))\n",
    "print(classification_report(y_test, y_pred_linear))\n",
    "print(\"Tuned Model Best Parameters: {}\".format(linear_svm.best_params_))\n",
    "print(\"Tuned Model Best Score: {}\".format(linear_svm.best_score_))"
   ]
  },
  {
   "cell_type": "markdown",
   "metadata": {},
   "source": [
    "#### SG classifier"
   ]
  },
  {
   "cell_type": "code",
   "execution_count": 174,
   "metadata": {},
   "outputs": [],
   "source": [
    "steps_sgc = [('scaler', StandardScaler()),\n",
    "         ('SGC', SGDClassifier(n_jobs=-1, random_state=143))]\n",
    "pipeline_sgc = Pipeline(steps_sgc)\n",
    "\n",
    "#Setting params grid for hyper param tuning\n",
    "kfold = StratifiedKFold(n_splits=6, shuffle=True, random_state=143)\n",
    "param_grid_sgc = {'SGC__loss':['modified_huber'], 'SGC__penalty': ['elasticnet'], 'SGC__alpha': [0.2,0.3],\n",
    "                     'SGC__l1_ratio': [0.1], 'SGC__max_iter': [70], 'SGC__learning_rate': ['optimal'], \n",
    "                     'SGC__eta0': [0.1], 'SGC__class_weight': [{0:0.3, 1:3, 2:0.6}]}\n",
    "sgc_cv = GridSearchCV(pipeline_sgc, param_grid=param_grid_sgc, cv=kfold)"
   ]
  },
  {
   "cell_type": "code",
   "execution_count": 175,
   "metadata": {},
   "outputs": [
    {
     "data": {
      "text/plain": [
       "GridSearchCV(cv=StratifiedKFold(n_splits=6, random_state=143, shuffle=True),\n",
       "       error_score='raise',\n",
       "       estimator=Pipeline(memory=None,\n",
       "     steps=[('scaler', StandardScaler(copy=True, with_mean=True, with_std=True)), ('SGC', SGDClassifier(alpha=0.0001, average=False, class_weight=None, epsilon=0.1,\n",
       "       eta0=0.0, fit_intercept=True, l1_ratio=0.15,\n",
       "       learning_rate='optimal', loss='hinge', max_iter=None, n_iter=None,\n",
       "       n_jobs=-1, penalty='l2', power_t=0.5, random_state=143,\n",
       "       shuffle=True, tol=None, verbose=0, warm_start=False))]),\n",
       "       fit_params=None, iid=True, n_jobs=1,\n",
       "       param_grid={'SGC__loss': ['modified_huber'], 'SGC__penalty': ['elasticnet'], 'SGC__alpha': [0.2, 0.3], 'SGC__l1_ratio': [0.1], 'SGC__max_iter': [70], 'SGC__learning_rate': ['optimal'], 'SGC__eta0': [0.1], 'SGC__class_weight': [{0: 0.3, 1: 3, 2: 0.6}]},\n",
       "       pre_dispatch='2*n_jobs', refit=True, return_train_score='warn',\n",
       "       scoring=None, verbose=0)"
      ]
     },
     "execution_count": 175,
     "metadata": {},
     "output_type": "execute_result"
    }
   ],
   "source": [
    "sgc_cv.fit(X_train, y_train)"
   ]
  },
  {
   "cell_type": "code",
   "execution_count": 176,
   "metadata": {},
   "outputs": [],
   "source": [
    "sgc_cv_best = sgc_cv.best_estimator_\n",
    "y_pred_sgc = sgc_cv_best.predict(X_test)"
   ]
  },
  {
   "cell_type": "code",
   "execution_count": 177,
   "metadata": {},
   "outputs": [
    {
     "name": "stdout",
     "output_type": "stream",
     "text": [
      "Accuracy: 0.5588235294117647\n",
      "             precision    recall  f1-score   support\n",
      "\n",
      "          0       0.67      0.67      0.67        42\n",
      "          1       0.20      0.29      0.24         7\n",
      "          2       0.50      0.42      0.46        19\n",
      "\n",
      "avg / total       0.57      0.56      0.56        68\n",
      "\n",
      "Tuned Model Best Parameters: {'SGC__alpha': 0.2, 'SGC__class_weight': {0: 0.3, 1: 3, 2: 0.6}, 'SGC__eta0': 0.1, 'SGC__l1_ratio': 0.1, 'SGC__learning_rate': 'optimal', 'SGC__loss': 'modified_huber', 'SGC__max_iter': 70, 'SGC__penalty': 'elasticnet'}\n",
      "Tuned Model Best Score: 0.5561056105610561\n"
     ]
    }
   ],
   "source": [
    "print(\"Accuracy: {}\".format(sgc_cv_best.score(X_test, y_test)))\n",
    "print(classification_report(y_test, y_pred_sgc))\n",
    "print(\"Tuned Model Best Parameters: {}\".format(sgc_cv.best_params_))\n",
    "print(\"Tuned Model Best Score: {}\".format(sgc_cv.best_score_))"
   ]
  },
  {
   "cell_type": "code",
   "execution_count": 178,
   "metadata": {},
   "outputs": [
    {
     "data": {
      "image/png": "[encoded data removed]",
      "text/plain": [
       "<Figure size 720x504 with 2 Axes>"
      ]
     },
     "metadata": {},
     "output_type": "display_data"
    }
   ],
   "source": [
    "cnf_matrix = confusion_matrix(y_test , y_pred_sgc)\n",
    "plt.figure(figsize=(10,7))\n",
    "plot_confusion_matrix(cnf_matrix, classes=class_labels.unique(), title=\"Confusion matrix\")\n",
    "plt.show()"
   ]
  },
  {
   "cell_type": "markdown",
   "metadata": {},
   "source": [
    "#### One Vs One Classifier"
   ]
  },
  {
   "cell_type": "code",
   "execution_count": 179,
   "metadata": {},
   "outputs": [],
   "source": [
    "from sklearn.multiclass import OneVsOneClassifier"
   ]
  },
  {
   "cell_type": "code",
   "execution_count": 180,
   "metadata": {},
   "outputs": [],
   "source": [
    "linear_svm_ovo = OneVsOneClassifier(LinearSVC(random_state=143, C=20)) #OneVsRestClassifier()"
   ]
  },
  {
   "cell_type": "code",
   "execution_count": 181,
   "metadata": {},
   "outputs": [
    {
     "data": {
      "text/plain": [
       "OneVsOneClassifier(estimator=LinearSVC(C=20, class_weight=None, dual=True, fit_intercept=True,\n",
       "     intercept_scaling=1, loss='squared_hinge', max_iter=1000,\n",
       "     multi_class='ovr', penalty='l2', random_state=143, tol=0.0001,\n",
       "     verbose=0),\n",
       "          n_jobs=1)"
      ]
     },
     "execution_count": 181,
     "metadata": {},
     "output_type": "execute_result"
    }
   ],
   "source": [
    "linear_svm_ovo.fit(X_train, y_train)"
   ]
  },
  {
   "cell_type": "code",
   "execution_count": 182,
   "metadata": {},
   "outputs": [],
   "source": [
    "y_pred_ovo = linear_svm_ovo.predict(X_test)"
   ]
  },
  {
   "cell_type": "code",
   "execution_count": 183,
   "metadata": {},
   "outputs": [
    {
     "name": "stdout",
     "output_type": "stream",
     "text": [
      "Accuracy: 0.6176470588235294\n",
      "             precision    recall  f1-score   support\n",
      "\n",
      "          0       0.62      0.95      0.75        42\n",
      "          1       0.00      0.00      0.00         7\n",
      "          2       0.67      0.11      0.18        19\n",
      "\n",
      "avg / total       0.57      0.62      0.52        68\n",
      "\n"
     ]
    }
   ],
   "source": [
    "print(\"Accuracy: {}\".format(linear_svm_ovo.score(X_test, y_test)))\n",
    "print(classification_report(y_test, y_pred_ovo))"
   ]
  },
  {
   "cell_type": "code",
   "execution_count": null,
   "metadata": {},
   "outputs": [],
   "source": []
  },
  {
   "cell_type": "markdown",
   "metadata": {},
   "source": [
    "### Predicting on test data and writing results back to csv"
   ]
  },
  {
   "cell_type": "code",
   "execution_count": 184,
   "metadata": {},
   "outputs": [],
   "source": [
    "test = pd.read_csv(\"C:\\\\Users\\\\chait\\\\Documents\\\\Insofe\\\\PhD\\\\scripts\\\\my_test.csv\", header=0)"
   ]
  },
  {
   "cell_type": "code",
   "execution_count": 185,
   "metadata": {},
   "outputs": [
    {
     "data": {
      "text/html": [
       "<div>\n",
       "<style scoped>\n",
       "    .dataframe tbody tr th:only-of-type {\n",
       "        vertical-align: middle;\n",
       "    }\n",
       "\n",
       "    .dataframe tbody tr th {\n",
       "        vertical-align: top;\n",
       "    }\n",
       "\n",
       "    .dataframe thead th {\n",
       "        text-align: right;\n",
       "    }\n",
       "</style>\n",
       "<table border=\"1\" class=\"dataframe\">\n",
       "  <thead>\n",
       "    <tr style=\"text-align: right;\">\n",
       "      <th></th>\n",
       "      <th>MachineID</th>\n",
       "      <th>MachineModel</th>\n",
       "      <th>ServicePeriod</th>\n",
       "      <th>error1_avg</th>\n",
       "      <th>error2_avg</th>\n",
       "      <th>error3_avg</th>\n",
       "      <th>error4_avg</th>\n",
       "      <th>error5_avg</th>\n",
       "      <th>Comp_Timelapse_diff_errors</th>\n",
       "      <th>RecentError</th>\n",
       "      <th>...</th>\n",
       "      <th>Sensor3_max</th>\n",
       "      <th>Sensor4_max</th>\n",
       "      <th>Sensor1_min</th>\n",
       "      <th>Sensor2_min</th>\n",
       "      <th>Sensor3_min</th>\n",
       "      <th>Sensor4_min</th>\n",
       "      <th>Sensor1_mean</th>\n",
       "      <th>Sensor2_mean</th>\n",
       "      <th>Sensor3_mean</th>\n",
       "      <th>Sensor4_mean</th>\n",
       "    </tr>\n",
       "  </thead>\n",
       "  <tbody>\n",
       "    <tr>\n",
       "      <th>0</th>\n",
       "      <td>MID11006</td>\n",
       "      <td>model3</td>\n",
       "      <td>21</td>\n",
       "      <td>45.00</td>\n",
       "      <td>20.0</td>\n",
       "      <td>20.0</td>\n",
       "      <td>0.0</td>\n",
       "      <td>50.00</td>\n",
       "      <td>19.00</td>\n",
       "      <td>error1</td>\n",
       "      <td>...</td>\n",
       "      <td>156.43</td>\n",
       "      <td>65.47</td>\n",
       "      <td>113.24</td>\n",
       "      <td>198.63</td>\n",
       "      <td>61.67</td>\n",
       "      <td>21.63</td>\n",
       "      <td>170.78</td>\n",
       "      <td>446.93</td>\n",
       "      <td>100.87</td>\n",
       "      <td>40.55</td>\n",
       "    </tr>\n",
       "    <tr>\n",
       "      <th>1</th>\n",
       "      <td>MID11007</td>\n",
       "      <td>model2</td>\n",
       "      <td>21</td>\n",
       "      <td>30.00</td>\n",
       "      <td>25.9</td>\n",
       "      <td>0.0</td>\n",
       "      <td>60.0</td>\n",
       "      <td>40.00</td>\n",
       "      <td>17.14</td>\n",
       "      <td>error5</td>\n",
       "      <td>...</td>\n",
       "      <td>158.08</td>\n",
       "      <td>64.81</td>\n",
       "      <td>117.10</td>\n",
       "      <td>235.26</td>\n",
       "      <td>57.40</td>\n",
       "      <td>21.46</td>\n",
       "      <td>170.26</td>\n",
       "      <td>446.78</td>\n",
       "      <td>101.52</td>\n",
       "      <td>40.64</td>\n",
       "    </tr>\n",
       "    <tr>\n",
       "      <th>2</th>\n",
       "      <td>MID11039</td>\n",
       "      <td>model3</td>\n",
       "      <td>22</td>\n",
       "      <td>45.00</td>\n",
       "      <td>60.0</td>\n",
       "      <td>60.0</td>\n",
       "      <td>0.0</td>\n",
       "      <td>75.00</td>\n",
       "      <td>23.08</td>\n",
       "      <td>error1</td>\n",
       "      <td>...</td>\n",
       "      <td>152.31</td>\n",
       "      <td>69.27</td>\n",
       "      <td>118.99</td>\n",
       "      <td>217.51</td>\n",
       "      <td>64.54</td>\n",
       "      <td>21.08</td>\n",
       "      <td>170.94</td>\n",
       "      <td>446.35</td>\n",
       "      <td>100.87</td>\n",
       "      <td>40.57</td>\n",
       "    </tr>\n",
       "    <tr>\n",
       "      <th>3</th>\n",
       "      <td>MID11045</td>\n",
       "      <td>model4</td>\n",
       "      <td>21</td>\n",
       "      <td>30.00</td>\n",
       "      <td>25.0</td>\n",
       "      <td>25.0</td>\n",
       "      <td>0.0</td>\n",
       "      <td>62.26</td>\n",
       "      <td>16.98</td>\n",
       "      <td>error5</td>\n",
       "      <td>...</td>\n",
       "      <td>163.95</td>\n",
       "      <td>64.18</td>\n",
       "      <td>115.16</td>\n",
       "      <td>218.24</td>\n",
       "      <td>55.81</td>\n",
       "      <td>20.89</td>\n",
       "      <td>171.17</td>\n",
       "      <td>447.03</td>\n",
       "      <td>100.84</td>\n",
       "      <td>40.36</td>\n",
       "    </tr>\n",
       "    <tr>\n",
       "      <th>4</th>\n",
       "      <td>MID11049</td>\n",
       "      <td>model4</td>\n",
       "      <td>21</td>\n",
       "      <td>0.00</td>\n",
       "      <td>0.0</td>\n",
       "      <td>0.0</td>\n",
       "      <td>38.6</td>\n",
       "      <td>67.50</td>\n",
       "      <td>33.75</td>\n",
       "      <td>error5</td>\n",
       "      <td>...</td>\n",
       "      <td>146.07</td>\n",
       "      <td>64.56</td>\n",
       "      <td>102.39</td>\n",
       "      <td>205.97</td>\n",
       "      <td>66.63</td>\n",
       "      <td>21.34</td>\n",
       "      <td>170.73</td>\n",
       "      <td>446.50</td>\n",
       "      <td>100.61</td>\n",
       "      <td>40.52</td>\n",
       "    </tr>\n",
       "    <tr>\n",
       "      <th>5</th>\n",
       "      <td>MID11052</td>\n",
       "      <td>model3</td>\n",
       "      <td>21</td>\n",
       "      <td>84.43</td>\n",
       "      <td>100.0</td>\n",
       "      <td>100.0</td>\n",
       "      <td>0.0</td>\n",
       "      <td>75.00</td>\n",
       "      <td>22.50</td>\n",
       "      <td>error3</td>\n",
       "      <td>...</td>\n",
       "      <td>147.56</td>\n",
       "      <td>66.28</td>\n",
       "      <td>117.62</td>\n",
       "      <td>234.11</td>\n",
       "      <td>64.21</td>\n",
       "      <td>20.84</td>\n",
       "      <td>170.56</td>\n",
       "      <td>445.97</td>\n",
       "      <td>100.63</td>\n",
       "      <td>40.40</td>\n",
       "    </tr>\n",
       "  </tbody>\n",
       "</table>\n",
       "<p>6 rows × 37 columns</p>\n",
       "</div>"
      ],
      "text/plain": [
       "  MachineID MachineModel  ServicePeriod  error1_avg  error2_avg  error3_avg  \\\n",
       "0  MID11006       model3             21       45.00        20.0        20.0   \n",
       "1  MID11007       model2             21       30.00        25.9         0.0   \n",
       "2  MID11039       model3             22       45.00        60.0        60.0   \n",
       "3  MID11045       model4             21       30.00        25.0        25.0   \n",
       "4  MID11049       model4             21        0.00         0.0         0.0   \n",
       "5  MID11052       model3             21       84.43       100.0       100.0   \n",
       "\n",
       "   error4_avg  error5_avg  Comp_Timelapse_diff_errors RecentError  \\\n",
       "0         0.0       50.00                       19.00      error1   \n",
       "1        60.0       40.00                       17.14      error5   \n",
       "2         0.0       75.00                       23.08      error1   \n",
       "3         0.0       62.26                       16.98      error5   \n",
       "4        38.6       67.50                       33.75      error5   \n",
       "5         0.0       75.00                       22.50      error3   \n",
       "\n",
       "       ...      Sensor3_max  Sensor4_max  Sensor1_min  Sensor2_min  \\\n",
       "0      ...           156.43        65.47       113.24       198.63   \n",
       "1      ...           158.08        64.81       117.10       235.26   \n",
       "2      ...           152.31        69.27       118.99       217.51   \n",
       "3      ...           163.95        64.18       115.16       218.24   \n",
       "4      ...           146.07        64.56       102.39       205.97   \n",
       "5      ...           147.56        66.28       117.62       234.11   \n",
       "\n",
       "   Sensor3_min  Sensor4_min Sensor1_mean Sensor2_mean  Sensor3_mean  \\\n",
       "0        61.67        21.63       170.78       446.93        100.87   \n",
       "1        57.40        21.46       170.26       446.78        101.52   \n",
       "2        64.54        21.08       170.94       446.35        100.87   \n",
       "3        55.81        20.89       171.17       447.03        100.84   \n",
       "4        66.63        21.34       170.73       446.50        100.61   \n",
       "5        64.21        20.84       170.56       445.97        100.63   \n",
       "\n",
       "   Sensor4_mean  \n",
       "0         40.55  \n",
       "1         40.64  \n",
       "2         40.57  \n",
       "3         40.36  \n",
       "4         40.52  \n",
       "5         40.40  \n",
       "\n",
       "[6 rows x 37 columns]"
      ]
     },
     "execution_count": 185,
     "metadata": {},
     "output_type": "execute_result"
    }
   ],
   "source": [
    "test.head(6)"
   ]
  },
  {
   "cell_type": "code",
   "execution_count": 186,
   "metadata": {},
   "outputs": [],
   "source": [
    "test_machineID = test.MachineID.tolist()\n",
    "test.drop(labels=['MachineID', 'comp_4_replace_avg'], axis=1, inplace=True)"
   ]
  },
  {
   "cell_type": "code",
   "execution_count": 187,
   "metadata": {},
   "outputs": [
    {
     "data": {
      "text/plain": [
       "'MID11052'"
      ]
     },
     "execution_count": 187,
     "metadata": {},
     "output_type": "execute_result"
    }
   ],
   "source": [
    "test_machineID[5]"
   ]
  },
  {
   "cell_type": "code",
   "execution_count": 188,
   "metadata": {},
   "outputs": [
    {
     "data": {
      "text/plain": [
       "MachineModel                   0\n",
       "ServicePeriod                  0\n",
       "error1_avg                     0\n",
       "error2_avg                     0\n",
       "error3_avg                     0\n",
       "error4_avg                     0\n",
       "error5_avg                     0\n",
       "Comp_Timelapse_diff_errors     0\n",
       "RecentError                    0\n",
       "MostOccuredError               0\n",
       "comp_1_replace_avg             0\n",
       "comp_2_replace_avg             0\n",
       "comp_3_replace_avg             0\n",
       "Comp_Timelapse_diff_replace    0\n",
       "RecentReplacedComp             0\n",
       "MostReplacedComp               0\n",
       "comp1_repair_avg               0\n",
       "comp2_repair_avg               0\n",
       "comp3_repair_avg               0\n",
       "comp4_repair_avg               0\n",
       "Comp_Timelapse_diff_repair     0\n",
       "RecentRepaired                 0\n",
       "MostRepairedComponent          0\n",
       "Sensor1_max                    0\n",
       "Sensor2_max                    0\n",
       "Sensor3_max                    0\n",
       "Sensor4_max                    0\n",
       "Sensor1_min                    0\n",
       "Sensor2_min                    0\n",
       "Sensor3_min                    0\n",
       "Sensor4_min                    0\n",
       "Sensor1_mean                   0\n",
       "Sensor2_mean                   0\n",
       "Sensor3_mean                   0\n",
       "Sensor4_mean                   0\n",
       "dtype: int64"
      ]
     },
     "execution_count": 188,
     "metadata": {},
     "output_type": "execute_result"
    }
   ],
   "source": [
    "test.isnull().sum(axis=0)"
   ]
  },
  {
   "cell_type": "code",
   "execution_count": 189,
   "metadata": {},
   "outputs": [
    {
     "data": {
      "text/plain": [
       "MachineModel                    object\n",
       "ServicePeriod                    int64\n",
       "error1_avg                     float64\n",
       "error2_avg                     float64\n",
       "error3_avg                     float64\n",
       "error4_avg                     float64\n",
       "error5_avg                     float64\n",
       "Comp_Timelapse_diff_errors     float64\n",
       "RecentError                     object\n",
       "MostOccuredError                object\n",
       "comp_1_replace_avg             float64\n",
       "comp_2_replace_avg             float64\n",
       "comp_3_replace_avg             float64\n",
       "Comp_Timelapse_diff_replace    float64\n",
       "RecentReplacedComp              object\n",
       "MostReplacedComp                object\n",
       "comp1_repair_avg               float64\n",
       "comp2_repair_avg               float64\n",
       "comp3_repair_avg               float64\n",
       "comp4_repair_avg               float64\n",
       "Comp_Timelapse_diff_repair     float64\n",
       "RecentRepaired                  object\n",
       "MostRepairedComponent           object\n",
       "Sensor1_max                    float64\n",
       "Sensor2_max                    float64\n",
       "Sensor3_max                    float64\n",
       "Sensor4_max                    float64\n",
       "Sensor1_min                    float64\n",
       "Sensor2_min                    float64\n",
       "Sensor3_min                    float64\n",
       "Sensor4_min                    float64\n",
       "Sensor1_mean                   float64\n",
       "Sensor2_mean                   float64\n",
       "Sensor3_mean                   float64\n",
       "Sensor4_mean                   float64\n",
       "dtype: object"
      ]
     },
     "execution_count": 189,
     "metadata": {},
     "output_type": "execute_result"
    }
   ],
   "source": [
    "test.dtypes"
   ]
  },
  {
   "cell_type": "code",
   "execution_count": 190,
   "metadata": {},
   "outputs": [],
   "source": [
    "test_columns = dataset.columns\n",
    "test_cat_attr = ['MachineModel', 'RecentError', 'MostOccuredError', 'RecentReplacedComp', 'MostReplacedComp', 'RecentRepaired', 'MostRepairedComponent']\n",
    "#num_attr = ['tenure', 'MonthlyCharges', 'TotalCharges']\n",
    "test_num_attr = list(set(test_columns) - set(test_cat_attr))"
   ]
  },
  {
   "cell_type": "code",
   "execution_count": 191,
   "metadata": {},
   "outputs": [
    {
     "name": "stdout",
     "output_type": "stream",
     "text": [
      "The total columns in the dataset are 35\n",
      "The numerical columns in the dataset are 28\n",
      "The categorical columns in the dataset are 7\n"
     ]
    }
   ],
   "source": [
    "print(\"The total columns in the dataset are {}\".format(len(test_columns)))\n",
    "print(\"The numerical columns in the dataset are {}\".format(len(test_num_attr)))\n",
    "print(\"The categorical columns in the dataset are {}\".format(len(test_cat_attr)))"
   ]
  },
  {
   "cell_type": "code",
   "execution_count": 192,
   "metadata": {},
   "outputs": [],
   "source": [
    "test[test_num_attr] = dataset[test_num_attr].apply(lambda x: x.astype('float64'))"
   ]
  },
  {
   "cell_type": "code",
   "execution_count": 193,
   "metadata": {},
   "outputs": [],
   "source": [
    "test[test_cat_attr] = dataset[test_cat_attr].apply(lambda x: x.astype('category'))"
   ]
  },
  {
   "cell_type": "code",
   "execution_count": 194,
   "metadata": {},
   "outputs": [
    {
     "data": {
      "text/plain": [
       "MachineModel                   category\n",
       "ServicePeriod                   float64\n",
       "error1_avg                      float64\n",
       "error2_avg                      float64\n",
       "error3_avg                      float64\n",
       "error4_avg                      float64\n",
       "error5_avg                      float64\n",
       "Comp_Timelapse_diff_errors      float64\n",
       "RecentError                    category\n",
       "MostOccuredError               category\n",
       "comp_1_replace_avg              float64\n",
       "comp_2_replace_avg              float64\n",
       "comp_3_replace_avg              float64\n",
       "Comp_Timelapse_diff_replace     float64\n",
       "RecentReplacedComp             category\n",
       "MostReplacedComp               category\n",
       "comp1_repair_avg                float64\n",
       "comp2_repair_avg                float64\n",
       "comp3_repair_avg                float64\n",
       "comp4_repair_avg                float64\n",
       "Comp_Timelapse_diff_repair      float64\n",
       "RecentRepaired                 category\n",
       "MostRepairedComponent          category\n",
       "Sensor1_max                     float64\n",
       "Sensor2_max                     float64\n",
       "Sensor3_max                     float64\n",
       "Sensor4_max                     float64\n",
       "Sensor1_min                     float64\n",
       "Sensor2_min                     float64\n",
       "Sensor3_min                     float64\n",
       "Sensor4_min                     float64\n",
       "Sensor1_mean                    float64\n",
       "Sensor2_mean                    float64\n",
       "Sensor3_mean                    float64\n",
       "Sensor4_mean                    float64\n",
       "dtype: object"
      ]
     },
     "execution_count": 194,
     "metadata": {},
     "output_type": "execute_result"
    }
   ],
   "source": [
    "test.dtypes"
   ]
  },
  {
   "cell_type": "code",
   "execution_count": 195,
   "metadata": {},
   "outputs": [],
   "source": [
    "test_dumm = pd.get_dummies(data=test, columns=test_cat_attr)"
   ]
  },
  {
   "cell_type": "code",
   "execution_count": 196,
   "metadata": {},
   "outputs": [
    {
     "data": {
      "text/plain": [
       "Index(['ServicePeriod', 'error1_avg', 'error2_avg', 'error3_avg', 'error4_avg',\n",
       "       'error5_avg', 'Comp_Timelapse_diff_errors', 'comp_1_replace_avg',\n",
       "       'comp_2_replace_avg', 'comp_3_replace_avg',\n",
       "       'Comp_Timelapse_diff_replace', 'comp1_repair_avg', 'comp2_repair_avg',\n",
       "       'comp3_repair_avg', 'comp4_repair_avg', 'Comp_Timelapse_diff_repair',\n",
       "       'Sensor1_max', 'Sensor2_max', 'Sensor3_max', 'Sensor4_max',\n",
       "       'Sensor1_min', 'Sensor2_min', 'Sensor3_min', 'Sensor4_min',\n",
       "       'Sensor1_mean', 'Sensor2_mean', 'Sensor3_mean', 'Sensor4_mean',\n",
       "       'MachineModel_model1', 'MachineModel_model2', 'MachineModel_model3',\n",
       "       'MachineModel_model4', 'RecentError_error1', 'RecentError_error2',\n",
       "       'RecentError_error3', 'RecentError_error4', 'RecentError_error5',\n",
       "       'MostOccuredError_error1', 'MostOccuredError_error2',\n",
       "       'MostOccuredError_error3', 'MostOccuredError_error4',\n",
       "       'MostOccuredError_error5', 'RecentReplacedComp_Component1',\n",
       "       'RecentReplacedComp_Component2', 'RecentReplacedComp_Component3',\n",
       "       'RecentReplacedComp_Component4', 'MostReplacedComp_Component1',\n",
       "       'MostReplacedComp_Component2', 'MostReplacedComp_Component3',\n",
       "       'MostReplacedComp_Component4', 'RecentRepaired_Component1',\n",
       "       'RecentRepaired_Component2', 'RecentRepaired_Component3',\n",
       "       'RecentRepaired_Component4', 'MostRepairedComponent_Component1',\n",
       "       'MostRepairedComponent_Component2', 'MostRepairedComponent_Component3',\n",
       "       'MostRepairedComponent_Component4'],\n",
       "      dtype='object')"
      ]
     },
     "execution_count": 196,
     "metadata": {},
     "output_type": "execute_result"
    }
   ],
   "source": [
    "test_dumm.columns"
   ]
  },
  {
   "cell_type": "code",
   "execution_count": 197,
   "metadata": {},
   "outputs": [],
   "source": [
    "test_preds = sgc_cv_best.predict(test_dumm)"
   ]
  },
  {
   "cell_type": "code",
   "execution_count": 198,
   "metadata": {},
   "outputs": [
    {
     "name": "stdout",
     "output_type": "stream",
     "text": [
      "(326,)\n",
      "(326, 58)\n"
     ]
    }
   ],
   "source": [
    "print(test_preds.shape)\n",
    "print(test_dumm.shape)"
   ]
  },
  {
   "cell_type": "code",
   "execution_count": 199,
   "metadata": {},
   "outputs": [
    {
     "name": "stdout",
     "output_type": "stream",
     "text": [
      "['ComponentReplacement' 'ComponentReplacement' 'ComponentRepair'\n",
      " 'ComponentRepair']\n",
      "['ComponentRepair' 'ComponentReplacement' 'NoIssue']\n"
     ]
    },
    {
     "name": "stderr",
     "output_type": "stream",
     "text": [
      "C:\\Users\\chait\\Anaconda3\\lib\\site-packages\\sklearn\\preprocessing\\label.py:151: DeprecationWarning: The truth value of an empty array is ambiguous. Returning False, but in future this will result in an error. Use `array.size > 0` to check that an array is not empty.\n",
      "  if diff:\n"
     ]
    }
   ],
   "source": [
    "result_preds = lab_enc.inverse_transform(test_preds)\n",
    "print(result_preds[:4])\n",
    "print(np.unique(result_preds))"
   ]
  },
  {
   "cell_type": "code",
   "execution_count": 200,
   "metadata": {},
   "outputs": [
    {
     "name": "stdout",
     "output_type": "stream",
     "text": [
      "Length of test machine ID 326\n",
      "Length of test pred classes 326\n"
     ]
    }
   ],
   "source": [
    "print(\"Length of test machine ID {}\".format(len(test_machineID)))\n",
    "print(\"Length of test pred classes {}\".format(len(result_preds)))"
   ]
  },
  {
   "cell_type": "code",
   "execution_count": 201,
   "metadata": {},
   "outputs": [],
   "source": [
    "test_dict = {'MachineID':test_machineID, 'ActionPoint': result_preds}\n",
    "test_df = pd.DataFrame(test_dict)"
   ]
  },
  {
   "cell_type": "code",
   "execution_count": 202,
   "metadata": {},
   "outputs": [
    {
     "data": {
      "text/html": [
       "<div>\n",
       "<style scoped>\n",
       "    .dataframe tbody tr th:only-of-type {\n",
       "        vertical-align: middle;\n",
       "    }\n",
       "\n",
       "    .dataframe tbody tr th {\n",
       "        vertical-align: top;\n",
       "    }\n",
       "\n",
       "    .dataframe thead th {\n",
       "        text-align: right;\n",
       "    }\n",
       "</style>\n",
       "<table border=\"1\" class=\"dataframe\">\n",
       "  <thead>\n",
       "    <tr style=\"text-align: right;\">\n",
       "      <th></th>\n",
       "      <th>MachineID</th>\n",
       "      <th>ActionPoint</th>\n",
       "    </tr>\n",
       "  </thead>\n",
       "  <tbody>\n",
       "    <tr>\n",
       "      <th>0</th>\n",
       "      <td>MID11006</td>\n",
       "      <td>ComponentReplacement</td>\n",
       "    </tr>\n",
       "    <tr>\n",
       "      <th>1</th>\n",
       "      <td>MID11007</td>\n",
       "      <td>ComponentReplacement</td>\n",
       "    </tr>\n",
       "    <tr>\n",
       "      <th>2</th>\n",
       "      <td>MID11039</td>\n",
       "      <td>ComponentRepair</td>\n",
       "    </tr>\n",
       "    <tr>\n",
       "      <th>3</th>\n",
       "      <td>MID11045</td>\n",
       "      <td>ComponentRepair</td>\n",
       "    </tr>\n",
       "    <tr>\n",
       "      <th>4</th>\n",
       "      <td>MID11049</td>\n",
       "      <td>ComponentRepair</td>\n",
       "    </tr>\n",
       "  </tbody>\n",
       "</table>\n",
       "</div>"
      ],
      "text/plain": [
       "  MachineID           ActionPoint\n",
       "0  MID11006  ComponentReplacement\n",
       "1  MID11007  ComponentReplacement\n",
       "2  MID11039       ComponentRepair\n",
       "3  MID11045       ComponentRepair\n",
       "4  MID11049       ComponentRepair"
      ]
     },
     "execution_count": 202,
     "metadata": {},
     "output_type": "execute_result"
    }
   ],
   "source": [
    "test_df.head(5)"
   ]
  },
  {
   "cell_type": "code",
   "execution_count": 203,
   "metadata": {},
   "outputs": [],
   "source": [
    "#test_df.to_csv('../submissions/svm_cv_noovr.csv', index=False)\n",
    "test_df.to_csv('../submissions/sgc_cv_optimal.csv', index=False)"
   ]
  },
  {
   "cell_type": "markdown",
   "metadata": {},
   "source": [
    "#### Linear SVM - Test Predictions"
   ]
  },
  {
   "cell_type": "code",
   "execution_count": 204,
   "metadata": {},
   "outputs": [],
   "source": [
    "test_linear = linear_svm.predict(test_dumm)"
   ]
  },
  {
   "cell_type": "code",
   "execution_count": 205,
   "metadata": {},
   "outputs": [
    {
     "name": "stdout",
     "output_type": "stream",
     "text": [
      "(326,)\n",
      "(326, 58)\n"
     ]
    }
   ],
   "source": [
    "print(test_linear.shape)\n",
    "print(test_dumm.shape)"
   ]
  },
  {
   "cell_type": "code",
   "execution_count": 206,
   "metadata": {},
   "outputs": [
    {
     "name": "stdout",
     "output_type": "stream",
     "text": [
      "['ComponentRepair' 'ComponentRepair' 'ComponentRepair' 'ComponentRepair'\n",
      " 'ComponentRepair' 'ComponentRepair']\n",
      "['ComponentRepair' 'ComponentReplacement' 'NoIssue']\n"
     ]
    },
    {
     "name": "stderr",
     "output_type": "stream",
     "text": [
      "C:\\Users\\chait\\Anaconda3\\lib\\site-packages\\sklearn\\preprocessing\\label.py:151: DeprecationWarning: The truth value of an empty array is ambiguous. Returning False, but in future this will result in an error. Use `array.size > 0` to check that an array is not empty.\n",
      "  if diff:\n"
     ]
    }
   ],
   "source": [
    "result_preds = lab_enc.inverse_transform(test_linear)\n",
    "print(result_preds[:6])\n",
    "print(np.unique(result_preds))"
   ]
  },
  {
   "cell_type": "code",
   "execution_count": 207,
   "metadata": {},
   "outputs": [],
   "source": [
    "test_dict = {'MachineID':test_machineID, 'ActionPoint': result_preds}\n",
    "test_df = pd.DataFrame(test_dict)"
   ]
  },
  {
   "cell_type": "code",
   "execution_count": 208,
   "metadata": {},
   "outputs": [],
   "source": [
    "test_df.to_csv('../submissions/Linear_svm_cv.csv', index=False)"
   ]
  },
  {
   "cell_type": "code",
   "execution_count": null,
   "metadata": {},
   "outputs": [],
   "source": []
  }
 ],
 "metadata": {
  "accelerator": "GPU",
  "colab": {
   "collapsed_sections": [
    "JKMVNS2uTdB_"
   ],
   "name": "Data PreProcessing_logistic.ipynb",
   "provenance": [],
   "version": "0.3.2"
  },
  "kernelspec": {
   "display_name": "Python 3",
   "language": "python",
   "name": "python3"
  },
  "language_info": {
   "codemirror_mode": {
    "name": "ipython",
    "version": 3
   },
   "file_extension": ".py",
   "mimetype": "text/x-python",
   "name": "python",
   "nbconvert_exporter": "python",
   "pygments_lexer": "ipython3",
   "version": "3.6.4"
  }
 },
 "nbformat": 4,
 "nbformat_minor": 1
}
