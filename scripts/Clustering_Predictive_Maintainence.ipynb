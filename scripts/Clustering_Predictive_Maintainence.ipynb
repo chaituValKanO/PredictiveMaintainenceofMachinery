{
 "cells": [
  {
   "cell_type": "code",
   "execution_count": 264,
   "metadata": {
    "colab": {},
    "colab_type": "code",
    "id": "hXtQxPFgTdAi"
   },
   "outputs": [],
   "source": [
    "import pandas as pd\n",
    "import numpy as np\n",
    "import itertools\n",
    "from sklearn.preprocessing import StandardScaler, Imputer, LabelEncoder\n",
    "from sklearn.cross_validation import train_test_split\n",
    "from sklearn.metrics import classification_report, confusion_matrix, f1_score\n",
    "from sklearn.linear_model import SGDClassifier\n",
    "from sklearn.svm import SVC\n",
    "from sklearn.svm import LinearSVC\n",
    "from sklearn.cluster import KMeans\n",
    "from sklearn.pipeline import Pipeline\n",
    "from sklearn.model_selection import GridSearchCV, cross_val_score, StratifiedKFold\n",
    "import matplotlib.pyplot as plt\n",
    "import seaborn as sns"
   ]
  },
  {
   "cell_type": "markdown",
   "metadata": {
    "colab_type": "text",
    "id": "CQVD-9TqOveW"
   },
   "source": [
    "#### 1) Reading the train dataset created from preprocessing step"
   ]
  },
  {
   "cell_type": "code",
   "execution_count": 265,
   "metadata": {
    "colab": {},
    "colab_type": "code",
    "id": "lSp2NX1fTdAm"
   },
   "outputs": [],
   "source": [
    "dataset = pd.read_csv(\"C:\\\\Users\\\\chait\\\\Documents\\\\Insofe\\\\PhD\\\\scripts\\\\my_train.csv\", header=0)"
   ]
  },
  {
   "cell_type": "markdown",
   "metadata": {
    "colab_type": "text",
    "id": "LclmjThjOvea"
   },
   "source": [
    "#### 2) Exploratory Data Analysis"
   ]
  },
  {
   "cell_type": "code",
   "execution_count": 266,
   "metadata": {
    "colab": {},
    "colab_type": "code",
    "id": "spE3Aw5iTdAp",
    "outputId": "2c2813f3-d732-48d1-c733-05a3d43a01b5"
   },
   "outputs": [
    {
     "name": "stdout",
     "output_type": "stream",
     "text": [
      "<class 'pandas.core.frame.DataFrame'>\n",
      "RangeIndex: 674 entries, 0 to 673\n",
      "Data columns (total 38 columns):\n",
      "MachineID                      674 non-null object\n",
      "MachineModel                   674 non-null object\n",
      "ServicePeriod                  674 non-null int64\n",
      "error1_avg                     674 non-null float64\n",
      "error2_avg                     674 non-null float64\n",
      "error3_avg                     674 non-null float64\n",
      "error4_avg                     674 non-null float64\n",
      "error5_avg                     674 non-null float64\n",
      "Comp_Timelapse_diff_errors     674 non-null float64\n",
      "RecentError                    674 non-null object\n",
      "MostOccuredError               674 non-null object\n",
      "comp_1_replace_avg             674 non-null float64\n",
      "comp_2_replace_avg             674 non-null float64\n",
      "comp_3_replace_avg             674 non-null float64\n",
      "comp_4_replace_avg             674 non-null float64\n",
      "Comp_Timelapse_diff_replace    674 non-null float64\n",
      "RecentReplacedComp             674 non-null object\n",
      "MostReplacedComp               674 non-null object\n",
      "comp1_repair_avg               674 non-null float64\n",
      "comp2_repair_avg               674 non-null float64\n",
      "comp3_repair_avg               674 non-null float64\n",
      "comp4_repair_avg               674 non-null float64\n",
      "Comp_Timelapse_diff_repair     674 non-null float64\n",
      "RecentRepaired                 674 non-null object\n",
      "MostRepairedComponent          674 non-null object\n",
      "Sensor1_max                    674 non-null float64\n",
      "Sensor2_max                    674 non-null float64\n",
      "Sensor3_max                    674 non-null float64\n",
      "Sensor4_max                    674 non-null float64\n",
      "Sensor1_min                    674 non-null float64\n",
      "Sensor2_min                    674 non-null float64\n",
      "Sensor3_min                    674 non-null float64\n",
      "Sensor4_min                    674 non-null float64\n",
      "Sensor1_mean                   674 non-null float64\n",
      "Sensor2_mean                   674 non-null float64\n",
      "Sensor3_mean                   674 non-null float64\n",
      "Sensor4_mean                   674 non-null float64\n",
      "ActionPoint                    674 non-null object\n",
      "dtypes: float64(28), int64(1), object(9)\n",
      "memory usage: 200.2+ KB\n"
     ]
    }
   ],
   "source": [
    "dataset.info()"
   ]
  },
  {
   "cell_type": "code",
   "execution_count": 267,
   "metadata": {
    "colab": {},
    "colab_type": "code",
    "id": "lS6s2GURTdAu",
    "outputId": "16c8cbcb-0876-435c-ce54-377cc9d4d9ff"
   },
   "outputs": [
    {
     "data": {
      "text/html": [
       "<div>\n",
       "<style scoped>\n",
       "    .dataframe tbody tr th:only-of-type {\n",
       "        vertical-align: middle;\n",
       "    }\n",
       "\n",
       "    .dataframe tbody tr th {\n",
       "        vertical-align: top;\n",
       "    }\n",
       "\n",
       "    .dataframe thead th {\n",
       "        text-align: right;\n",
       "    }\n",
       "</style>\n",
       "<table border=\"1\" class=\"dataframe\">\n",
       "  <thead>\n",
       "    <tr style=\"text-align: right;\">\n",
       "      <th></th>\n",
       "      <th>MachineID</th>\n",
       "      <th>MachineModel</th>\n",
       "      <th>ServicePeriod</th>\n",
       "      <th>error1_avg</th>\n",
       "      <th>error2_avg</th>\n",
       "      <th>error3_avg</th>\n",
       "      <th>error4_avg</th>\n",
       "      <th>error5_avg</th>\n",
       "      <th>Comp_Timelapse_diff_errors</th>\n",
       "      <th>RecentError</th>\n",
       "      <th>...</th>\n",
       "      <th>Sensor4_max</th>\n",
       "      <th>Sensor1_min</th>\n",
       "      <th>Sensor2_min</th>\n",
       "      <th>Sensor3_min</th>\n",
       "      <th>Sensor4_min</th>\n",
       "      <th>Sensor1_mean</th>\n",
       "      <th>Sensor2_mean</th>\n",
       "      <th>Sensor3_mean</th>\n",
       "      <th>Sensor4_mean</th>\n",
       "      <th>ActionPoint</th>\n",
       "    </tr>\n",
       "  </thead>\n",
       "  <tbody>\n",
       "    <tr>\n",
       "      <th>0</th>\n",
       "      <td>MID11001</td>\n",
       "      <td>model4</td>\n",
       "      <td>21</td>\n",
       "      <td>60.00</td>\n",
       "      <td>35.65</td>\n",
       "      <td>40.71</td>\n",
       "      <td>0.0</td>\n",
       "      <td>65.00</td>\n",
       "      <td>13.58</td>\n",
       "      <td>error2</td>\n",
       "      <td>...</td>\n",
       "      <td>66.51</td>\n",
       "      <td>113.81</td>\n",
       "      <td>217.34</td>\n",
       "      <td>61.86</td>\n",
       "      <td>21.22</td>\n",
       "      <td>171.26</td>\n",
       "      <td>444.78</td>\n",
       "      <td>100.88</td>\n",
       "      <td>40.33</td>\n",
       "      <td>ComponentRepair</td>\n",
       "    </tr>\n",
       "    <tr>\n",
       "      <th>1</th>\n",
       "      <td>MID11002</td>\n",
       "      <td>model1</td>\n",
       "      <td>21</td>\n",
       "      <td>0.00</td>\n",
       "      <td>150.00</td>\n",
       "      <td>150.00</td>\n",
       "      <td>95.0</td>\n",
       "      <td>95.00</td>\n",
       "      <td>31.50</td>\n",
       "      <td>error5</td>\n",
       "      <td>...</td>\n",
       "      <td>73.26</td>\n",
       "      <td>108.43</td>\n",
       "      <td>208.67</td>\n",
       "      <td>62.02</td>\n",
       "      <td>21.12</td>\n",
       "      <td>170.38</td>\n",
       "      <td>445.79</td>\n",
       "      <td>101.04</td>\n",
       "      <td>40.49</td>\n",
       "      <td>ComponentRepair</td>\n",
       "    </tr>\n",
       "    <tr>\n",
       "      <th>2</th>\n",
       "      <td>MID11003</td>\n",
       "      <td>model3</td>\n",
       "      <td>22</td>\n",
       "      <td>37.50</td>\n",
       "      <td>90.00</td>\n",
       "      <td>93.54</td>\n",
       "      <td>0.0</td>\n",
       "      <td>85.00</td>\n",
       "      <td>27.27</td>\n",
       "      <td>error3</td>\n",
       "      <td>...</td>\n",
       "      <td>62.11</td>\n",
       "      <td>111.57</td>\n",
       "      <td>244.51</td>\n",
       "      <td>51.25</td>\n",
       "      <td>21.25</td>\n",
       "      <td>170.77</td>\n",
       "      <td>446.16</td>\n",
       "      <td>100.60</td>\n",
       "      <td>40.54</td>\n",
       "      <td>NoIssue</td>\n",
       "    </tr>\n",
       "    <tr>\n",
       "      <th>3</th>\n",
       "      <td>MID11004</td>\n",
       "      <td>model4</td>\n",
       "      <td>22</td>\n",
       "      <td>42.41</td>\n",
       "      <td>78.75</td>\n",
       "      <td>78.75</td>\n",
       "      <td>0.0</td>\n",
       "      <td>52.50</td>\n",
       "      <td>18.53</td>\n",
       "      <td>error2</td>\n",
       "      <td>...</td>\n",
       "      <td>63.70</td>\n",
       "      <td>111.27</td>\n",
       "      <td>238.93</td>\n",
       "      <td>61.19</td>\n",
       "      <td>22.79</td>\n",
       "      <td>170.74</td>\n",
       "      <td>445.82</td>\n",
       "      <td>100.78</td>\n",
       "      <td>40.59</td>\n",
       "      <td>NoIssue</td>\n",
       "    </tr>\n",
       "    <tr>\n",
       "      <th>4</th>\n",
       "      <td>MID11005</td>\n",
       "      <td>model3</td>\n",
       "      <td>22</td>\n",
       "      <td>44.21</td>\n",
       "      <td>96.44</td>\n",
       "      <td>33.24</td>\n",
       "      <td>0.0</td>\n",
       "      <td>56.25</td>\n",
       "      <td>19.02</td>\n",
       "      <td>error2</td>\n",
       "      <td>...</td>\n",
       "      <td>66.24</td>\n",
       "      <td>110.95</td>\n",
       "      <td>242.30</td>\n",
       "      <td>64.10</td>\n",
       "      <td>22.16</td>\n",
       "      <td>170.82</td>\n",
       "      <td>446.06</td>\n",
       "      <td>100.76</td>\n",
       "      <td>40.57</td>\n",
       "      <td>ComponentRepair</td>\n",
       "    </tr>\n",
       "  </tbody>\n",
       "</table>\n",
       "<p>5 rows × 38 columns</p>\n",
       "</div>"
      ],
      "text/plain": [
       "  MachineID MachineModel  ServicePeriod  error1_avg  error2_avg  error3_avg  \\\n",
       "0  MID11001       model4             21       60.00       35.65       40.71   \n",
       "1  MID11002       model1             21        0.00      150.00      150.00   \n",
       "2  MID11003       model3             22       37.50       90.00       93.54   \n",
       "3  MID11004       model4             22       42.41       78.75       78.75   \n",
       "4  MID11005       model3             22       44.21       96.44       33.24   \n",
       "\n",
       "   error4_avg  error5_avg  Comp_Timelapse_diff_errors RecentError  \\\n",
       "0         0.0       65.00                       13.58      error2   \n",
       "1        95.0       95.00                       31.50      error5   \n",
       "2         0.0       85.00                       27.27      error3   \n",
       "3         0.0       52.50                       18.53      error2   \n",
       "4         0.0       56.25                       19.02      error2   \n",
       "\n",
       "        ...        Sensor4_max  Sensor1_min  Sensor2_min  Sensor3_min  \\\n",
       "0       ...              66.51       113.81       217.34        61.86   \n",
       "1       ...              73.26       108.43       208.67        62.02   \n",
       "2       ...              62.11       111.57       244.51        51.25   \n",
       "3       ...              63.70       111.27       238.93        61.19   \n",
       "4       ...              66.24       110.95       242.30        64.10   \n",
       "\n",
       "   Sensor4_min  Sensor1_mean Sensor2_mean Sensor3_mean  Sensor4_mean  \\\n",
       "0        21.22        171.26       444.78       100.88         40.33   \n",
       "1        21.12        170.38       445.79       101.04         40.49   \n",
       "2        21.25        170.77       446.16       100.60         40.54   \n",
       "3        22.79        170.74       445.82       100.78         40.59   \n",
       "4        22.16        170.82       446.06       100.76         40.57   \n",
       "\n",
       "       ActionPoint  \n",
       "0  ComponentRepair  \n",
       "1  ComponentRepair  \n",
       "2          NoIssue  \n",
       "3          NoIssue  \n",
       "4  ComponentRepair  \n",
       "\n",
       "[5 rows x 38 columns]"
      ]
     },
     "execution_count": 267,
     "metadata": {},
     "output_type": "execute_result"
    }
   ],
   "source": [
    "dataset.head()"
   ]
  },
  {
   "cell_type": "code",
   "execution_count": 268,
   "metadata": {
    "colab": {},
    "colab_type": "code",
    "id": "I5IugoUtTdAy",
    "outputId": "633de86a-a632-478f-f8f0-c7c880f67585"
   },
   "outputs": [
    {
     "data": {
      "text/html": [
       "<div>\n",
       "<style scoped>\n",
       "    .dataframe tbody tr th:only-of-type {\n",
       "        vertical-align: middle;\n",
       "    }\n",
       "\n",
       "    .dataframe tbody tr th {\n",
       "        vertical-align: top;\n",
       "    }\n",
       "\n",
       "    .dataframe thead th {\n",
       "        text-align: right;\n",
       "    }\n",
       "</style>\n",
       "<table border=\"1\" class=\"dataframe\">\n",
       "  <thead>\n",
       "    <tr style=\"text-align: right;\">\n",
       "      <th></th>\n",
       "      <th>MachineID</th>\n",
       "      <th>MachineModel</th>\n",
       "      <th>ServicePeriod</th>\n",
       "      <th>error1_avg</th>\n",
       "      <th>error2_avg</th>\n",
       "      <th>error3_avg</th>\n",
       "      <th>error4_avg</th>\n",
       "      <th>error5_avg</th>\n",
       "      <th>Comp_Timelapse_diff_errors</th>\n",
       "      <th>RecentError</th>\n",
       "      <th>...</th>\n",
       "      <th>Sensor4_max</th>\n",
       "      <th>Sensor1_min</th>\n",
       "      <th>Sensor2_min</th>\n",
       "      <th>Sensor3_min</th>\n",
       "      <th>Sensor4_min</th>\n",
       "      <th>Sensor1_mean</th>\n",
       "      <th>Sensor2_mean</th>\n",
       "      <th>Sensor3_mean</th>\n",
       "      <th>Sensor4_mean</th>\n",
       "      <th>ActionPoint</th>\n",
       "    </tr>\n",
       "  </thead>\n",
       "  <tbody>\n",
       "    <tr>\n",
       "      <th>669</th>\n",
       "      <td>MID11845</td>\n",
       "      <td>model2</td>\n",
       "      <td>5</td>\n",
       "      <td>18.78</td>\n",
       "      <td>60.00</td>\n",
       "      <td>60.0</td>\n",
       "      <td>82.50</td>\n",
       "      <td>0.0</td>\n",
       "      <td>23.57</td>\n",
       "      <td>error4</td>\n",
       "      <td>...</td>\n",
       "      <td>64.44</td>\n",
       "      <td>116.03</td>\n",
       "      <td>226.84</td>\n",
       "      <td>63.30</td>\n",
       "      <td>22.10</td>\n",
       "      <td>170.90</td>\n",
       "      <td>447.85</td>\n",
       "      <td>101.06</td>\n",
       "      <td>40.20</td>\n",
       "      <td>NoIssue</td>\n",
       "    </tr>\n",
       "    <tr>\n",
       "      <th>670</th>\n",
       "      <td>MID11846</td>\n",
       "      <td>model3</td>\n",
       "      <td>4</td>\n",
       "      <td>44.88</td>\n",
       "      <td>45.00</td>\n",
       "      <td>45.0</td>\n",
       "      <td>23.71</td>\n",
       "      <td>0.0</td>\n",
       "      <td>15.50</td>\n",
       "      <td>error1</td>\n",
       "      <td>...</td>\n",
       "      <td>66.57</td>\n",
       "      <td>109.56</td>\n",
       "      <td>159.59</td>\n",
       "      <td>64.30</td>\n",
       "      <td>17.12</td>\n",
       "      <td>170.66</td>\n",
       "      <td>447.11</td>\n",
       "      <td>100.68</td>\n",
       "      <td>40.26</td>\n",
       "      <td>ComponentRepair</td>\n",
       "    </tr>\n",
       "    <tr>\n",
       "      <th>671</th>\n",
       "      <td>MID11847</td>\n",
       "      <td>model2</td>\n",
       "      <td>3</td>\n",
       "      <td>72.49</td>\n",
       "      <td>26.21</td>\n",
       "      <td>40.0</td>\n",
       "      <td>55.00</td>\n",
       "      <td>0.0</td>\n",
       "      <td>15.29</td>\n",
       "      <td>error2</td>\n",
       "      <td>...</td>\n",
       "      <td>66.77</td>\n",
       "      <td>119.70</td>\n",
       "      <td>223.41</td>\n",
       "      <td>58.28</td>\n",
       "      <td>23.15</td>\n",
       "      <td>170.72</td>\n",
       "      <td>446.87</td>\n",
       "      <td>101.42</td>\n",
       "      <td>40.26</td>\n",
       "      <td>ComponentReplacement</td>\n",
       "    </tr>\n",
       "    <tr>\n",
       "      <th>672</th>\n",
       "      <td>MID11848</td>\n",
       "      <td>model4</td>\n",
       "      <td>4</td>\n",
       "      <td>70.00</td>\n",
       "      <td>0.00</td>\n",
       "      <td>7.6</td>\n",
       "      <td>17.19</td>\n",
       "      <td>0.0</td>\n",
       "      <td>31.69</td>\n",
       "      <td>error1</td>\n",
       "      <td>...</td>\n",
       "      <td>62.87</td>\n",
       "      <td>117.16</td>\n",
       "      <td>160.57</td>\n",
       "      <td>62.36</td>\n",
       "      <td>20.97</td>\n",
       "      <td>170.80</td>\n",
       "      <td>447.65</td>\n",
       "      <td>100.49</td>\n",
       "      <td>40.26</td>\n",
       "      <td>ComponentRepair</td>\n",
       "    </tr>\n",
       "    <tr>\n",
       "      <th>673</th>\n",
       "      <td>MID11850</td>\n",
       "      <td>model3</td>\n",
       "      <td>3</td>\n",
       "      <td>39.10</td>\n",
       "      <td>54.00</td>\n",
       "      <td>54.0</td>\n",
       "      <td>0.00</td>\n",
       "      <td>0.0</td>\n",
       "      <td>21.39</td>\n",
       "      <td>error1</td>\n",
       "      <td>...</td>\n",
       "      <td>61.84</td>\n",
       "      <td>114.43</td>\n",
       "      <td>224.84</td>\n",
       "      <td>61.71</td>\n",
       "      <td>20.54</td>\n",
       "      <td>170.67</td>\n",
       "      <td>444.25</td>\n",
       "      <td>100.78</td>\n",
       "      <td>40.15</td>\n",
       "      <td>ComponentRepair</td>\n",
       "    </tr>\n",
       "  </tbody>\n",
       "</table>\n",
       "<p>5 rows × 38 columns</p>\n",
       "</div>"
      ],
      "text/plain": [
       "    MachineID MachineModel  ServicePeriod  error1_avg  error2_avg  error3_avg  \\\n",
       "669  MID11845       model2              5       18.78       60.00        60.0   \n",
       "670  MID11846       model3              4       44.88       45.00        45.0   \n",
       "671  MID11847       model2              3       72.49       26.21        40.0   \n",
       "672  MID11848       model4              4       70.00        0.00         7.6   \n",
       "673  MID11850       model3              3       39.10       54.00        54.0   \n",
       "\n",
       "     error4_avg  error5_avg  Comp_Timelapse_diff_errors RecentError  \\\n",
       "669       82.50         0.0                       23.57      error4   \n",
       "670       23.71         0.0                       15.50      error1   \n",
       "671       55.00         0.0                       15.29      error2   \n",
       "672       17.19         0.0                       31.69      error1   \n",
       "673        0.00         0.0                       21.39      error1   \n",
       "\n",
       "             ...          Sensor4_max  Sensor1_min  Sensor2_min  Sensor3_min  \\\n",
       "669          ...                64.44       116.03       226.84        63.30   \n",
       "670          ...                66.57       109.56       159.59        64.30   \n",
       "671          ...                66.77       119.70       223.41        58.28   \n",
       "672          ...                62.87       117.16       160.57        62.36   \n",
       "673          ...                61.84       114.43       224.84        61.71   \n",
       "\n",
       "     Sensor4_min  Sensor1_mean Sensor2_mean Sensor3_mean  Sensor4_mean  \\\n",
       "669        22.10        170.90       447.85       101.06         40.20   \n",
       "670        17.12        170.66       447.11       100.68         40.26   \n",
       "671        23.15        170.72       446.87       101.42         40.26   \n",
       "672        20.97        170.80       447.65       100.49         40.26   \n",
       "673        20.54        170.67       444.25       100.78         40.15   \n",
       "\n",
       "              ActionPoint  \n",
       "669               NoIssue  \n",
       "670       ComponentRepair  \n",
       "671  ComponentReplacement  \n",
       "672       ComponentRepair  \n",
       "673       ComponentRepair  \n",
       "\n",
       "[5 rows x 38 columns]"
      ]
     },
     "execution_count": 268,
     "metadata": {},
     "output_type": "execute_result"
    }
   ],
   "source": [
    "dataset.tail(5)"
   ]
  },
  {
   "cell_type": "code",
   "execution_count": 269,
   "metadata": {
    "colab": {},
    "colab_type": "code",
    "id": "OrSr08RCTdA1",
    "outputId": "dd17cc69-0654-4a4c-dba3-d95d1a50b4ae"
   },
   "outputs": [
    {
     "data": {
      "text/html": [
       "<div>\n",
       "<style scoped>\n",
       "    .dataframe tbody tr th:only-of-type {\n",
       "        vertical-align: middle;\n",
       "    }\n",
       "\n",
       "    .dataframe tbody tr th {\n",
       "        vertical-align: top;\n",
       "    }\n",
       "\n",
       "    .dataframe thead th {\n",
       "        text-align: right;\n",
       "    }\n",
       "</style>\n",
       "<table border=\"1\" class=\"dataframe\">\n",
       "  <thead>\n",
       "    <tr style=\"text-align: right;\">\n",
       "      <th></th>\n",
       "      <th>ServicePeriod</th>\n",
       "      <th>error1_avg</th>\n",
       "      <th>error2_avg</th>\n",
       "      <th>error3_avg</th>\n",
       "      <th>error4_avg</th>\n",
       "      <th>error5_avg</th>\n",
       "      <th>Comp_Timelapse_diff_errors</th>\n",
       "      <th>comp_1_replace_avg</th>\n",
       "      <th>comp_2_replace_avg</th>\n",
       "      <th>comp_3_replace_avg</th>\n",
       "      <th>...</th>\n",
       "      <th>Sensor3_max</th>\n",
       "      <th>Sensor4_max</th>\n",
       "      <th>Sensor1_min</th>\n",
       "      <th>Sensor2_min</th>\n",
       "      <th>Sensor3_min</th>\n",
       "      <th>Sensor4_min</th>\n",
       "      <th>Sensor1_mean</th>\n",
       "      <th>Sensor2_mean</th>\n",
       "      <th>Sensor3_mean</th>\n",
       "      <th>Sensor4_mean</th>\n",
       "    </tr>\n",
       "  </thead>\n",
       "  <tbody>\n",
       "    <tr>\n",
       "      <th>count</th>\n",
       "      <td>674.000000</td>\n",
       "      <td>674.000000</td>\n",
       "      <td>674.000000</td>\n",
       "      <td>674.000000</td>\n",
       "      <td>674.000000</td>\n",
       "      <td>674.000000</td>\n",
       "      <td>674.000000</td>\n",
       "      <td>674.000000</td>\n",
       "      <td>674.000000</td>\n",
       "      <td>674.000000</td>\n",
       "      <td>...</td>\n",
       "      <td>674.000000</td>\n",
       "      <td>674.000000</td>\n",
       "      <td>674.000000</td>\n",
       "      <td>674.000000</td>\n",
       "      <td>674.000000</td>\n",
       "      <td>674.000000</td>\n",
       "      <td>674.000000</td>\n",
       "      <td>674.000000</td>\n",
       "      <td>674.000000</td>\n",
       "      <td>674.000000</td>\n",
       "    </tr>\n",
       "    <tr>\n",
       "      <th>mean</th>\n",
       "      <td>13.091988</td>\n",
       "      <td>44.113991</td>\n",
       "      <td>47.677389</td>\n",
       "      <td>46.326365</td>\n",
       "      <td>19.600445</td>\n",
       "      <td>25.634139</td>\n",
       "      <td>26.116884</td>\n",
       "      <td>37.440282</td>\n",
       "      <td>44.943234</td>\n",
       "      <td>18.009629</td>\n",
       "      <td>...</td>\n",
       "      <td>155.885697</td>\n",
       "      <td>64.889674</td>\n",
       "      <td>113.157478</td>\n",
       "      <td>217.153442</td>\n",
       "      <td>62.113843</td>\n",
       "      <td>21.118279</td>\n",
       "      <td>170.758917</td>\n",
       "      <td>446.624199</td>\n",
       "      <td>100.842478</td>\n",
       "      <td>40.365356</td>\n",
       "    </tr>\n",
       "    <tr>\n",
       "      <th>std</th>\n",
       "      <td>5.288455</td>\n",
       "      <td>34.573864</td>\n",
       "      <td>31.041506</td>\n",
       "      <td>31.879803</td>\n",
       "      <td>30.278308</td>\n",
       "      <td>33.797062</td>\n",
       "      <td>9.207301</td>\n",
       "      <td>39.119877</td>\n",
       "      <td>36.152294</td>\n",
       "      <td>31.166810</td>\n",
       "      <td>...</td>\n",
       "      <td>7.704799</td>\n",
       "      <td>2.921304</td>\n",
       "      <td>4.886335</td>\n",
       "      <td>26.071793</td>\n",
       "      <td>3.058292</td>\n",
       "      <td>1.519342</td>\n",
       "      <td>0.229260</td>\n",
       "      <td>0.889770</td>\n",
       "      <td>0.283153</td>\n",
       "      <td>0.125382</td>\n",
       "    </tr>\n",
       "    <tr>\n",
       "      <th>min</th>\n",
       "      <td>3.000000</td>\n",
       "      <td>0.000000</td>\n",
       "      <td>0.000000</td>\n",
       "      <td>0.000000</td>\n",
       "      <td>0.000000</td>\n",
       "      <td>0.000000</td>\n",
       "      <td>0.000000</td>\n",
       "      <td>0.000000</td>\n",
       "      <td>0.000000</td>\n",
       "      <td>0.000000</td>\n",
       "      <td>...</td>\n",
       "      <td>144.120000</td>\n",
       "      <td>58.490000</td>\n",
       "      <td>87.780000</td>\n",
       "      <td>102.170000</td>\n",
       "      <td>50.540000</td>\n",
       "      <td>14.640000</td>\n",
       "      <td>170.140000</td>\n",
       "      <td>443.760000</td>\n",
       "      <td>100.240000</td>\n",
       "      <td>40.090000</td>\n",
       "    </tr>\n",
       "    <tr>\n",
       "      <th>25%</th>\n",
       "      <td>9.000000</td>\n",
       "      <td>5.225000</td>\n",
       "      <td>29.580000</td>\n",
       "      <td>23.907500</td>\n",
       "      <td>0.000000</td>\n",
       "      <td>0.000000</td>\n",
       "      <td>20.000000</td>\n",
       "      <td>0.000000</td>\n",
       "      <td>0.000000</td>\n",
       "      <td>0.000000</td>\n",
       "      <td>...</td>\n",
       "      <td>150.752500</td>\n",
       "      <td>62.962500</td>\n",
       "      <td>110.627500</td>\n",
       "      <td>205.285000</td>\n",
       "      <td>60.420000</td>\n",
       "      <td>20.342500</td>\n",
       "      <td>170.610000</td>\n",
       "      <td>446.010000</td>\n",
       "      <td>100.650000</td>\n",
       "      <td>40.270000</td>\n",
       "    </tr>\n",
       "    <tr>\n",
       "      <th>50%</th>\n",
       "      <td>13.000000</td>\n",
       "      <td>45.000000</td>\n",
       "      <td>48.825000</td>\n",
       "      <td>48.000000</td>\n",
       "      <td>0.000000</td>\n",
       "      <td>0.000000</td>\n",
       "      <td>24.230000</td>\n",
       "      <td>35.000000</td>\n",
       "      <td>48.375000</td>\n",
       "      <td>0.000000</td>\n",
       "      <td>...</td>\n",
       "      <td>153.925000</td>\n",
       "      <td>64.290000</td>\n",
       "      <td>113.830000</td>\n",
       "      <td>221.575000</td>\n",
       "      <td>62.510000</td>\n",
       "      <td>21.265000</td>\n",
       "      <td>170.760000</td>\n",
       "      <td>446.605000</td>\n",
       "      <td>100.770000</td>\n",
       "      <td>40.340000</td>\n",
       "    </tr>\n",
       "    <tr>\n",
       "      <th>75%</th>\n",
       "      <td>18.000000</td>\n",
       "      <td>65.732500</td>\n",
       "      <td>67.500000</td>\n",
       "      <td>67.097500</td>\n",
       "      <td>45.000000</td>\n",
       "      <td>57.000000</td>\n",
       "      <td>30.000000</td>\n",
       "      <td>69.375000</td>\n",
       "      <td>67.500000</td>\n",
       "      <td>45.000000</td>\n",
       "      <td>...</td>\n",
       "      <td>158.175000</td>\n",
       "      <td>66.025000</td>\n",
       "      <td>116.487500</td>\n",
       "      <td>235.415000</td>\n",
       "      <td>64.380000</td>\n",
       "      <td>22.147500</td>\n",
       "      <td>170.900000</td>\n",
       "      <td>447.260000</td>\n",
       "      <td>100.990000</td>\n",
       "      <td>40.460000</td>\n",
       "    </tr>\n",
       "    <tr>\n",
       "      <th>max</th>\n",
       "      <td>22.000000</td>\n",
       "      <td>147.380000</td>\n",
       "      <td>157.500000</td>\n",
       "      <td>157.500000</td>\n",
       "      <td>135.000000</td>\n",
       "      <td>135.000000</td>\n",
       "      <td>95.390000</td>\n",
       "      <td>142.500000</td>\n",
       "      <td>162.060000</td>\n",
       "      <td>135.000000</td>\n",
       "      <td>...</td>\n",
       "      <td>195.270000</td>\n",
       "      <td>79.110000</td>\n",
       "      <td>123.610000</td>\n",
       "      <td>269.030000</td>\n",
       "      <td>67.840000</td>\n",
       "      <td>24.290000</td>\n",
       "      <td>171.530000</td>\n",
       "      <td>449.480000</td>\n",
       "      <td>101.660000</td>\n",
       "      <td>40.680000</td>\n",
       "    </tr>\n",
       "  </tbody>\n",
       "</table>\n",
       "<p>8 rows × 29 columns</p>\n",
       "</div>"
      ],
      "text/plain": [
       "       ServicePeriod  error1_avg  error2_avg  error3_avg  error4_avg  \\\n",
       "count     674.000000  674.000000  674.000000  674.000000  674.000000   \n",
       "mean       13.091988   44.113991   47.677389   46.326365   19.600445   \n",
       "std         5.288455   34.573864   31.041506   31.879803   30.278308   \n",
       "min         3.000000    0.000000    0.000000    0.000000    0.000000   \n",
       "25%         9.000000    5.225000   29.580000   23.907500    0.000000   \n",
       "50%        13.000000   45.000000   48.825000   48.000000    0.000000   \n",
       "75%        18.000000   65.732500   67.500000   67.097500   45.000000   \n",
       "max        22.000000  147.380000  157.500000  157.500000  135.000000   \n",
       "\n",
       "       error5_avg  Comp_Timelapse_diff_errors  comp_1_replace_avg  \\\n",
       "count  674.000000                  674.000000          674.000000   \n",
       "mean    25.634139                   26.116884           37.440282   \n",
       "std     33.797062                    9.207301           39.119877   \n",
       "min      0.000000                    0.000000            0.000000   \n",
       "25%      0.000000                   20.000000            0.000000   \n",
       "50%      0.000000                   24.230000           35.000000   \n",
       "75%     57.000000                   30.000000           69.375000   \n",
       "max    135.000000                   95.390000          142.500000   \n",
       "\n",
       "       comp_2_replace_avg  comp_3_replace_avg      ...       Sensor3_max  \\\n",
       "count          674.000000          674.000000      ...        674.000000   \n",
       "mean            44.943234           18.009629      ...        155.885697   \n",
       "std             36.152294           31.166810      ...          7.704799   \n",
       "min              0.000000            0.000000      ...        144.120000   \n",
       "25%              0.000000            0.000000      ...        150.752500   \n",
       "50%             48.375000            0.000000      ...        153.925000   \n",
       "75%             67.500000           45.000000      ...        158.175000   \n",
       "max            162.060000          135.000000      ...        195.270000   \n",
       "\n",
       "       Sensor4_max  Sensor1_min  Sensor2_min  Sensor3_min  Sensor4_min  \\\n",
       "count   674.000000   674.000000   674.000000   674.000000   674.000000   \n",
       "mean     64.889674   113.157478   217.153442    62.113843    21.118279   \n",
       "std       2.921304     4.886335    26.071793     3.058292     1.519342   \n",
       "min      58.490000    87.780000   102.170000    50.540000    14.640000   \n",
       "25%      62.962500   110.627500   205.285000    60.420000    20.342500   \n",
       "50%      64.290000   113.830000   221.575000    62.510000    21.265000   \n",
       "75%      66.025000   116.487500   235.415000    64.380000    22.147500   \n",
       "max      79.110000   123.610000   269.030000    67.840000    24.290000   \n",
       "\n",
       "       Sensor1_mean  Sensor2_mean  Sensor3_mean  Sensor4_mean  \n",
       "count    674.000000    674.000000    674.000000    674.000000  \n",
       "mean     170.758917    446.624199    100.842478     40.365356  \n",
       "std        0.229260      0.889770      0.283153      0.125382  \n",
       "min      170.140000    443.760000    100.240000     40.090000  \n",
       "25%      170.610000    446.010000    100.650000     40.270000  \n",
       "50%      170.760000    446.605000    100.770000     40.340000  \n",
       "75%      170.900000    447.260000    100.990000     40.460000  \n",
       "max      171.530000    449.480000    101.660000     40.680000  \n",
       "\n",
       "[8 rows x 29 columns]"
      ]
     },
     "execution_count": 269,
     "metadata": {},
     "output_type": "execute_result"
    }
   ],
   "source": [
    "dataset.describe()"
   ]
  },
  {
   "cell_type": "markdown",
   "metadata": {
    "colab_type": "text",
    "id": "satTuuH_Ovew"
   },
   "source": [
    "#### 3)Dropping unnecessary columns and checking for null values"
   ]
  },
  {
   "cell_type": "code",
   "execution_count": 270,
   "metadata": {
    "colab": {},
    "colab_type": "code",
    "id": "SfYRn3lpTdA5"
   },
   "outputs": [],
   "source": [
    "dataset.drop(labels=['MachineID', 'comp_4_replace_avg'], axis=1, inplace=True)"
   ]
  },
  {
   "cell_type": "code",
   "execution_count": 271,
   "metadata": {
    "colab": {},
    "colab_type": "code",
    "id": "aFa4BM17TdA7",
    "outputId": "5e328630-3b1e-4fac-cb32-abf959a6a003"
   },
   "outputs": [
    {
     "data": {
      "text/plain": [
       "MachineModel                   0\n",
       "ServicePeriod                  0\n",
       "error1_avg                     0\n",
       "error2_avg                     0\n",
       "error3_avg                     0\n",
       "error4_avg                     0\n",
       "error5_avg                     0\n",
       "Comp_Timelapse_diff_errors     0\n",
       "RecentError                    0\n",
       "MostOccuredError               0\n",
       "comp_1_replace_avg             0\n",
       "comp_2_replace_avg             0\n",
       "comp_3_replace_avg             0\n",
       "Comp_Timelapse_diff_replace    0\n",
       "RecentReplacedComp             0\n",
       "MostReplacedComp               0\n",
       "comp1_repair_avg               0\n",
       "comp2_repair_avg               0\n",
       "comp3_repair_avg               0\n",
       "comp4_repair_avg               0\n",
       "Comp_Timelapse_diff_repair     0\n",
       "RecentRepaired                 0\n",
       "MostRepairedComponent          0\n",
       "Sensor1_max                    0\n",
       "Sensor2_max                    0\n",
       "Sensor3_max                    0\n",
       "Sensor4_max                    0\n",
       "Sensor1_min                    0\n",
       "Sensor2_min                    0\n",
       "Sensor3_min                    0\n",
       "Sensor4_min                    0\n",
       "Sensor1_mean                   0\n",
       "Sensor2_mean                   0\n",
       "Sensor3_mean                   0\n",
       "Sensor4_mean                   0\n",
       "ActionPoint                    0\n",
       "dtype: int64"
      ]
     },
     "execution_count": 271,
     "metadata": {},
     "output_type": "execute_result"
    }
   ],
   "source": [
    "dataset.isnull().sum(axis=0)"
   ]
  },
  {
   "cell_type": "markdown",
   "metadata": {
    "colab_type": "text",
    "id": "la780KiLOve5"
   },
   "source": [
    "#### 4) Filtering categorical and non categorical values"
   ]
  },
  {
   "cell_type": "code",
   "execution_count": 272,
   "metadata": {
    "colab": {},
    "colab_type": "code",
    "id": "GEhHj3qHTdBC"
   },
   "outputs": [],
   "source": [
    "columns = dataset.columns\n",
    "cat_attr = ['MachineModel', 'RecentError', 'MostOccuredError', 'RecentReplacedComp', 'MostReplacedComp', 'RecentRepaired', 'MostRepairedComponent', 'ActionPoint']\n",
    "#num_attr = ['tenure', 'MonthlyCharges', 'TotalCharges']\n",
    "num_attr = list(set(columns) - set(cat_attr))"
   ]
  },
  {
   "cell_type": "code",
   "execution_count": 273,
   "metadata": {
    "colab": {},
    "colab_type": "code",
    "id": "eeqm2lg-TdBE",
    "outputId": "443c0631-77c7-445b-ced8-e90c8a4b3151"
   },
   "outputs": [
    {
     "name": "stdout",
     "output_type": "stream",
     "text": [
      "The total columns in the dataset are 36\n",
      "The numerical columns in the dataset are 28\n",
      "The categorical columns in the dataset are 8\n"
     ]
    }
   ],
   "source": [
    "print(\"The total columns in the dataset are {}\".format(len(columns)))\n",
    "print(\"The numerical columns in the dataset are {}\".format(len(num_attr)))\n",
    "print(\"The categorical columns in the dataset are {}\".format(len(cat_attr)))"
   ]
  },
  {
   "cell_type": "markdown",
   "metadata": {
    "colab_type": "text",
    "id": "bqoxRZQ2OvfC"
   },
   "source": [
    "#### 5) Typecasting the columns into required data types"
   ]
  },
  {
   "cell_type": "code",
   "execution_count": 274,
   "metadata": {
    "colab": {},
    "colab_type": "code",
    "id": "s7Ohj1EbTdBJ"
   },
   "outputs": [],
   "source": [
    "dataset[num_attr] = dataset[num_attr].apply(lambda x: x.astype('float64'))"
   ]
  },
  {
   "cell_type": "code",
   "execution_count": 275,
   "metadata": {
    "colab": {},
    "colab_type": "code",
    "id": "oEM9RWkPTdBM"
   },
   "outputs": [],
   "source": [
    "dataset[cat_attr] = dataset[cat_attr].apply(lambda x: x.astype('category'))\n",
    "#dataset['ActionPoint'] = pd.Categorical(dataset['ActionPoint'])"
   ]
  },
  {
   "cell_type": "code",
   "execution_count": 276,
   "metadata": {
    "colab": {},
    "colab_type": "code",
    "id": "fGMh7gsXTdBO",
    "outputId": "550f05ce-7e13-4b28-a974-68866b9566ac"
   },
   "outputs": [
    {
     "data": {
      "text/plain": [
       "MachineModel                   category\n",
       "ServicePeriod                   float64\n",
       "error1_avg                      float64\n",
       "error2_avg                      float64\n",
       "error3_avg                      float64\n",
       "error4_avg                      float64\n",
       "error5_avg                      float64\n",
       "Comp_Timelapse_diff_errors      float64\n",
       "RecentError                    category\n",
       "MostOccuredError               category\n",
       "comp_1_replace_avg              float64\n",
       "comp_2_replace_avg              float64\n",
       "comp_3_replace_avg              float64\n",
       "Comp_Timelapse_diff_replace     float64\n",
       "RecentReplacedComp             category\n",
       "MostReplacedComp               category\n",
       "comp1_repair_avg                float64\n",
       "comp2_repair_avg                float64\n",
       "comp3_repair_avg                float64\n",
       "comp4_repair_avg                float64\n",
       "Comp_Timelapse_diff_repair      float64\n",
       "RecentRepaired                 category\n",
       "MostRepairedComponent          category\n",
       "Sensor1_max                     float64\n",
       "Sensor2_max                     float64\n",
       "Sensor3_max                     float64\n",
       "Sensor4_max                     float64\n",
       "Sensor1_min                     float64\n",
       "Sensor2_min                     float64\n",
       "Sensor3_min                     float64\n",
       "Sensor4_min                     float64\n",
       "Sensor1_mean                    float64\n",
       "Sensor2_mean                    float64\n",
       "Sensor3_mean                    float64\n",
       "Sensor4_mean                    float64\n",
       "ActionPoint                    category\n",
       "dtype: object"
      ]
     },
     "execution_count": 276,
     "metadata": {},
     "output_type": "execute_result"
    }
   ],
   "source": [
    "dataset.dtypes"
   ]
  },
  {
   "cell_type": "code",
   "execution_count": 277,
   "metadata": {
    "colab": {},
    "colab_type": "code",
    "id": "yB0CxAzJTdBS",
    "outputId": "9b8ffd09-79ea-4738-daf8-8daca4232dd7"
   },
   "outputs": [
    {
     "data": {
      "text/plain": [
       "(674, 36)"
      ]
     },
     "execution_count": 277,
     "metadata": {},
     "output_type": "execute_result"
    }
   ],
   "source": [
    "dataset.shape"
   ]
  },
  {
   "cell_type": "code",
   "execution_count": 278,
   "metadata": {
    "colab": {},
    "colab_type": "code",
    "id": "S3CruGTeTdBV",
    "outputId": "afedda8c-6871-433e-dca0-a946690097a6"
   },
   "outputs": [
    {
     "name": "stdout",
     "output_type": "stream",
     "text": [
      "<class 'pandas.core.frame.DataFrame'>\n",
      "RangeIndex: 674 entries, 0 to 673\n",
      "Data columns (total 36 columns):\n",
      "MachineModel                   674 non-null category\n",
      "ServicePeriod                  674 non-null float64\n",
      "error1_avg                     674 non-null float64\n",
      "error2_avg                     674 non-null float64\n",
      "error3_avg                     674 non-null float64\n",
      "error4_avg                     674 non-null float64\n",
      "error5_avg                     674 non-null float64\n",
      "Comp_Timelapse_diff_errors     674 non-null float64\n",
      "RecentError                    674 non-null category\n",
      "MostOccuredError               674 non-null category\n",
      "comp_1_replace_avg             674 non-null float64\n",
      "comp_2_replace_avg             674 non-null float64\n",
      "comp_3_replace_avg             674 non-null float64\n",
      "Comp_Timelapse_diff_replace    674 non-null float64\n",
      "RecentReplacedComp             674 non-null category\n",
      "MostReplacedComp               674 non-null category\n",
      "comp1_repair_avg               674 non-null float64\n",
      "comp2_repair_avg               674 non-null float64\n",
      "comp3_repair_avg               674 non-null float64\n",
      "comp4_repair_avg               674 non-null float64\n",
      "Comp_Timelapse_diff_repair     674 non-null float64\n",
      "RecentRepaired                 674 non-null category\n",
      "MostRepairedComponent          674 non-null category\n",
      "Sensor1_max                    674 non-null float64\n",
      "Sensor2_max                    674 non-null float64\n",
      "Sensor3_max                    674 non-null float64\n",
      "Sensor4_max                    674 non-null float64\n",
      "Sensor1_min                    674 non-null float64\n",
      "Sensor2_min                    674 non-null float64\n",
      "Sensor3_min                    674 non-null float64\n",
      "Sensor4_min                    674 non-null float64\n",
      "Sensor1_mean                   674 non-null float64\n",
      "Sensor2_mean                   674 non-null float64\n",
      "Sensor3_mean                   674 non-null float64\n",
      "Sensor4_mean                   674 non-null float64\n",
      "ActionPoint                    674 non-null category\n",
      "dtypes: category(8), float64(28)\n",
      "memory usage: 154.2 KB\n"
     ]
    }
   ],
   "source": [
    "dataset.info()"
   ]
  },
  {
   "cell_type": "markdown",
   "metadata": {
    "colab_type": "text",
    "id": "2bGrmMUTOvfZ"
   },
   "source": [
    "#### 6) Class Proportionality"
   ]
  },
  {
   "cell_type": "code",
   "execution_count": 279,
   "metadata": {
    "colab": {},
    "colab_type": "code",
    "id": "X4O7GvhfTdBc",
    "outputId": "40cfae00-4ea3-4533-8616-60b64785abdc"
   },
   "outputs": [
    {
     "data": {
      "image/png": "[encoded data removed]",
      "text/plain": [
       "<Figure size 432x288 with 1 Axes>"
      ]
     },
     "metadata": {},
     "output_type": "display_data"
    }
   ],
   "source": [
    "class_labels = dataset.ActionPoint\n",
    "sns.countplot(x='ActionPoint', data=dataset)\n",
    "#plt.savefig('class_prop.png')\n",
    "plt.show()"
   ]
  },
  {
   "cell_type": "markdown",
   "metadata": {
    "colab_type": "text",
    "id": "lAVYNOWqOvfg"
   },
   "source": [
    "#### 7) Encoding the class labels "
   ]
  },
  {
   "cell_type": "code",
   "execution_count": 280,
   "metadata": {
    "colab": {},
    "colab_type": "code",
    "id": "_dPU4lynTdBt"
   },
   "outputs": [],
   "source": [
    "lab_enc = LabelEncoder()\n",
    "lab_enc.fit(dataset['ActionPoint'])\n",
    "dataset['ActionPoint'] = lab_enc.transform(dataset['ActionPoint'])"
   ]
  },
  {
   "cell_type": "code",
   "execution_count": 281,
   "metadata": {
    "colab": {},
    "colab_type": "code",
    "id": "wKsXiCKwTdBv",
    "outputId": "912bc1ff-a2bf-41ab-acce-558f4bb13267"
   },
   "outputs": [
    {
     "data": {
      "text/plain": [
       "0    413\n",
       "2    191\n",
       "1     70\n",
       "Name: ActionPoint, dtype: int64"
      ]
     },
     "execution_count": 281,
     "metadata": {},
     "output_type": "execute_result"
    }
   ],
   "source": [
    "dataset['ActionPoint'].value_counts()"
   ]
  },
  {
   "cell_type": "code",
   "execution_count": 282,
   "metadata": {
    "colab": {},
    "colab_type": "code",
    "id": "fAAnkf-8TdBy",
    "outputId": "f6e8cac0-1fe3-47cf-b5e4-977e004f44f7"
   },
   "outputs": [
    {
     "name": "stdout",
     "output_type": "stream",
     "text": [
      "674\n"
     ]
    }
   ],
   "source": [
    "labels = dataset['ActionPoint']\n",
    "print(len(labels))\n",
    "dataset.drop(labels='ActionPoint', axis=1, inplace=True)"
   ]
  },
  {
   "cell_type": "markdown",
   "metadata": {
    "colab_type": "text",
    "id": "XWLlmItKOvfr"
   },
   "source": [
    "#### 8) Dummifying the categorical variables"
   ]
  },
  {
   "cell_type": "code",
   "execution_count": 283,
   "metadata": {
    "colab": {},
    "colab_type": "code",
    "id": "V8V9t8noTdB1",
    "outputId": "c577b4e4-58a0-432c-8859-427a314b2c29"
   },
   "outputs": [
    {
     "name": "stdout",
     "output_type": "stream",
     "text": [
      "['MostRepairedComponent', 'RecentError', 'RecentReplacedComp', 'MostReplacedComp', 'RecentRepaired', 'MachineModel', 'MostOccuredError']\n",
      "['MachineModel', 'RecentError', 'MostOccuredError', 'RecentReplacedComp', 'MostReplacedComp', 'RecentRepaired', 'MostRepairedComponent', 'ActionPoint']\n"
     ]
    }
   ],
   "source": [
    "print(list(set(cat_attr)-set(['ActionPoint'])))\n",
    "print(cat_attr)\n",
    "##dataset_dumm = pd.get_dummies(data=dataset, columns=cat_attr)"
   ]
  },
  {
   "cell_type": "code",
   "execution_count": 284,
   "metadata": {
    "colab": {},
    "colab_type": "code",
    "id": "b_Slq_lfTdB4"
   },
   "outputs": [],
   "source": [
    "dataset_dumm = pd.get_dummies(data=dataset, columns=list(set(cat_attr)-set(['ActionPoint'])))"
   ]
  },
  {
   "cell_type": "code",
   "execution_count": 285,
   "metadata": {
    "colab": {},
    "colab_type": "code",
    "id": "HTP2DgyZTdB7",
    "outputId": "9685ee7a-bd65-4b25-95c0-0d437202cf0a"
   },
   "outputs": [
    {
     "data": {
      "text/plain": [
       "Index(['ServicePeriod', 'error1_avg', 'error2_avg', 'error3_avg', 'error4_avg',\n",
       "       'error5_avg', 'Comp_Timelapse_diff_errors', 'comp_1_replace_avg',\n",
       "       'comp_2_replace_avg', 'comp_3_replace_avg',\n",
       "       'Comp_Timelapse_diff_replace', 'comp1_repair_avg', 'comp2_repair_avg',\n",
       "       'comp3_repair_avg', 'comp4_repair_avg', 'Comp_Timelapse_diff_repair',\n",
       "       'Sensor1_max', 'Sensor2_max', 'Sensor3_max', 'Sensor4_max',\n",
       "       'Sensor1_min', 'Sensor2_min', 'Sensor3_min', 'Sensor4_min',\n",
       "       'Sensor1_mean', 'Sensor2_mean', 'Sensor3_mean', 'Sensor4_mean',\n",
       "       'MostRepairedComponent_Component1', 'MostRepairedComponent_Component2',\n",
       "       'MostRepairedComponent_Component3', 'MostRepairedComponent_Component4',\n",
       "       'RecentError_error1', 'RecentError_error2', 'RecentError_error3',\n",
       "       'RecentError_error4', 'RecentError_error5',\n",
       "       'RecentReplacedComp_Component1', 'RecentReplacedComp_Component2',\n",
       "       'RecentReplacedComp_Component3', 'RecentReplacedComp_Component4',\n",
       "       'MostReplacedComp_Component1', 'MostReplacedComp_Component2',\n",
       "       'MostReplacedComp_Component3', 'MostReplacedComp_Component4',\n",
       "       'RecentRepaired_Component1', 'RecentRepaired_Component2',\n",
       "       'RecentRepaired_Component3', 'RecentRepaired_Component4',\n",
       "       'MachineModel_model1', 'MachineModel_model2', 'MachineModel_model3',\n",
       "       'MachineModel_model4', 'MostOccuredError_error1',\n",
       "       'MostOccuredError_error2', 'MostOccuredError_error3',\n",
       "       'MostOccuredError_error4', 'MostOccuredError_error5'],\n",
       "      dtype='object')"
      ]
     },
     "execution_count": 285,
     "metadata": {},
     "output_type": "execute_result"
    }
   ],
   "source": [
    "dataset_dumm.columns"
   ]
  },
  {
   "cell_type": "code",
   "execution_count": 286,
   "metadata": {
    "colab": {},
    "colab_type": "code",
    "id": "zt0dow_mOvf2",
    "outputId": "1dd635ba-e89d-4faa-8608-2492e2938c8e"
   },
   "outputs": [
    {
     "data": {
      "text/html": [
       "<div>\n",
       "<style scoped>\n",
       "    .dataframe tbody tr th:only-of-type {\n",
       "        vertical-align: middle;\n",
       "    }\n",
       "\n",
       "    .dataframe tbody tr th {\n",
       "        vertical-align: top;\n",
       "    }\n",
       "\n",
       "    .dataframe thead th {\n",
       "        text-align: right;\n",
       "    }\n",
       "</style>\n",
       "<table border=\"1\" class=\"dataframe\">\n",
       "  <thead>\n",
       "    <tr style=\"text-align: right;\">\n",
       "      <th></th>\n",
       "      <th>ServicePeriod</th>\n",
       "      <th>error1_avg</th>\n",
       "      <th>error2_avg</th>\n",
       "      <th>error3_avg</th>\n",
       "      <th>error4_avg</th>\n",
       "      <th>error5_avg</th>\n",
       "      <th>Comp_Timelapse_diff_errors</th>\n",
       "      <th>comp_1_replace_avg</th>\n",
       "      <th>comp_2_replace_avg</th>\n",
       "      <th>comp_3_replace_avg</th>\n",
       "      <th>...</th>\n",
       "      <th>RecentRepaired_Component4</th>\n",
       "      <th>MachineModel_model1</th>\n",
       "      <th>MachineModel_model2</th>\n",
       "      <th>MachineModel_model3</th>\n",
       "      <th>MachineModel_model4</th>\n",
       "      <th>MostOccuredError_error1</th>\n",
       "      <th>MostOccuredError_error2</th>\n",
       "      <th>MostOccuredError_error3</th>\n",
       "      <th>MostOccuredError_error4</th>\n",
       "      <th>MostOccuredError_error5</th>\n",
       "    </tr>\n",
       "  </thead>\n",
       "  <tbody>\n",
       "    <tr>\n",
       "      <th>0</th>\n",
       "      <td>21.0</td>\n",
       "      <td>60.00</td>\n",
       "      <td>35.65</td>\n",
       "      <td>40.71</td>\n",
       "      <td>0.0</td>\n",
       "      <td>65.00</td>\n",
       "      <td>13.58</td>\n",
       "      <td>60.0</td>\n",
       "      <td>47.5</td>\n",
       "      <td>0.0</td>\n",
       "      <td>...</td>\n",
       "      <td>0</td>\n",
       "      <td>0</td>\n",
       "      <td>0</td>\n",
       "      <td>0</td>\n",
       "      <td>1</td>\n",
       "      <td>0</td>\n",
       "      <td>1</td>\n",
       "      <td>0</td>\n",
       "      <td>0</td>\n",
       "      <td>0</td>\n",
       "    </tr>\n",
       "    <tr>\n",
       "      <th>1</th>\n",
       "      <td>21.0</td>\n",
       "      <td>0.00</td>\n",
       "      <td>150.00</td>\n",
       "      <td>150.00</td>\n",
       "      <td>95.0</td>\n",
       "      <td>95.00</td>\n",
       "      <td>31.50</td>\n",
       "      <td>0.0</td>\n",
       "      <td>150.0</td>\n",
       "      <td>95.0</td>\n",
       "      <td>...</td>\n",
       "      <td>0</td>\n",
       "      <td>1</td>\n",
       "      <td>0</td>\n",
       "      <td>0</td>\n",
       "      <td>0</td>\n",
       "      <td>0</td>\n",
       "      <td>0</td>\n",
       "      <td>0</td>\n",
       "      <td>1</td>\n",
       "      <td>0</td>\n",
       "    </tr>\n",
       "    <tr>\n",
       "      <th>2</th>\n",
       "      <td>22.0</td>\n",
       "      <td>37.50</td>\n",
       "      <td>90.00</td>\n",
       "      <td>93.54</td>\n",
       "      <td>0.0</td>\n",
       "      <td>85.00</td>\n",
       "      <td>27.27</td>\n",
       "      <td>37.5</td>\n",
       "      <td>135.0</td>\n",
       "      <td>0.0</td>\n",
       "      <td>...</td>\n",
       "      <td>0</td>\n",
       "      <td>0</td>\n",
       "      <td>0</td>\n",
       "      <td>1</td>\n",
       "      <td>0</td>\n",
       "      <td>0</td>\n",
       "      <td>1</td>\n",
       "      <td>0</td>\n",
       "      <td>0</td>\n",
       "      <td>0</td>\n",
       "    </tr>\n",
       "    <tr>\n",
       "      <th>3</th>\n",
       "      <td>22.0</td>\n",
       "      <td>42.41</td>\n",
       "      <td>78.75</td>\n",
       "      <td>78.75</td>\n",
       "      <td>0.0</td>\n",
       "      <td>52.50</td>\n",
       "      <td>18.53</td>\n",
       "      <td>0.0</td>\n",
       "      <td>105.0</td>\n",
       "      <td>0.0</td>\n",
       "      <td>...</td>\n",
       "      <td>0</td>\n",
       "      <td>0</td>\n",
       "      <td>0</td>\n",
       "      <td>0</td>\n",
       "      <td>1</td>\n",
       "      <td>1</td>\n",
       "      <td>0</td>\n",
       "      <td>0</td>\n",
       "      <td>0</td>\n",
       "      <td>0</td>\n",
       "    </tr>\n",
       "    <tr>\n",
       "      <th>4</th>\n",
       "      <td>22.0</td>\n",
       "      <td>44.21</td>\n",
       "      <td>96.44</td>\n",
       "      <td>33.24</td>\n",
       "      <td>0.0</td>\n",
       "      <td>56.25</td>\n",
       "      <td>19.02</td>\n",
       "      <td>45.0</td>\n",
       "      <td>30.0</td>\n",
       "      <td>0.0</td>\n",
       "      <td>...</td>\n",
       "      <td>1</td>\n",
       "      <td>0</td>\n",
       "      <td>0</td>\n",
       "      <td>1</td>\n",
       "      <td>0</td>\n",
       "      <td>0</td>\n",
       "      <td>0</td>\n",
       "      <td>1</td>\n",
       "      <td>0</td>\n",
       "      <td>0</td>\n",
       "    </tr>\n",
       "    <tr>\n",
       "      <th>5</th>\n",
       "      <td>21.0</td>\n",
       "      <td>41.25</td>\n",
       "      <td>19.81</td>\n",
       "      <td>7.57</td>\n",
       "      <td>98.9</td>\n",
       "      <td>40.00</td>\n",
       "      <td>14.13</td>\n",
       "      <td>82.5</td>\n",
       "      <td>0.0</td>\n",
       "      <td>0.0</td>\n",
       "      <td>...</td>\n",
       "      <td>0</td>\n",
       "      <td>0</td>\n",
       "      <td>0</td>\n",
       "      <td>1</td>\n",
       "      <td>0</td>\n",
       "      <td>1</td>\n",
       "      <td>0</td>\n",
       "      <td>0</td>\n",
       "      <td>0</td>\n",
       "      <td>0</td>\n",
       "    </tr>\n",
       "  </tbody>\n",
       "</table>\n",
       "<p>6 rows × 58 columns</p>\n",
       "</div>"
      ],
      "text/plain": [
       "   ServicePeriod  error1_avg  error2_avg  error3_avg  error4_avg  error5_avg  \\\n",
       "0           21.0       60.00       35.65       40.71         0.0       65.00   \n",
       "1           21.0        0.00      150.00      150.00        95.0       95.00   \n",
       "2           22.0       37.50       90.00       93.54         0.0       85.00   \n",
       "3           22.0       42.41       78.75       78.75         0.0       52.50   \n",
       "4           22.0       44.21       96.44       33.24         0.0       56.25   \n",
       "5           21.0       41.25       19.81        7.57        98.9       40.00   \n",
       "\n",
       "   Comp_Timelapse_diff_errors  comp_1_replace_avg  comp_2_replace_avg  \\\n",
       "0                       13.58                60.0                47.5   \n",
       "1                       31.50                 0.0               150.0   \n",
       "2                       27.27                37.5               135.0   \n",
       "3                       18.53                 0.0               105.0   \n",
       "4                       19.02                45.0                30.0   \n",
       "5                       14.13                82.5                 0.0   \n",
       "\n",
       "   comp_3_replace_avg           ...             RecentRepaired_Component4  \\\n",
       "0                 0.0           ...                                     0   \n",
       "1                95.0           ...                                     0   \n",
       "2                 0.0           ...                                     0   \n",
       "3                 0.0           ...                                     0   \n",
       "4                 0.0           ...                                     1   \n",
       "5                 0.0           ...                                     0   \n",
       "\n",
       "   MachineModel_model1  MachineModel_model2  MachineModel_model3  \\\n",
       "0                    0                    0                    0   \n",
       "1                    1                    0                    0   \n",
       "2                    0                    0                    1   \n",
       "3                    0                    0                    0   \n",
       "4                    0                    0                    1   \n",
       "5                    0                    0                    1   \n",
       "\n",
       "   MachineModel_model4  MostOccuredError_error1  MostOccuredError_error2  \\\n",
       "0                    1                        0                        1   \n",
       "1                    0                        0                        0   \n",
       "2                    0                        0                        1   \n",
       "3                    1                        1                        0   \n",
       "4                    0                        0                        0   \n",
       "5                    0                        1                        0   \n",
       "\n",
       "   MostOccuredError_error3  MostOccuredError_error4  MostOccuredError_error5  \n",
       "0                        0                        0                        0  \n",
       "1                        0                        1                        0  \n",
       "2                        0                        0                        0  \n",
       "3                        0                        0                        0  \n",
       "4                        1                        0                        0  \n",
       "5                        0                        0                        0  \n",
       "\n",
       "[6 rows x 58 columns]"
      ]
     },
     "execution_count": 286,
     "metadata": {},
     "output_type": "execute_result"
    }
   ],
   "source": [
    "dataset_dumm.head(6)"
   ]
  },
  {
   "cell_type": "code",
   "execution_count": 287,
   "metadata": {
    "colab": {},
    "colab_type": "code",
    "id": "oJ711VihOvf7"
   },
   "outputs": [],
   "source": [
    "#### splitting data into 3 clusters with abundant data"
   ]
  },
  {
   "cell_type": "code",
   "execution_count": 288,
   "metadata": {
    "colab": {},
    "colab_type": "code",
    "id": "16P9NihuOvf-"
   },
   "outputs": [],
   "source": [
    "dataset_dumm['target'] = labels"
   ]
  },
  {
   "cell_type": "code",
   "execution_count": 289,
   "metadata": {
    "colab": {},
    "colab_type": "code",
    "id": "uwr_M0_zOvgC",
    "outputId": "9d9bf792-d7f3-4a15-eac3-e6870497afde"
   },
   "outputs": [
    {
     "data": {
      "text/html": [
       "<div>\n",
       "<style scoped>\n",
       "    .dataframe tbody tr th:only-of-type {\n",
       "        vertical-align: middle;\n",
       "    }\n",
       "\n",
       "    .dataframe tbody tr th {\n",
       "        vertical-align: top;\n",
       "    }\n",
       "\n",
       "    .dataframe thead th {\n",
       "        text-align: right;\n",
       "    }\n",
       "</style>\n",
       "<table border=\"1\" class=\"dataframe\">\n",
       "  <thead>\n",
       "    <tr style=\"text-align: right;\">\n",
       "      <th></th>\n",
       "      <th>ServicePeriod</th>\n",
       "      <th>error1_avg</th>\n",
       "      <th>error2_avg</th>\n",
       "      <th>error3_avg</th>\n",
       "      <th>error4_avg</th>\n",
       "      <th>error5_avg</th>\n",
       "      <th>Comp_Timelapse_diff_errors</th>\n",
       "      <th>comp_1_replace_avg</th>\n",
       "      <th>comp_2_replace_avg</th>\n",
       "      <th>comp_3_replace_avg</th>\n",
       "      <th>...</th>\n",
       "      <th>MachineModel_model1</th>\n",
       "      <th>MachineModel_model2</th>\n",
       "      <th>MachineModel_model3</th>\n",
       "      <th>MachineModel_model4</th>\n",
       "      <th>MostOccuredError_error1</th>\n",
       "      <th>MostOccuredError_error2</th>\n",
       "      <th>MostOccuredError_error3</th>\n",
       "      <th>MostOccuredError_error4</th>\n",
       "      <th>MostOccuredError_error5</th>\n",
       "      <th>target</th>\n",
       "    </tr>\n",
       "  </thead>\n",
       "  <tbody>\n",
       "    <tr>\n",
       "      <th>0</th>\n",
       "      <td>21.0</td>\n",
       "      <td>60.00</td>\n",
       "      <td>35.65</td>\n",
       "      <td>40.71</td>\n",
       "      <td>0.00</td>\n",
       "      <td>65.00</td>\n",
       "      <td>13.58</td>\n",
       "      <td>60.00</td>\n",
       "      <td>47.5</td>\n",
       "      <td>0.00</td>\n",
       "      <td>...</td>\n",
       "      <td>0</td>\n",
       "      <td>0</td>\n",
       "      <td>0</td>\n",
       "      <td>1</td>\n",
       "      <td>0</td>\n",
       "      <td>1</td>\n",
       "      <td>0</td>\n",
       "      <td>0</td>\n",
       "      <td>0</td>\n",
       "      <td>0</td>\n",
       "    </tr>\n",
       "    <tr>\n",
       "      <th>1</th>\n",
       "      <td>21.0</td>\n",
       "      <td>0.00</td>\n",
       "      <td>150.00</td>\n",
       "      <td>150.00</td>\n",
       "      <td>95.00</td>\n",
       "      <td>95.00</td>\n",
       "      <td>31.50</td>\n",
       "      <td>0.00</td>\n",
       "      <td>150.0</td>\n",
       "      <td>95.00</td>\n",
       "      <td>...</td>\n",
       "      <td>1</td>\n",
       "      <td>0</td>\n",
       "      <td>0</td>\n",
       "      <td>0</td>\n",
       "      <td>0</td>\n",
       "      <td>0</td>\n",
       "      <td>0</td>\n",
       "      <td>1</td>\n",
       "      <td>0</td>\n",
       "      <td>0</td>\n",
       "    </tr>\n",
       "    <tr>\n",
       "      <th>2</th>\n",
       "      <td>22.0</td>\n",
       "      <td>37.50</td>\n",
       "      <td>90.00</td>\n",
       "      <td>93.54</td>\n",
       "      <td>0.00</td>\n",
       "      <td>85.00</td>\n",
       "      <td>27.27</td>\n",
       "      <td>37.50</td>\n",
       "      <td>135.0</td>\n",
       "      <td>0.00</td>\n",
       "      <td>...</td>\n",
       "      <td>0</td>\n",
       "      <td>0</td>\n",
       "      <td>1</td>\n",
       "      <td>0</td>\n",
       "      <td>0</td>\n",
       "      <td>1</td>\n",
       "      <td>0</td>\n",
       "      <td>0</td>\n",
       "      <td>0</td>\n",
       "      <td>2</td>\n",
       "    </tr>\n",
       "    <tr>\n",
       "      <th>3</th>\n",
       "      <td>22.0</td>\n",
       "      <td>42.41</td>\n",
       "      <td>78.75</td>\n",
       "      <td>78.75</td>\n",
       "      <td>0.00</td>\n",
       "      <td>52.50</td>\n",
       "      <td>18.53</td>\n",
       "      <td>0.00</td>\n",
       "      <td>105.0</td>\n",
       "      <td>0.00</td>\n",
       "      <td>...</td>\n",
       "      <td>0</td>\n",
       "      <td>0</td>\n",
       "      <td>0</td>\n",
       "      <td>1</td>\n",
       "      <td>1</td>\n",
       "      <td>0</td>\n",
       "      <td>0</td>\n",
       "      <td>0</td>\n",
       "      <td>0</td>\n",
       "      <td>2</td>\n",
       "    </tr>\n",
       "    <tr>\n",
       "      <th>4</th>\n",
       "      <td>22.0</td>\n",
       "      <td>44.21</td>\n",
       "      <td>96.44</td>\n",
       "      <td>33.24</td>\n",
       "      <td>0.00</td>\n",
       "      <td>56.25</td>\n",
       "      <td>19.02</td>\n",
       "      <td>45.00</td>\n",
       "      <td>30.0</td>\n",
       "      <td>0.00</td>\n",
       "      <td>...</td>\n",
       "      <td>0</td>\n",
       "      <td>0</td>\n",
       "      <td>1</td>\n",
       "      <td>0</td>\n",
       "      <td>0</td>\n",
       "      <td>0</td>\n",
       "      <td>1</td>\n",
       "      <td>0</td>\n",
       "      <td>0</td>\n",
       "      <td>0</td>\n",
       "    </tr>\n",
       "    <tr>\n",
       "      <th>5</th>\n",
       "      <td>21.0</td>\n",
       "      <td>41.25</td>\n",
       "      <td>19.81</td>\n",
       "      <td>7.57</td>\n",
       "      <td>98.90</td>\n",
       "      <td>40.00</td>\n",
       "      <td>14.13</td>\n",
       "      <td>82.50</td>\n",
       "      <td>0.0</td>\n",
       "      <td>0.00</td>\n",
       "      <td>...</td>\n",
       "      <td>0</td>\n",
       "      <td>0</td>\n",
       "      <td>1</td>\n",
       "      <td>0</td>\n",
       "      <td>1</td>\n",
       "      <td>0</td>\n",
       "      <td>0</td>\n",
       "      <td>0</td>\n",
       "      <td>0</td>\n",
       "      <td>0</td>\n",
       "    </tr>\n",
       "    <tr>\n",
       "      <th>6</th>\n",
       "      <td>21.0</td>\n",
       "      <td>0.00</td>\n",
       "      <td>27.02</td>\n",
       "      <td>69.73</td>\n",
       "      <td>0.00</td>\n",
       "      <td>42.00</td>\n",
       "      <td>21.00</td>\n",
       "      <td>0.00</td>\n",
       "      <td>0.0</td>\n",
       "      <td>0.00</td>\n",
       "      <td>...</td>\n",
       "      <td>0</td>\n",
       "      <td>0</td>\n",
       "      <td>0</td>\n",
       "      <td>1</td>\n",
       "      <td>0</td>\n",
       "      <td>0</td>\n",
       "      <td>0</td>\n",
       "      <td>0</td>\n",
       "      <td>1</td>\n",
       "      <td>1</td>\n",
       "    </tr>\n",
       "    <tr>\n",
       "      <th>7</th>\n",
       "      <td>21.0</td>\n",
       "      <td>30.00</td>\n",
       "      <td>30.00</td>\n",
       "      <td>30.00</td>\n",
       "      <td>0.00</td>\n",
       "      <td>65.00</td>\n",
       "      <td>27.27</td>\n",
       "      <td>80.04</td>\n",
       "      <td>30.0</td>\n",
       "      <td>0.00</td>\n",
       "      <td>...</td>\n",
       "      <td>0</td>\n",
       "      <td>0</td>\n",
       "      <td>1</td>\n",
       "      <td>0</td>\n",
       "      <td>0</td>\n",
       "      <td>1</td>\n",
       "      <td>0</td>\n",
       "      <td>0</td>\n",
       "      <td>0</td>\n",
       "      <td>0</td>\n",
       "    </tr>\n",
       "    <tr>\n",
       "      <th>8</th>\n",
       "      <td>21.0</td>\n",
       "      <td>42.67</td>\n",
       "      <td>71.25</td>\n",
       "      <td>71.25</td>\n",
       "      <td>56.25</td>\n",
       "      <td>55.00</td>\n",
       "      <td>16.09</td>\n",
       "      <td>35.00</td>\n",
       "      <td>95.0</td>\n",
       "      <td>56.25</td>\n",
       "      <td>...</td>\n",
       "      <td>1</td>\n",
       "      <td>0</td>\n",
       "      <td>0</td>\n",
       "      <td>0</td>\n",
       "      <td>1</td>\n",
       "      <td>0</td>\n",
       "      <td>0</td>\n",
       "      <td>0</td>\n",
       "      <td>0</td>\n",
       "      <td>0</td>\n",
       "    </tr>\n",
       "    <tr>\n",
       "      <th>9</th>\n",
       "      <td>21.0</td>\n",
       "      <td>93.43</td>\n",
       "      <td>0.00</td>\n",
       "      <td>0.00</td>\n",
       "      <td>0.00</td>\n",
       "      <td>63.00</td>\n",
       "      <td>31.50</td>\n",
       "      <td>0.00</td>\n",
       "      <td>0.0</td>\n",
       "      <td>0.00</td>\n",
       "      <td>...</td>\n",
       "      <td>0</td>\n",
       "      <td>0</td>\n",
       "      <td>0</td>\n",
       "      <td>1</td>\n",
       "      <td>0</td>\n",
       "      <td>0</td>\n",
       "      <td>0</td>\n",
       "      <td>0</td>\n",
       "      <td>1</td>\n",
       "      <td>2</td>\n",
       "    </tr>\n",
       "  </tbody>\n",
       "</table>\n",
       "<p>10 rows × 59 columns</p>\n",
       "</div>"
      ],
      "text/plain": [
       "   ServicePeriod  error1_avg  error2_avg  error3_avg  error4_avg  error5_avg  \\\n",
       "0           21.0       60.00       35.65       40.71        0.00       65.00   \n",
       "1           21.0        0.00      150.00      150.00       95.00       95.00   \n",
       "2           22.0       37.50       90.00       93.54        0.00       85.00   \n",
       "3           22.0       42.41       78.75       78.75        0.00       52.50   \n",
       "4           22.0       44.21       96.44       33.24        0.00       56.25   \n",
       "5           21.0       41.25       19.81        7.57       98.90       40.00   \n",
       "6           21.0        0.00       27.02       69.73        0.00       42.00   \n",
       "7           21.0       30.00       30.00       30.00        0.00       65.00   \n",
       "8           21.0       42.67       71.25       71.25       56.25       55.00   \n",
       "9           21.0       93.43        0.00        0.00        0.00       63.00   \n",
       "\n",
       "   Comp_Timelapse_diff_errors  comp_1_replace_avg  comp_2_replace_avg  \\\n",
       "0                       13.58               60.00                47.5   \n",
       "1                       31.50                0.00               150.0   \n",
       "2                       27.27               37.50               135.0   \n",
       "3                       18.53                0.00               105.0   \n",
       "4                       19.02               45.00                30.0   \n",
       "5                       14.13               82.50                 0.0   \n",
       "6                       21.00                0.00                 0.0   \n",
       "7                       27.27               80.04                30.0   \n",
       "8                       16.09               35.00                95.0   \n",
       "9                       31.50                0.00                 0.0   \n",
       "\n",
       "   comp_3_replace_avg   ...    MachineModel_model1  MachineModel_model2  \\\n",
       "0                0.00   ...                      0                    0   \n",
       "1               95.00   ...                      1                    0   \n",
       "2                0.00   ...                      0                    0   \n",
       "3                0.00   ...                      0                    0   \n",
       "4                0.00   ...                      0                    0   \n",
       "5                0.00   ...                      0                    0   \n",
       "6                0.00   ...                      0                    0   \n",
       "7                0.00   ...                      0                    0   \n",
       "8               56.25   ...                      1                    0   \n",
       "9                0.00   ...                      0                    0   \n",
       "\n",
       "   MachineModel_model3  MachineModel_model4  MostOccuredError_error1  \\\n",
       "0                    0                    1                        0   \n",
       "1                    0                    0                        0   \n",
       "2                    1                    0                        0   \n",
       "3                    0                    1                        1   \n",
       "4                    1                    0                        0   \n",
       "5                    1                    0                        1   \n",
       "6                    0                    1                        0   \n",
       "7                    1                    0                        0   \n",
       "8                    0                    0                        1   \n",
       "9                    0                    1                        0   \n",
       "\n",
       "   MostOccuredError_error2  MostOccuredError_error3  MostOccuredError_error4  \\\n",
       "0                        1                        0                        0   \n",
       "1                        0                        0                        1   \n",
       "2                        1                        0                        0   \n",
       "3                        0                        0                        0   \n",
       "4                        0                        1                        0   \n",
       "5                        0                        0                        0   \n",
       "6                        0                        0                        0   \n",
       "7                        1                        0                        0   \n",
       "8                        0                        0                        0   \n",
       "9                        0                        0                        0   \n",
       "\n",
       "   MostOccuredError_error5  target  \n",
       "0                        0       0  \n",
       "1                        0       0  \n",
       "2                        0       2  \n",
       "3                        0       2  \n",
       "4                        0       0  \n",
       "5                        0       0  \n",
       "6                        1       1  \n",
       "7                        0       0  \n",
       "8                        0       0  \n",
       "9                        1       2  \n",
       "\n",
       "[10 rows x 59 columns]"
      ]
     },
     "execution_count": 289,
     "metadata": {},
     "output_type": "execute_result"
    }
   ],
   "source": [
    "dataset_dumm.head(10)"
   ]
  },
  {
   "cell_type": "code",
   "execution_count": 290,
   "metadata": {
    "colab": {},
    "colab_type": "code",
    "id": "sEY_FXHTOvgF",
    "outputId": "2ee69f49-8a3f-44f5-8c23-62e447a43baf"
   },
   "outputs": [
    {
     "data": {
      "text/plain": [
       "(674, 59)"
      ]
     },
     "execution_count": 290,
     "metadata": {},
     "output_type": "execute_result"
    }
   ],
   "source": [
    "dataset_dumm.shape"
   ]
  },
  {
   "cell_type": "code",
   "execution_count": 291,
   "metadata": {
    "colab": {},
    "colab_type": "code",
    "id": "_Hieohz0OvgJ"
   },
   "outputs": [],
   "source": [
    "imbal_data = dataset_dumm[dataset_dumm.target == 1]"
   ]
  },
  {
   "cell_type": "code",
   "execution_count": 292,
   "metadata": {
    "colab": {},
    "colab_type": "code",
    "id": "ke_Ox9aFOvgQ",
    "outputId": "80ecf2b1-7fe6-40f6-d519-2c008c79971b"
   },
   "outputs": [
    {
     "name": "stdout",
     "output_type": "stream",
     "text": [
      "    ServicePeriod  error1_avg  error2_avg  error3_avg  error4_avg  error5_avg  \\\n",
      "6            21.0        0.00       27.02       69.73        0.00       42.00   \n",
      "25           22.0       37.50      105.00      105.00       31.66       45.00   \n",
      "26           21.0       33.00       45.25        0.00       67.50       56.25   \n",
      "35           22.0       35.00       56.32       41.25       50.00       60.00   \n",
      "41           21.0       37.52       93.87       82.50        0.00       41.32   \n",
      "\n",
      "    Comp_Timelapse_diff_errors  comp_1_replace_avg  comp_2_replace_avg  \\\n",
      "6                        21.00                0.00                 0.0   \n",
      "25                       22.50               37.50               105.0   \n",
      "26                       16.88               41.25                 0.0   \n",
      "35                       14.29               52.50                55.0   \n",
      "41                       28.16                0.00                82.5   \n",
      "\n",
      "    comp_3_replace_avg   ...    MachineModel_model1  MachineModel_model2  \\\n",
      "6                 0.00   ...                      0                    0   \n",
      "25                0.00   ...                      0                    0   \n",
      "26               58.83   ...                      1                    0   \n",
      "35               60.00   ...                      0                    1   \n",
      "41                0.00   ...                      0                    0   \n",
      "\n",
      "    MachineModel_model3  MachineModel_model4  MostOccuredError_error1  \\\n",
      "6                     0                    1                        0   \n",
      "25                    1                    0                        0   \n",
      "26                    0                    0                        1   \n",
      "35                    0                    0                        0   \n",
      "41                    1                    0                        0   \n",
      "\n",
      "    MostOccuredError_error2  MostOccuredError_error3  MostOccuredError_error4  \\\n",
      "6                         0                        0                        0   \n",
      "25                        0                        0                        0   \n",
      "26                        0                        0                        0   \n",
      "35                        0                        0                        1   \n",
      "41                        1                        0                        0   \n",
      "\n",
      "    MostOccuredError_error5  target  \n",
      "6                         1       1  \n",
      "25                        1       1  \n",
      "26                        0       1  \n",
      "35                        0       1  \n",
      "41                        0       1  \n",
      "\n",
      "[5 rows x 59 columns]\n",
      "(70, 59)\n"
     ]
    }
   ],
   "source": [
    "print(imbal_data.head(5))\n",
    "print(imbal_data.shape)"
   ]
  },
  {
   "cell_type": "code",
   "execution_count": 293,
   "metadata": {
    "colab": {},
    "colab_type": "code",
    "id": "cIX37H1COvgV"
   },
   "outputs": [],
   "source": [
    "abn_data = dataset_dumm[dataset_dumm.target != 1]"
   ]
  },
  {
   "cell_type": "code",
   "execution_count": 294,
   "metadata": {
    "colab": {},
    "colab_type": "code",
    "id": "Fbqb4YOKOvgY",
    "outputId": "f08cb52d-9e1f-4c00-da94-22dab7c3af8e"
   },
   "outputs": [
    {
     "data": {
      "text/html": [
       "<div>\n",
       "<style scoped>\n",
       "    .dataframe tbody tr th:only-of-type {\n",
       "        vertical-align: middle;\n",
       "    }\n",
       "\n",
       "    .dataframe tbody tr th {\n",
       "        vertical-align: top;\n",
       "    }\n",
       "\n",
       "    .dataframe thead th {\n",
       "        text-align: right;\n",
       "    }\n",
       "</style>\n",
       "<table border=\"1\" class=\"dataframe\">\n",
       "  <thead>\n",
       "    <tr style=\"text-align: right;\">\n",
       "      <th></th>\n",
       "      <th>ServicePeriod</th>\n",
       "      <th>error1_avg</th>\n",
       "      <th>error2_avg</th>\n",
       "      <th>error3_avg</th>\n",
       "      <th>error4_avg</th>\n",
       "      <th>error5_avg</th>\n",
       "      <th>Comp_Timelapse_diff_errors</th>\n",
       "      <th>comp_1_replace_avg</th>\n",
       "      <th>comp_2_replace_avg</th>\n",
       "      <th>comp_3_replace_avg</th>\n",
       "      <th>...</th>\n",
       "      <th>MachineModel_model1</th>\n",
       "      <th>MachineModel_model2</th>\n",
       "      <th>MachineModel_model3</th>\n",
       "      <th>MachineModel_model4</th>\n",
       "      <th>MostOccuredError_error1</th>\n",
       "      <th>MostOccuredError_error2</th>\n",
       "      <th>MostOccuredError_error3</th>\n",
       "      <th>MostOccuredError_error4</th>\n",
       "      <th>MostOccuredError_error5</th>\n",
       "      <th>target</th>\n",
       "    </tr>\n",
       "  </thead>\n",
       "  <tbody>\n",
       "    <tr>\n",
       "      <th>0</th>\n",
       "      <td>21.0</td>\n",
       "      <td>60.00</td>\n",
       "      <td>35.65</td>\n",
       "      <td>40.71</td>\n",
       "      <td>0.0</td>\n",
       "      <td>65.00</td>\n",
       "      <td>13.58</td>\n",
       "      <td>60.0</td>\n",
       "      <td>47.5</td>\n",
       "      <td>0.0</td>\n",
       "      <td>...</td>\n",
       "      <td>0</td>\n",
       "      <td>0</td>\n",
       "      <td>0</td>\n",
       "      <td>1</td>\n",
       "      <td>0</td>\n",
       "      <td>1</td>\n",
       "      <td>0</td>\n",
       "      <td>0</td>\n",
       "      <td>0</td>\n",
       "      <td>0</td>\n",
       "    </tr>\n",
       "    <tr>\n",
       "      <th>1</th>\n",
       "      <td>21.0</td>\n",
       "      <td>0.00</td>\n",
       "      <td>150.00</td>\n",
       "      <td>150.00</td>\n",
       "      <td>95.0</td>\n",
       "      <td>95.00</td>\n",
       "      <td>31.50</td>\n",
       "      <td>0.0</td>\n",
       "      <td>150.0</td>\n",
       "      <td>95.0</td>\n",
       "      <td>...</td>\n",
       "      <td>1</td>\n",
       "      <td>0</td>\n",
       "      <td>0</td>\n",
       "      <td>0</td>\n",
       "      <td>0</td>\n",
       "      <td>0</td>\n",
       "      <td>0</td>\n",
       "      <td>1</td>\n",
       "      <td>0</td>\n",
       "      <td>0</td>\n",
       "    </tr>\n",
       "    <tr>\n",
       "      <th>2</th>\n",
       "      <td>22.0</td>\n",
       "      <td>37.50</td>\n",
       "      <td>90.00</td>\n",
       "      <td>93.54</td>\n",
       "      <td>0.0</td>\n",
       "      <td>85.00</td>\n",
       "      <td>27.27</td>\n",
       "      <td>37.5</td>\n",
       "      <td>135.0</td>\n",
       "      <td>0.0</td>\n",
       "      <td>...</td>\n",
       "      <td>0</td>\n",
       "      <td>0</td>\n",
       "      <td>1</td>\n",
       "      <td>0</td>\n",
       "      <td>0</td>\n",
       "      <td>1</td>\n",
       "      <td>0</td>\n",
       "      <td>0</td>\n",
       "      <td>0</td>\n",
       "      <td>2</td>\n",
       "    </tr>\n",
       "    <tr>\n",
       "      <th>3</th>\n",
       "      <td>22.0</td>\n",
       "      <td>42.41</td>\n",
       "      <td>78.75</td>\n",
       "      <td>78.75</td>\n",
       "      <td>0.0</td>\n",
       "      <td>52.50</td>\n",
       "      <td>18.53</td>\n",
       "      <td>0.0</td>\n",
       "      <td>105.0</td>\n",
       "      <td>0.0</td>\n",
       "      <td>...</td>\n",
       "      <td>0</td>\n",
       "      <td>0</td>\n",
       "      <td>0</td>\n",
       "      <td>1</td>\n",
       "      <td>1</td>\n",
       "      <td>0</td>\n",
       "      <td>0</td>\n",
       "      <td>0</td>\n",
       "      <td>0</td>\n",
       "      <td>2</td>\n",
       "    </tr>\n",
       "    <tr>\n",
       "      <th>4</th>\n",
       "      <td>22.0</td>\n",
       "      <td>44.21</td>\n",
       "      <td>96.44</td>\n",
       "      <td>33.24</td>\n",
       "      <td>0.0</td>\n",
       "      <td>56.25</td>\n",
       "      <td>19.02</td>\n",
       "      <td>45.0</td>\n",
       "      <td>30.0</td>\n",
       "      <td>0.0</td>\n",
       "      <td>...</td>\n",
       "      <td>0</td>\n",
       "      <td>0</td>\n",
       "      <td>1</td>\n",
       "      <td>0</td>\n",
       "      <td>0</td>\n",
       "      <td>0</td>\n",
       "      <td>1</td>\n",
       "      <td>0</td>\n",
       "      <td>0</td>\n",
       "      <td>0</td>\n",
       "    </tr>\n",
       "    <tr>\n",
       "      <th>5</th>\n",
       "      <td>21.0</td>\n",
       "      <td>41.25</td>\n",
       "      <td>19.81</td>\n",
       "      <td>7.57</td>\n",
       "      <td>98.9</td>\n",
       "      <td>40.00</td>\n",
       "      <td>14.13</td>\n",
       "      <td>82.5</td>\n",
       "      <td>0.0</td>\n",
       "      <td>0.0</td>\n",
       "      <td>...</td>\n",
       "      <td>0</td>\n",
       "      <td>0</td>\n",
       "      <td>1</td>\n",
       "      <td>0</td>\n",
       "      <td>1</td>\n",
       "      <td>0</td>\n",
       "      <td>0</td>\n",
       "      <td>0</td>\n",
       "      <td>0</td>\n",
       "      <td>0</td>\n",
       "    </tr>\n",
       "  </tbody>\n",
       "</table>\n",
       "<p>6 rows × 59 columns</p>\n",
       "</div>"
      ],
      "text/plain": [
       "   ServicePeriod  error1_avg  error2_avg  error3_avg  error4_avg  error5_avg  \\\n",
       "0           21.0       60.00       35.65       40.71         0.0       65.00   \n",
       "1           21.0        0.00      150.00      150.00        95.0       95.00   \n",
       "2           22.0       37.50       90.00       93.54         0.0       85.00   \n",
       "3           22.0       42.41       78.75       78.75         0.0       52.50   \n",
       "4           22.0       44.21       96.44       33.24         0.0       56.25   \n",
       "5           21.0       41.25       19.81        7.57        98.9       40.00   \n",
       "\n",
       "   Comp_Timelapse_diff_errors  comp_1_replace_avg  comp_2_replace_avg  \\\n",
       "0                       13.58                60.0                47.5   \n",
       "1                       31.50                 0.0               150.0   \n",
       "2                       27.27                37.5               135.0   \n",
       "3                       18.53                 0.0               105.0   \n",
       "4                       19.02                45.0                30.0   \n",
       "5                       14.13                82.5                 0.0   \n",
       "\n",
       "   comp_3_replace_avg   ...    MachineModel_model1  MachineModel_model2  \\\n",
       "0                 0.0   ...                      0                    0   \n",
       "1                95.0   ...                      1                    0   \n",
       "2                 0.0   ...                      0                    0   \n",
       "3                 0.0   ...                      0                    0   \n",
       "4                 0.0   ...                      0                    0   \n",
       "5                 0.0   ...                      0                    0   \n",
       "\n",
       "   MachineModel_model3  MachineModel_model4  MostOccuredError_error1  \\\n",
       "0                    0                    1                        0   \n",
       "1                    0                    0                        0   \n",
       "2                    1                    0                        0   \n",
       "3                    0                    1                        1   \n",
       "4                    1                    0                        0   \n",
       "5                    1                    0                        1   \n",
       "\n",
       "   MostOccuredError_error2  MostOccuredError_error3  MostOccuredError_error4  \\\n",
       "0                        1                        0                        0   \n",
       "1                        0                        0                        1   \n",
       "2                        1                        0                        0   \n",
       "3                        0                        0                        0   \n",
       "4                        0                        1                        0   \n",
       "5                        0                        0                        0   \n",
       "\n",
       "   MostOccuredError_error5  target  \n",
       "0                        0       0  \n",
       "1                        0       0  \n",
       "2                        0       2  \n",
       "3                        0       2  \n",
       "4                        0       0  \n",
       "5                        0       0  \n",
       "\n",
       "[6 rows x 59 columns]"
      ]
     },
     "execution_count": 294,
     "metadata": {},
     "output_type": "execute_result"
    }
   ],
   "source": [
    "abn_data.head(6)"
   ]
  },
  {
   "cell_type": "code",
   "execution_count": 295,
   "metadata": {
    "colab": {},
    "colab_type": "code",
    "id": "iNX9MM6MOvge",
    "outputId": "d38b1763-860c-477b-a6ff-fdecb402c6b6"
   },
   "outputs": [
    {
     "data": {
      "text/plain": [
       "(604, 59)"
      ]
     },
     "execution_count": 295,
     "metadata": {},
     "output_type": "execute_result"
    }
   ],
   "source": [
    "abn_data.shape"
   ]
  },
  {
   "cell_type": "code",
   "execution_count": 296,
   "metadata": {
    "colab": {},
    "colab_type": "code",
    "id": "5jvRvQQwOvgj",
    "outputId": "0ff23778-c4ea-4ac2-e77b-374a2ab52a4d"
   },
   "outputs": [
    {
     "name": "stderr",
     "output_type": "stream",
     "text": [
      "C:\\Users\\chait\\Anaconda3\\lib\\site-packages\\pandas\\core\\frame.py:3697: SettingWithCopyWarning: \n",
      "A value is trying to be set on a copy of a slice from a DataFrame\n",
      "\n",
      "See the caveats in the documentation: http://pandas.pydata.org/pandas-docs/stable/indexing.html#indexing-view-versus-copy\n",
      "  errors=errors)\n"
     ]
    }
   ],
   "source": [
    "abn_target = abn_data['target']\n",
    "abn_data.drop('target', axis=1, inplace=True)"
   ]
  },
  {
   "cell_type": "code",
   "execution_count": 297,
   "metadata": {
    "colab": {},
    "colab_type": "code",
    "id": "p7_r3jV1Ovgo",
    "outputId": "faedabb6-2ebd-42e0-8f5d-6a1addbd12eb"
   },
   "outputs": [
    {
     "name": "stdout",
     "output_type": "stream",
     "text": [
      "604\n",
      "(604, 58)\n"
     ]
    }
   ],
   "source": [
    "print(len(abn_target))\n",
    "print(abn_data.shape)"
   ]
  },
  {
   "cell_type": "code",
   "execution_count": 298,
   "metadata": {
    "colab": {},
    "colab_type": "code",
    "id": "i-JnibrROvgs"
   },
   "outputs": [],
   "source": [
    "std_scale = StandardScaler()\n",
    "abn_data_std = std_scale.fit_transform(abn_data)"
   ]
  },
  {
   "cell_type": "code",
   "execution_count": 299,
   "metadata": {
    "colab": {},
    "colab_type": "code",
    "id": "opkDx9VnOvgv"
   },
   "outputs": [],
   "source": [
    "clt = KMeans(n_clusters=3, random_state=0)"
   ]
  },
  {
   "cell_type": "code",
   "execution_count": 300,
   "metadata": {
    "colab": {},
    "colab_type": "code",
    "id": "YTfgLZCDOvgy"
   },
   "outputs": [],
   "source": [
    "clt_model = clt.fit(abn_data)"
   ]
  },
  {
   "cell_type": "code",
   "execution_count": 301,
   "metadata": {
    "colab": {},
    "colab_type": "code",
    "id": "Ls2SvjNiOvg0"
   },
   "outputs": [],
   "source": [
    "clt_labels = clt_model.labels_"
   ]
  },
  {
   "cell_type": "code",
   "execution_count": 302,
   "metadata": {
    "colab": {},
    "colab_type": "code",
    "id": "WfXFb1hfOvg3",
    "outputId": "730d7289-5a71-4282-ed71-6793ea7b1493"
   },
   "outputs": [
    {
     "name": "stderr",
     "output_type": "stream",
     "text": [
      "C:\\Users\\chait\\Anaconda3\\lib\\site-packages\\ipykernel_launcher.py:1: SettingWithCopyWarning: \n",
      "A value is trying to be set on a copy of a slice from a DataFrame.\n",
      "Try using .loc[row_indexer,col_indexer] = value instead\n",
      "\n",
      "See the caveats in the documentation: http://pandas.pydata.org/pandas-docs/stable/indexing.html#indexing-view-versus-copy\n",
      "  \"\"\"Entry point for launching an IPython kernel.\n"
     ]
    }
   ],
   "source": [
    "abn_data['clt_labels'] = clt_labels"
   ]
  },
  {
   "cell_type": "code",
   "execution_count": 303,
   "metadata": {
    "colab": {},
    "colab_type": "code",
    "id": "_Jum4JhwOvg7",
    "outputId": "bd00118a-3b58-4192-d53b-a215ece15b70"
   },
   "outputs": [
    {
     "data": {
      "text/plain": [
       "0    1\n",
       "1    2\n",
       "2    1\n",
       "3    1\n",
       "4    1\n",
       "5    0\n",
       "Name: clt_labels, dtype: int32"
      ]
     },
     "execution_count": 303,
     "metadata": {},
     "output_type": "execute_result"
    }
   ],
   "source": [
    "abn_data.clt_labels[:6]"
   ]
  },
  {
   "cell_type": "code",
   "execution_count": 304,
   "metadata": {
    "colab": {},
    "colab_type": "code",
    "id": "2NRphmnzOvhD"
   },
   "outputs": [],
   "source": [
    "clt0_data = abn_data[abn_data['clt_labels'] == 0]"
   ]
  },
  {
   "cell_type": "code",
   "execution_count": 305,
   "metadata": {
    "colab": {},
    "colab_type": "code",
    "id": "a4Gcr60xOvhF"
   },
   "outputs": [],
   "source": [
    "clt1_data = abn_data[abn_data['clt_labels'] == 1]"
   ]
  },
  {
   "cell_type": "code",
   "execution_count": 306,
   "metadata": {
    "colab": {},
    "colab_type": "code",
    "id": "4asdMaInOvhI"
   },
   "outputs": [],
   "source": [
    "clt2_data = abn_data[abn_data['clt_labels'] == 2]"
   ]
  },
  {
   "cell_type": "code",
   "execution_count": 307,
   "metadata": {
    "colab": {},
    "colab_type": "code",
    "id": "zQ5GNjk3OvhK",
    "outputId": "f41ee450-d132-483c-8a10-b33279836ef5"
   },
   "outputs": [
    {
     "data": {
      "text/html": [
       "<div>\n",
       "<style scoped>\n",
       "    .dataframe tbody tr th:only-of-type {\n",
       "        vertical-align: middle;\n",
       "    }\n",
       "\n",
       "    .dataframe tbody tr th {\n",
       "        vertical-align: top;\n",
       "    }\n",
       "\n",
       "    .dataframe thead th {\n",
       "        text-align: right;\n",
       "    }\n",
       "</style>\n",
       "<table border=\"1\" class=\"dataframe\">\n",
       "  <thead>\n",
       "    <tr style=\"text-align: right;\">\n",
       "      <th></th>\n",
       "      <th>ServicePeriod</th>\n",
       "      <th>error1_avg</th>\n",
       "      <th>error2_avg</th>\n",
       "      <th>error3_avg</th>\n",
       "      <th>error4_avg</th>\n",
       "      <th>error5_avg</th>\n",
       "      <th>Comp_Timelapse_diff_errors</th>\n",
       "      <th>comp_1_replace_avg</th>\n",
       "      <th>comp_2_replace_avg</th>\n",
       "      <th>comp_3_replace_avg</th>\n",
       "      <th>...</th>\n",
       "      <th>MachineModel_model1</th>\n",
       "      <th>MachineModel_model2</th>\n",
       "      <th>MachineModel_model3</th>\n",
       "      <th>MachineModel_model4</th>\n",
       "      <th>MostOccuredError_error1</th>\n",
       "      <th>MostOccuredError_error2</th>\n",
       "      <th>MostOccuredError_error3</th>\n",
       "      <th>MostOccuredError_error4</th>\n",
       "      <th>MostOccuredError_error5</th>\n",
       "      <th>clt_labels</th>\n",
       "    </tr>\n",
       "  </thead>\n",
       "  <tbody>\n",
       "    <tr>\n",
       "      <th>5</th>\n",
       "      <td>21.0</td>\n",
       "      <td>41.25</td>\n",
       "      <td>19.81</td>\n",
       "      <td>7.57</td>\n",
       "      <td>98.9</td>\n",
       "      <td>40.00</td>\n",
       "      <td>14.13</td>\n",
       "      <td>82.50</td>\n",
       "      <td>0.0</td>\n",
       "      <td>0.0</td>\n",
       "      <td>...</td>\n",
       "      <td>0</td>\n",
       "      <td>0</td>\n",
       "      <td>1</td>\n",
       "      <td>0</td>\n",
       "      <td>1</td>\n",
       "      <td>0</td>\n",
       "      <td>0</td>\n",
       "      <td>0</td>\n",
       "      <td>0</td>\n",
       "      <td>0</td>\n",
       "    </tr>\n",
       "    <tr>\n",
       "      <th>7</th>\n",
       "      <td>21.0</td>\n",
       "      <td>30.00</td>\n",
       "      <td>30.00</td>\n",
       "      <td>30.00</td>\n",
       "      <td>0.0</td>\n",
       "      <td>65.00</td>\n",
       "      <td>27.27</td>\n",
       "      <td>80.04</td>\n",
       "      <td>30.0</td>\n",
       "      <td>0.0</td>\n",
       "      <td>...</td>\n",
       "      <td>0</td>\n",
       "      <td>0</td>\n",
       "      <td>1</td>\n",
       "      <td>0</td>\n",
       "      <td>0</td>\n",
       "      <td>1</td>\n",
       "      <td>0</td>\n",
       "      <td>0</td>\n",
       "      <td>0</td>\n",
       "      <td>0</td>\n",
       "    </tr>\n",
       "    <tr>\n",
       "      <th>9</th>\n",
       "      <td>21.0</td>\n",
       "      <td>93.43</td>\n",
       "      <td>0.00</td>\n",
       "      <td>0.00</td>\n",
       "      <td>0.0</td>\n",
       "      <td>63.00</td>\n",
       "      <td>31.50</td>\n",
       "      <td>0.00</td>\n",
       "      <td>0.0</td>\n",
       "      <td>0.0</td>\n",
       "      <td>...</td>\n",
       "      <td>0</td>\n",
       "      <td>0</td>\n",
       "      <td>0</td>\n",
       "      <td>1</td>\n",
       "      <td>0</td>\n",
       "      <td>0</td>\n",
       "      <td>0</td>\n",
       "      <td>0</td>\n",
       "      <td>1</td>\n",
       "      <td>0</td>\n",
       "    </tr>\n",
       "    <tr>\n",
       "      <th>10</th>\n",
       "      <td>22.0</td>\n",
       "      <td>0.00</td>\n",
       "      <td>68.22</td>\n",
       "      <td>22.50</td>\n",
       "      <td>0.0</td>\n",
       "      <td>54.16</td>\n",
       "      <td>23.73</td>\n",
       "      <td>0.00</td>\n",
       "      <td>22.5</td>\n",
       "      <td>0.0</td>\n",
       "      <td>...</td>\n",
       "      <td>0</td>\n",
       "      <td>0</td>\n",
       "      <td>0</td>\n",
       "      <td>1</td>\n",
       "      <td>0</td>\n",
       "      <td>0</td>\n",
       "      <td>0</td>\n",
       "      <td>0</td>\n",
       "      <td>1</td>\n",
       "      <td>0</td>\n",
       "    </tr>\n",
       "    <tr>\n",
       "      <th>15</th>\n",
       "      <td>21.0</td>\n",
       "      <td>60.00</td>\n",
       "      <td>62.69</td>\n",
       "      <td>3.60</td>\n",
       "      <td>0.0</td>\n",
       "      <td>50.00</td>\n",
       "      <td>18.53</td>\n",
       "      <td>100.00</td>\n",
       "      <td>0.0</td>\n",
       "      <td>0.0</td>\n",
       "      <td>...</td>\n",
       "      <td>0</td>\n",
       "      <td>0</td>\n",
       "      <td>1</td>\n",
       "      <td>0</td>\n",
       "      <td>0</td>\n",
       "      <td>0</td>\n",
       "      <td>0</td>\n",
       "      <td>0</td>\n",
       "      <td>1</td>\n",
       "      <td>0</td>\n",
       "    </tr>\n",
       "  </tbody>\n",
       "</table>\n",
       "<p>5 rows × 59 columns</p>\n",
       "</div>"
      ],
      "text/plain": [
       "    ServicePeriod  error1_avg  error2_avg  error3_avg  error4_avg  error5_avg  \\\n",
       "5            21.0       41.25       19.81        7.57        98.9       40.00   \n",
       "7            21.0       30.00       30.00       30.00         0.0       65.00   \n",
       "9            21.0       93.43        0.00        0.00         0.0       63.00   \n",
       "10           22.0        0.00       68.22       22.50         0.0       54.16   \n",
       "15           21.0       60.00       62.69        3.60         0.0       50.00   \n",
       "\n",
       "    Comp_Timelapse_diff_errors  comp_1_replace_avg  comp_2_replace_avg  \\\n",
       "5                        14.13               82.50                 0.0   \n",
       "7                        27.27               80.04                30.0   \n",
       "9                        31.50                0.00                 0.0   \n",
       "10                       23.73                0.00                22.5   \n",
       "15                       18.53              100.00                 0.0   \n",
       "\n",
       "    comp_3_replace_avg     ...      MachineModel_model1  MachineModel_model2  \\\n",
       "5                  0.0     ...                        0                    0   \n",
       "7                  0.0     ...                        0                    0   \n",
       "9                  0.0     ...                        0                    0   \n",
       "10                 0.0     ...                        0                    0   \n",
       "15                 0.0     ...                        0                    0   \n",
       "\n",
       "    MachineModel_model3  MachineModel_model4  MostOccuredError_error1  \\\n",
       "5                     1                    0                        1   \n",
       "7                     1                    0                        0   \n",
       "9                     0                    1                        0   \n",
       "10                    0                    1                        0   \n",
       "15                    1                    0                        0   \n",
       "\n",
       "    MostOccuredError_error2  MostOccuredError_error3  MostOccuredError_error4  \\\n",
       "5                         0                        0                        0   \n",
       "7                         1                        0                        0   \n",
       "9                         0                        0                        0   \n",
       "10                        0                        0                        0   \n",
       "15                        0                        0                        0   \n",
       "\n",
       "    MostOccuredError_error5  clt_labels  \n",
       "5                         0           0  \n",
       "7                         0           0  \n",
       "9                         1           0  \n",
       "10                        1           0  \n",
       "15                        1           0  \n",
       "\n",
       "[5 rows x 59 columns]"
      ]
     },
     "execution_count": 307,
     "metadata": {},
     "output_type": "execute_result"
    }
   ],
   "source": [
    "clt0_data.head(5)"
   ]
  },
  {
   "cell_type": "code",
   "execution_count": 308,
   "metadata": {
    "colab": {},
    "colab_type": "code",
    "id": "Vhu49-pkOvhQ",
    "outputId": "f5221299-48fa-450e-e1d1-703306a8baa7"
   },
   "outputs": [
    {
     "name": "stdout",
     "output_type": "stream",
     "text": [
      "The shape of cluster zero is (196, 59)\n",
      "The shape of cluster one is (269, 59)\n",
      "The shape of cluster two is (139, 59)\n"
     ]
    }
   ],
   "source": [
    "print(\"The shape of cluster zero is {}\".format(clt0_data.shape))\n",
    "print(\"The shape of cluster one is {}\".format(clt1_data.shape))\n",
    "print(\"The shape of cluster two is {}\".format(clt2_data.shape))"
   ]
  },
  {
   "cell_type": "code",
   "execution_count": 309,
   "metadata": {
    "colab": {},
    "colab_type": "code",
    "id": "e1Exp_8XOvhS"
   },
   "outputs": [],
   "source": [
    "#### Appending imbalance data"
   ]
  },
  {
   "cell_type": "code",
   "execution_count": 310,
   "metadata": {
    "colab": {},
    "colab_type": "code",
    "id": "3C7YWNATOvhU",
    "outputId": "5492be1f-ff87-4dbd-90c4-1084bd286b23"
   },
   "outputs": [
    {
     "data": {
      "text/plain": [
       "(70, 59)"
      ]
     },
     "execution_count": 310,
     "metadata": {},
     "output_type": "execute_result"
    }
   ],
   "source": [
    "imbal_data.shape"
   ]
  },
  {
   "cell_type": "code",
   "execution_count": 311,
   "metadata": {
    "colab": {},
    "colab_type": "code",
    "id": "3mpTEuxcOvhW",
    "outputId": "41823dcf-4ec4-40bf-9401-71668861abe8"
   },
   "outputs": [
    {
     "name": "stderr",
     "output_type": "stream",
     "text": [
      "C:\\Users\\chait\\Anaconda3\\lib\\site-packages\\ipykernel_launcher.py:1: SettingWithCopyWarning: \n",
      "A value is trying to be set on a copy of a slice from a DataFrame.\n",
      "Try using .loc[row_indexer,col_indexer] = value instead\n",
      "\n",
      "See the caveats in the documentation: http://pandas.pydata.org/pandas-docs/stable/indexing.html#indexing-view-versus-copy\n",
      "  \"\"\"Entry point for launching an IPython kernel.\n",
      "C:\\Users\\chait\\Anaconda3\\lib\\site-packages\\pandas\\core\\frame.py:3697: SettingWithCopyWarning: \n",
      "A value is trying to be set on a copy of a slice from a DataFrame\n",
      "\n",
      "See the caveats in the documentation: http://pandas.pydata.org/pandas-docs/stable/indexing.html#indexing-view-versus-copy\n",
      "  errors=errors)\n"
     ]
    }
   ],
   "source": [
    "imbal_data['clt_labels'] = imbal_data['target']\n",
    "imbal_data.drop('target', axis=1, inplace=True)"
   ]
  },
  {
   "cell_type": "code",
   "execution_count": 312,
   "metadata": {
    "colab": {},
    "colab_type": "code",
    "id": "N5K6Olj8OvhZ",
    "outputId": "76a4375e-b141-40d6-bd9a-dbcc1e06e42c"
   },
   "outputs": [
    {
     "name": "stderr",
     "output_type": "stream",
     "text": [
      "C:\\Users\\chait\\Anaconda3\\lib\\site-packages\\pandas\\core\\generic.py:5890: SettingWithCopyWarning: \n",
      "A value is trying to be set on a copy of a slice from a DataFrame\n",
      "\n",
      "See the caveats in the documentation: http://pandas.pydata.org/pandas-docs/stable/indexing.html#indexing-view-versus-copy\n",
      "  self._update_inplace(new_data)\n"
     ]
    }
   ],
   "source": [
    "imbal_data['clt_labels'].replace(1, 3,inplace=True)"
   ]
  },
  {
   "cell_type": "code",
   "execution_count": 313,
   "metadata": {
    "colab": {},
    "colab_type": "code",
    "id": "_3cpA_40Ovhb",
    "outputId": "e05f2de0-67a4-4f42-d190-4c0c632066ea"
   },
   "outputs": [
    {
     "data": {
      "text/html": [
       "<div>\n",
       "<style scoped>\n",
       "    .dataframe tbody tr th:only-of-type {\n",
       "        vertical-align: middle;\n",
       "    }\n",
       "\n",
       "    .dataframe tbody tr th {\n",
       "        vertical-align: top;\n",
       "    }\n",
       "\n",
       "    .dataframe thead th {\n",
       "        text-align: right;\n",
       "    }\n",
       "</style>\n",
       "<table border=\"1\" class=\"dataframe\">\n",
       "  <thead>\n",
       "    <tr style=\"text-align: right;\">\n",
       "      <th></th>\n",
       "      <th>ServicePeriod</th>\n",
       "      <th>error1_avg</th>\n",
       "      <th>error2_avg</th>\n",
       "      <th>error3_avg</th>\n",
       "      <th>error4_avg</th>\n",
       "      <th>error5_avg</th>\n",
       "      <th>Comp_Timelapse_diff_errors</th>\n",
       "      <th>comp_1_replace_avg</th>\n",
       "      <th>comp_2_replace_avg</th>\n",
       "      <th>comp_3_replace_avg</th>\n",
       "      <th>...</th>\n",
       "      <th>MachineModel_model1</th>\n",
       "      <th>MachineModel_model2</th>\n",
       "      <th>MachineModel_model3</th>\n",
       "      <th>MachineModel_model4</th>\n",
       "      <th>MostOccuredError_error1</th>\n",
       "      <th>MostOccuredError_error2</th>\n",
       "      <th>MostOccuredError_error3</th>\n",
       "      <th>MostOccuredError_error4</th>\n",
       "      <th>MostOccuredError_error5</th>\n",
       "      <th>clt_labels</th>\n",
       "    </tr>\n",
       "  </thead>\n",
       "  <tbody>\n",
       "    <tr>\n",
       "      <th>6</th>\n",
       "      <td>21.0</td>\n",
       "      <td>0.0</td>\n",
       "      <td>27.02</td>\n",
       "      <td>69.73</td>\n",
       "      <td>0.00</td>\n",
       "      <td>42.00</td>\n",
       "      <td>21.00</td>\n",
       "      <td>0.00</td>\n",
       "      <td>0.0</td>\n",
       "      <td>0.00</td>\n",
       "      <td>...</td>\n",
       "      <td>0</td>\n",
       "      <td>0</td>\n",
       "      <td>0</td>\n",
       "      <td>1</td>\n",
       "      <td>0</td>\n",
       "      <td>0</td>\n",
       "      <td>0</td>\n",
       "      <td>0</td>\n",
       "      <td>1</td>\n",
       "      <td>3</td>\n",
       "    </tr>\n",
       "    <tr>\n",
       "      <th>25</th>\n",
       "      <td>22.0</td>\n",
       "      <td>37.5</td>\n",
       "      <td>105.00</td>\n",
       "      <td>105.00</td>\n",
       "      <td>31.66</td>\n",
       "      <td>45.00</td>\n",
       "      <td>22.50</td>\n",
       "      <td>37.50</td>\n",
       "      <td>105.0</td>\n",
       "      <td>0.00</td>\n",
       "      <td>...</td>\n",
       "      <td>0</td>\n",
       "      <td>0</td>\n",
       "      <td>1</td>\n",
       "      <td>0</td>\n",
       "      <td>0</td>\n",
       "      <td>0</td>\n",
       "      <td>0</td>\n",
       "      <td>0</td>\n",
       "      <td>1</td>\n",
       "      <td>3</td>\n",
       "    </tr>\n",
       "    <tr>\n",
       "      <th>26</th>\n",
       "      <td>21.0</td>\n",
       "      <td>33.0</td>\n",
       "      <td>45.25</td>\n",
       "      <td>0.00</td>\n",
       "      <td>67.50</td>\n",
       "      <td>56.25</td>\n",
       "      <td>16.88</td>\n",
       "      <td>41.25</td>\n",
       "      <td>0.0</td>\n",
       "      <td>58.83</td>\n",
       "      <td>...</td>\n",
       "      <td>1</td>\n",
       "      <td>0</td>\n",
       "      <td>0</td>\n",
       "      <td>0</td>\n",
       "      <td>1</td>\n",
       "      <td>0</td>\n",
       "      <td>0</td>\n",
       "      <td>0</td>\n",
       "      <td>0</td>\n",
       "      <td>3</td>\n",
       "    </tr>\n",
       "    <tr>\n",
       "      <th>35</th>\n",
       "      <td>22.0</td>\n",
       "      <td>35.0</td>\n",
       "      <td>56.32</td>\n",
       "      <td>41.25</td>\n",
       "      <td>50.00</td>\n",
       "      <td>60.00</td>\n",
       "      <td>14.29</td>\n",
       "      <td>52.50</td>\n",
       "      <td>55.0</td>\n",
       "      <td>60.00</td>\n",
       "      <td>...</td>\n",
       "      <td>0</td>\n",
       "      <td>1</td>\n",
       "      <td>0</td>\n",
       "      <td>0</td>\n",
       "      <td>0</td>\n",
       "      <td>0</td>\n",
       "      <td>0</td>\n",
       "      <td>1</td>\n",
       "      <td>0</td>\n",
       "      <td>3</td>\n",
       "    </tr>\n",
       "  </tbody>\n",
       "</table>\n",
       "<p>4 rows × 59 columns</p>\n",
       "</div>"
      ],
      "text/plain": [
       "    ServicePeriod  error1_avg  error2_avg  error3_avg  error4_avg  error5_avg  \\\n",
       "6            21.0         0.0       27.02       69.73        0.00       42.00   \n",
       "25           22.0        37.5      105.00      105.00       31.66       45.00   \n",
       "26           21.0        33.0       45.25        0.00       67.50       56.25   \n",
       "35           22.0        35.0       56.32       41.25       50.00       60.00   \n",
       "\n",
       "    Comp_Timelapse_diff_errors  comp_1_replace_avg  comp_2_replace_avg  \\\n",
       "6                        21.00                0.00                 0.0   \n",
       "25                       22.50               37.50               105.0   \n",
       "26                       16.88               41.25                 0.0   \n",
       "35                       14.29               52.50                55.0   \n",
       "\n",
       "    comp_3_replace_avg     ...      MachineModel_model1  MachineModel_model2  \\\n",
       "6                 0.00     ...                        0                    0   \n",
       "25                0.00     ...                        0                    0   \n",
       "26               58.83     ...                        1                    0   \n",
       "35               60.00     ...                        0                    1   \n",
       "\n",
       "    MachineModel_model3  MachineModel_model4  MostOccuredError_error1  \\\n",
       "6                     0                    1                        0   \n",
       "25                    1                    0                        0   \n",
       "26                    0                    0                        1   \n",
       "35                    0                    0                        0   \n",
       "\n",
       "    MostOccuredError_error2  MostOccuredError_error3  MostOccuredError_error4  \\\n",
       "6                         0                        0                        0   \n",
       "25                        0                        0                        0   \n",
       "26                        0                        0                        0   \n",
       "35                        0                        0                        1   \n",
       "\n",
       "    MostOccuredError_error5  clt_labels  \n",
       "6                         1           3  \n",
       "25                        1           3  \n",
       "26                        0           3  \n",
       "35                        0           3  \n",
       "\n",
       "[4 rows x 59 columns]"
      ]
     },
     "execution_count": 313,
     "metadata": {},
     "output_type": "execute_result"
    }
   ],
   "source": [
    "imbal_data.head(4)"
   ]
  },
  {
   "cell_type": "code",
   "execution_count": 314,
   "metadata": {
    "colab": {},
    "colab_type": "code",
    "id": "oFznbUHWOvhd",
    "outputId": "b221963c-cd92-4eb2-c042-74f9eec1aa33"
   },
   "outputs": [
    {
     "data": {
      "text/plain": [
       "(266, 59)"
      ]
     },
     "execution_count": 314,
     "metadata": {},
     "output_type": "execute_result"
    }
   ],
   "source": [
    "dataset1 = pd.concat([clt0_data, imbal_data], axis=0)\n",
    "dataset1.shape"
   ]
  },
  {
   "cell_type": "code",
   "execution_count": 315,
   "metadata": {
    "colab": {},
    "colab_type": "code",
    "id": "bhRIM-pGOvhf",
    "outputId": "f17ad17e-7274-4654-e4c5-0aa8411e99b6"
   },
   "outputs": [
    {
     "data": {
      "text/plain": [
       "array([0, 3], dtype=int64)"
      ]
     },
     "execution_count": 315,
     "metadata": {},
     "output_type": "execute_result"
    }
   ],
   "source": [
    "dataset1.clt_labels.unique()"
   ]
  },
  {
   "cell_type": "code",
   "execution_count": 316,
   "metadata": {
    "colab": {},
    "colab_type": "code",
    "id": "dMhIDv1SOvhj"
   },
   "outputs": [],
   "source": [
    "dataset1['clt_labels'] = dataset1['clt_labels'].map({0: 0, 3: 1})"
   ]
  },
  {
   "cell_type": "code",
   "execution_count": 317,
   "metadata": {
    "colab": {},
    "colab_type": "code",
    "id": "x4pq1PueOvhl"
   },
   "outputs": [],
   "source": [
    "dataset1 = dataset1.sample(frac=1).reset_index(drop=True)"
   ]
  },
  {
   "cell_type": "code",
   "execution_count": 318,
   "metadata": {
    "colab": {},
    "colab_type": "code",
    "id": "DL7F2gqnOvho",
    "outputId": "0f84221e-6155-42a2-e6e8-351c78bb7f4e"
   },
   "outputs": [
    {
     "data": {
      "text/plain": [
       "(266, 59)"
      ]
     },
     "execution_count": 318,
     "metadata": {},
     "output_type": "execute_result"
    }
   ],
   "source": [
    "dataset1.shape"
   ]
  },
  {
   "cell_type": "code",
   "execution_count": 319,
   "metadata": {
    "colab": {},
    "colab_type": "code",
    "id": "eNygkgVyOvhq",
    "outputId": "a663c588-54ca-43ed-f525-89e276a76179"
   },
   "outputs": [
    {
     "data": {
      "text/html": [
       "<div>\n",
       "<style scoped>\n",
       "    .dataframe tbody tr th:only-of-type {\n",
       "        vertical-align: middle;\n",
       "    }\n",
       "\n",
       "    .dataframe tbody tr th {\n",
       "        vertical-align: top;\n",
       "    }\n",
       "\n",
       "    .dataframe thead th {\n",
       "        text-align: right;\n",
       "    }\n",
       "</style>\n",
       "<table border=\"1\" class=\"dataframe\">\n",
       "  <thead>\n",
       "    <tr style=\"text-align: right;\">\n",
       "      <th></th>\n",
       "      <th>ServicePeriod</th>\n",
       "      <th>error1_avg</th>\n",
       "      <th>error2_avg</th>\n",
       "      <th>error3_avg</th>\n",
       "      <th>error4_avg</th>\n",
       "      <th>error5_avg</th>\n",
       "      <th>Comp_Timelapse_diff_errors</th>\n",
       "      <th>comp_1_replace_avg</th>\n",
       "      <th>comp_2_replace_avg</th>\n",
       "      <th>comp_3_replace_avg</th>\n",
       "      <th>...</th>\n",
       "      <th>MachineModel_model1</th>\n",
       "      <th>MachineModel_model2</th>\n",
       "      <th>MachineModel_model3</th>\n",
       "      <th>MachineModel_model4</th>\n",
       "      <th>MostOccuredError_error1</th>\n",
       "      <th>MostOccuredError_error2</th>\n",
       "      <th>MostOccuredError_error3</th>\n",
       "      <th>MostOccuredError_error4</th>\n",
       "      <th>MostOccuredError_error5</th>\n",
       "      <th>clt_labels</th>\n",
       "    </tr>\n",
       "  </thead>\n",
       "  <tbody>\n",
       "    <tr>\n",
       "      <th>0</th>\n",
       "      <td>17.0</td>\n",
       "      <td>50.28</td>\n",
       "      <td>97.50</td>\n",
       "      <td>97.50</td>\n",
       "      <td>63.75</td>\n",
       "      <td>75.0</td>\n",
       "      <td>18.85</td>\n",
       "      <td>67.5</td>\n",
       "      <td>97.50</td>\n",
       "      <td>63.75</td>\n",
       "      <td>...</td>\n",
       "      <td>0</td>\n",
       "      <td>1</td>\n",
       "      <td>0</td>\n",
       "      <td>0</td>\n",
       "      <td>1</td>\n",
       "      <td>0</td>\n",
       "      <td>0</td>\n",
       "      <td>0</td>\n",
       "      <td>0</td>\n",
       "      <td>1</td>\n",
       "    </tr>\n",
       "    <tr>\n",
       "      <th>1</th>\n",
       "      <td>8.0</td>\n",
       "      <td>94.44</td>\n",
       "      <td>33.75</td>\n",
       "      <td>42.81</td>\n",
       "      <td>0.00</td>\n",
       "      <td>0.0</td>\n",
       "      <td>25.46</td>\n",
       "      <td>90.0</td>\n",
       "      <td>45.00</td>\n",
       "      <td>0.00</td>\n",
       "      <td>...</td>\n",
       "      <td>0</td>\n",
       "      <td>0</td>\n",
       "      <td>1</td>\n",
       "      <td>0</td>\n",
       "      <td>0</td>\n",
       "      <td>1</td>\n",
       "      <td>0</td>\n",
       "      <td>0</td>\n",
       "      <td>0</td>\n",
       "      <td>0</td>\n",
       "    </tr>\n",
       "    <tr>\n",
       "      <th>2</th>\n",
       "      <td>5.0</td>\n",
       "      <td>20.00</td>\n",
       "      <td>41.25</td>\n",
       "      <td>41.25</td>\n",
       "      <td>30.00</td>\n",
       "      <td>0.0</td>\n",
       "      <td>16.15</td>\n",
       "      <td>30.0</td>\n",
       "      <td>41.25</td>\n",
       "      <td>30.00</td>\n",
       "      <td>...</td>\n",
       "      <td>1</td>\n",
       "      <td>0</td>\n",
       "      <td>0</td>\n",
       "      <td>0</td>\n",
       "      <td>0</td>\n",
       "      <td>1</td>\n",
       "      <td>0</td>\n",
       "      <td>0</td>\n",
       "      <td>0</td>\n",
       "      <td>1</td>\n",
       "    </tr>\n",
       "    <tr>\n",
       "      <th>3</th>\n",
       "      <td>14.0</td>\n",
       "      <td>95.00</td>\n",
       "      <td>47.90</td>\n",
       "      <td>27.82</td>\n",
       "      <td>0.00</td>\n",
       "      <td>0.0</td>\n",
       "      <td>31.67</td>\n",
       "      <td>142.5</td>\n",
       "      <td>30.00</td>\n",
       "      <td>0.00</td>\n",
       "      <td>...</td>\n",
       "      <td>0</td>\n",
       "      <td>0</td>\n",
       "      <td>0</td>\n",
       "      <td>1</td>\n",
       "      <td>1</td>\n",
       "      <td>0</td>\n",
       "      <td>0</td>\n",
       "      <td>0</td>\n",
       "      <td>0</td>\n",
       "      <td>0</td>\n",
       "    </tr>\n",
       "    <tr>\n",
       "      <th>4</th>\n",
       "      <td>19.0</td>\n",
       "      <td>58.22</td>\n",
       "      <td>50.00</td>\n",
       "      <td>60.00</td>\n",
       "      <td>0.00</td>\n",
       "      <td>45.0</td>\n",
       "      <td>16.67</td>\n",
       "      <td>0.0</td>\n",
       "      <td>60.00</td>\n",
       "      <td>0.00</td>\n",
       "      <td>...</td>\n",
       "      <td>0</td>\n",
       "      <td>0</td>\n",
       "      <td>0</td>\n",
       "      <td>1</td>\n",
       "      <td>0</td>\n",
       "      <td>1</td>\n",
       "      <td>0</td>\n",
       "      <td>0</td>\n",
       "      <td>0</td>\n",
       "      <td>1</td>\n",
       "    </tr>\n",
       "  </tbody>\n",
       "</table>\n",
       "<p>5 rows × 59 columns</p>\n",
       "</div>"
      ],
      "text/plain": [
       "   ServicePeriod  error1_avg  error2_avg  error3_avg  error4_avg  error5_avg  \\\n",
       "0           17.0       50.28       97.50       97.50       63.75        75.0   \n",
       "1            8.0       94.44       33.75       42.81        0.00         0.0   \n",
       "2            5.0       20.00       41.25       41.25       30.00         0.0   \n",
       "3           14.0       95.00       47.90       27.82        0.00         0.0   \n",
       "4           19.0       58.22       50.00       60.00        0.00        45.0   \n",
       "\n",
       "   Comp_Timelapse_diff_errors  comp_1_replace_avg  comp_2_replace_avg  \\\n",
       "0                       18.85                67.5               97.50   \n",
       "1                       25.46                90.0               45.00   \n",
       "2                       16.15                30.0               41.25   \n",
       "3                       31.67               142.5               30.00   \n",
       "4                       16.67                 0.0               60.00   \n",
       "\n",
       "   comp_3_replace_avg     ...      MachineModel_model1  MachineModel_model2  \\\n",
       "0               63.75     ...                        0                    1   \n",
       "1                0.00     ...                        0                    0   \n",
       "2               30.00     ...                        1                    0   \n",
       "3                0.00     ...                        0                    0   \n",
       "4                0.00     ...                        0                    0   \n",
       "\n",
       "   MachineModel_model3  MachineModel_model4  MostOccuredError_error1  \\\n",
       "0                    0                    0                        1   \n",
       "1                    1                    0                        0   \n",
       "2                    0                    0                        0   \n",
       "3                    0                    1                        1   \n",
       "4                    0                    1                        0   \n",
       "\n",
       "   MostOccuredError_error2  MostOccuredError_error3  MostOccuredError_error4  \\\n",
       "0                        0                        0                        0   \n",
       "1                        1                        0                        0   \n",
       "2                        1                        0                        0   \n",
       "3                        0                        0                        0   \n",
       "4                        1                        0                        0   \n",
       "\n",
       "   MostOccuredError_error5  clt_labels  \n",
       "0                        0           1  \n",
       "1                        0           0  \n",
       "2                        0           1  \n",
       "3                        0           0  \n",
       "4                        0           1  \n",
       "\n",
       "[5 rows x 59 columns]"
      ]
     },
     "execution_count": 319,
     "metadata": {},
     "output_type": "execute_result"
    }
   ],
   "source": [
    "dataset1.head(5)"
   ]
  },
  {
   "cell_type": "code",
   "execution_count": 320,
   "metadata": {
    "colab": {},
    "colab_type": "code",
    "id": "69YuztFFOvhs"
   },
   "outputs": [],
   "source": [
    "### Preparing dataset2"
   ]
  },
  {
   "cell_type": "code",
   "execution_count": 321,
   "metadata": {
    "colab": {},
    "colab_type": "code",
    "id": "2FT2lth-Ovhy",
    "outputId": "9d8e2e59-d614-4a2b-93ef-c006e17de852"
   },
   "outputs": [
    {
     "data": {
      "text/plain": [
       "(339, 59)"
      ]
     },
     "execution_count": 321,
     "metadata": {},
     "output_type": "execute_result"
    }
   ],
   "source": [
    "dataset2 = pd.concat([clt1_data, imbal_data], axis=0)\n",
    "dataset2.shape"
   ]
  },
  {
   "cell_type": "code",
   "execution_count": 322,
   "metadata": {
    "colab": {},
    "colab_type": "code",
    "id": "QuNhUQsQOvh0",
    "outputId": "b76184e1-bbb8-4666-c425-49570c29f6a3"
   },
   "outputs": [
    {
     "data": {
      "text/plain": [
       "array([1, 3], dtype=int64)"
      ]
     },
     "execution_count": 322,
     "metadata": {},
     "output_type": "execute_result"
    }
   ],
   "source": [
    "dataset2.clt_labels.unique()"
   ]
  },
  {
   "cell_type": "code",
   "execution_count": 323,
   "metadata": {
    "colab": {},
    "colab_type": "code",
    "id": "tucB3NFCOvh4"
   },
   "outputs": [],
   "source": [
    "dataset2['clt_labels'] = dataset2['clt_labels'].map({1: 0, 3: 1})"
   ]
  },
  {
   "cell_type": "code",
   "execution_count": 324,
   "metadata": {
    "colab": {},
    "colab_type": "code",
    "id": "mBMox1OROvh6"
   },
   "outputs": [],
   "source": [
    "dataset2 = dataset2.sample(frac=1).reset_index(drop=True)"
   ]
  },
  {
   "cell_type": "code",
   "execution_count": 325,
   "metadata": {
    "colab": {},
    "colab_type": "code",
    "id": "ZSt1DVmLOvh8",
    "outputId": "17190a49-cd12-4afb-e204-8978afc4f5b2"
   },
   "outputs": [
    {
     "data": {
      "text/plain": [
       "(339, 59)"
      ]
     },
     "execution_count": 325,
     "metadata": {},
     "output_type": "execute_result"
    }
   ],
   "source": [
    "dataset2.shape"
   ]
  },
  {
   "cell_type": "code",
   "execution_count": 326,
   "metadata": {
    "colab": {},
    "colab_type": "code",
    "id": "KJ0eVHA7Ovh-",
    "outputId": "452acc50-5fc4-464d-edbf-80b009dc94d4"
   },
   "outputs": [
    {
     "data": {
      "text/html": [
       "<div>\n",
       "<style scoped>\n",
       "    .dataframe tbody tr th:only-of-type {\n",
       "        vertical-align: middle;\n",
       "    }\n",
       "\n",
       "    .dataframe tbody tr th {\n",
       "        vertical-align: top;\n",
       "    }\n",
       "\n",
       "    .dataframe thead th {\n",
       "        text-align: right;\n",
       "    }\n",
       "</style>\n",
       "<table border=\"1\" class=\"dataframe\">\n",
       "  <thead>\n",
       "    <tr style=\"text-align: right;\">\n",
       "      <th></th>\n",
       "      <th>ServicePeriod</th>\n",
       "      <th>error1_avg</th>\n",
       "      <th>error2_avg</th>\n",
       "      <th>error3_avg</th>\n",
       "      <th>error4_avg</th>\n",
       "      <th>error5_avg</th>\n",
       "      <th>Comp_Timelapse_diff_errors</th>\n",
       "      <th>comp_1_replace_avg</th>\n",
       "      <th>comp_2_replace_avg</th>\n",
       "      <th>comp_3_replace_avg</th>\n",
       "      <th>...</th>\n",
       "      <th>MachineModel_model1</th>\n",
       "      <th>MachineModel_model2</th>\n",
       "      <th>MachineModel_model3</th>\n",
       "      <th>MachineModel_model4</th>\n",
       "      <th>MostOccuredError_error1</th>\n",
       "      <th>MostOccuredError_error2</th>\n",
       "      <th>MostOccuredError_error3</th>\n",
       "      <th>MostOccuredError_error4</th>\n",
       "      <th>MostOccuredError_error5</th>\n",
       "      <th>clt_labels</th>\n",
       "    </tr>\n",
       "  </thead>\n",
       "  <tbody>\n",
       "    <tr>\n",
       "      <th>0</th>\n",
       "      <td>20.0</td>\n",
       "      <td>0.0</td>\n",
       "      <td>82.50</td>\n",
       "      <td>82.50</td>\n",
       "      <td>0.0</td>\n",
       "      <td>40.00</td>\n",
       "      <td>33.75</td>\n",
       "      <td>0.0</td>\n",
       "      <td>82.5</td>\n",
       "      <td>0.0</td>\n",
       "      <td>...</td>\n",
       "      <td>0</td>\n",
       "      <td>0</td>\n",
       "      <td>1</td>\n",
       "      <td>0</td>\n",
       "      <td>0</td>\n",
       "      <td>0</td>\n",
       "      <td>0</td>\n",
       "      <td>0</td>\n",
       "      <td>1</td>\n",
       "      <td>0</td>\n",
       "    </tr>\n",
       "    <tr>\n",
       "      <th>1</th>\n",
       "      <td>22.0</td>\n",
       "      <td>37.5</td>\n",
       "      <td>90.00</td>\n",
       "      <td>93.54</td>\n",
       "      <td>0.0</td>\n",
       "      <td>85.00</td>\n",
       "      <td>27.27</td>\n",
       "      <td>37.5</td>\n",
       "      <td>135.0</td>\n",
       "      <td>0.0</td>\n",
       "      <td>...</td>\n",
       "      <td>0</td>\n",
       "      <td>0</td>\n",
       "      <td>1</td>\n",
       "      <td>0</td>\n",
       "      <td>0</td>\n",
       "      <td>1</td>\n",
       "      <td>0</td>\n",
       "      <td>0</td>\n",
       "      <td>0</td>\n",
       "      <td>0</td>\n",
       "    </tr>\n",
       "    <tr>\n",
       "      <th>2</th>\n",
       "      <td>20.0</td>\n",
       "      <td>0.0</td>\n",
       "      <td>0.00</td>\n",
       "      <td>92.96</td>\n",
       "      <td>75.0</td>\n",
       "      <td>56.25</td>\n",
       "      <td>25.00</td>\n",
       "      <td>0.0</td>\n",
       "      <td>0.0</td>\n",
       "      <td>75.0</td>\n",
       "      <td>...</td>\n",
       "      <td>1</td>\n",
       "      <td>0</td>\n",
       "      <td>0</td>\n",
       "      <td>0</td>\n",
       "      <td>0</td>\n",
       "      <td>0</td>\n",
       "      <td>0</td>\n",
       "      <td>1</td>\n",
       "      <td>0</td>\n",
       "      <td>1</td>\n",
       "    </tr>\n",
       "    <tr>\n",
       "      <th>3</th>\n",
       "      <td>21.0</td>\n",
       "      <td>105.0</td>\n",
       "      <td>52.97</td>\n",
       "      <td>51.00</td>\n",
       "      <td>0.0</td>\n",
       "      <td>67.50</td>\n",
       "      <td>18.70</td>\n",
       "      <td>105.0</td>\n",
       "      <td>51.0</td>\n",
       "      <td>0.0</td>\n",
       "      <td>...</td>\n",
       "      <td>0</td>\n",
       "      <td>0</td>\n",
       "      <td>1</td>\n",
       "      <td>0</td>\n",
       "      <td>0</td>\n",
       "      <td>1</td>\n",
       "      <td>0</td>\n",
       "      <td>0</td>\n",
       "      <td>0</td>\n",
       "      <td>0</td>\n",
       "    </tr>\n",
       "    <tr>\n",
       "      <th>4</th>\n",
       "      <td>7.0</td>\n",
       "      <td>75.0</td>\n",
       "      <td>60.00</td>\n",
       "      <td>60.00</td>\n",
       "      <td>0.0</td>\n",
       "      <td>0.00</td>\n",
       "      <td>24.00</td>\n",
       "      <td>75.0</td>\n",
       "      <td>60.0</td>\n",
       "      <td>0.0</td>\n",
       "      <td>...</td>\n",
       "      <td>0</td>\n",
       "      <td>0</td>\n",
       "      <td>1</td>\n",
       "      <td>0</td>\n",
       "      <td>0</td>\n",
       "      <td>1</td>\n",
       "      <td>0</td>\n",
       "      <td>0</td>\n",
       "      <td>0</td>\n",
       "      <td>0</td>\n",
       "    </tr>\n",
       "  </tbody>\n",
       "</table>\n",
       "<p>5 rows × 59 columns</p>\n",
       "</div>"
      ],
      "text/plain": [
       "   ServicePeriod  error1_avg  error2_avg  error3_avg  error4_avg  error5_avg  \\\n",
       "0           20.0         0.0       82.50       82.50         0.0       40.00   \n",
       "1           22.0        37.5       90.00       93.54         0.0       85.00   \n",
       "2           20.0         0.0        0.00       92.96        75.0       56.25   \n",
       "3           21.0       105.0       52.97       51.00         0.0       67.50   \n",
       "4            7.0        75.0       60.00       60.00         0.0        0.00   \n",
       "\n",
       "   Comp_Timelapse_diff_errors  comp_1_replace_avg  comp_2_replace_avg  \\\n",
       "0                       33.75                 0.0                82.5   \n",
       "1                       27.27                37.5               135.0   \n",
       "2                       25.00                 0.0                 0.0   \n",
       "3                       18.70               105.0                51.0   \n",
       "4                       24.00                75.0                60.0   \n",
       "\n",
       "   comp_3_replace_avg     ...      MachineModel_model1  MachineModel_model2  \\\n",
       "0                 0.0     ...                        0                    0   \n",
       "1                 0.0     ...                        0                    0   \n",
       "2                75.0     ...                        1                    0   \n",
       "3                 0.0     ...                        0                    0   \n",
       "4                 0.0     ...                        0                    0   \n",
       "\n",
       "   MachineModel_model3  MachineModel_model4  MostOccuredError_error1  \\\n",
       "0                    1                    0                        0   \n",
       "1                    1                    0                        0   \n",
       "2                    0                    0                        0   \n",
       "3                    1                    0                        0   \n",
       "4                    1                    0                        0   \n",
       "\n",
       "   MostOccuredError_error2  MostOccuredError_error3  MostOccuredError_error4  \\\n",
       "0                        0                        0                        0   \n",
       "1                        1                        0                        0   \n",
       "2                        0                        0                        1   \n",
       "3                        1                        0                        0   \n",
       "4                        1                        0                        0   \n",
       "\n",
       "   MostOccuredError_error5  clt_labels  \n",
       "0                        1           0  \n",
       "1                        0           0  \n",
       "2                        0           1  \n",
       "3                        0           0  \n",
       "4                        0           0  \n",
       "\n",
       "[5 rows x 59 columns]"
      ]
     },
     "execution_count": 326,
     "metadata": {},
     "output_type": "execute_result"
    }
   ],
   "source": [
    "dataset2.head()"
   ]
  },
  {
   "cell_type": "code",
   "execution_count": 327,
   "metadata": {
    "colab": {},
    "colab_type": "code",
    "id": "2lQvFUGROviB"
   },
   "outputs": [],
   "source": [
    "#### preparing dataset3"
   ]
  },
  {
   "cell_type": "code",
   "execution_count": 328,
   "metadata": {
    "colab": {},
    "colab_type": "code",
    "id": "2coQaoVzOviC",
    "outputId": "499d45a9-1019-4693-a6a3-9fd88607102d"
   },
   "outputs": [
    {
     "data": {
      "text/plain": [
       "(209, 59)"
      ]
     },
     "execution_count": 328,
     "metadata": {},
     "output_type": "execute_result"
    }
   ],
   "source": [
    "dataset3 = pd.concat([clt2_data, imbal_data], axis=0)\n",
    "dataset3.shape"
   ]
  },
  {
   "cell_type": "code",
   "execution_count": 329,
   "metadata": {
    "colab": {},
    "colab_type": "code",
    "id": "Gzmww_47OviE",
    "outputId": "1c4af372-80a7-4eb2-8fb0-7a1f9dd9a15c"
   },
   "outputs": [
    {
     "data": {
      "text/plain": [
       "array([2, 3], dtype=int64)"
      ]
     },
     "execution_count": 329,
     "metadata": {},
     "output_type": "execute_result"
    }
   ],
   "source": [
    "dataset3.clt_labels.unique()"
   ]
  },
  {
   "cell_type": "code",
   "execution_count": 330,
   "metadata": {
    "colab": {},
    "colab_type": "code",
    "id": "A6rC8ZEvOviG"
   },
   "outputs": [],
   "source": [
    "dataset3['clt_labels'] = dataset3['clt_labels'].map({2: 0, 3: 1})"
   ]
  },
  {
   "cell_type": "code",
   "execution_count": 331,
   "metadata": {
    "colab": {},
    "colab_type": "code",
    "id": "oH6glP6WOviH"
   },
   "outputs": [],
   "source": [
    "dataset3 = dataset3.sample(frac=1).reset_index(drop=True)"
   ]
  },
  {
   "cell_type": "code",
   "execution_count": 332,
   "metadata": {
    "colab": {},
    "colab_type": "code",
    "id": "NoWh1TawOviI",
    "outputId": "116b0119-c000-4509-b11b-c67fb1833859"
   },
   "outputs": [
    {
     "data": {
      "text/plain": [
       "(209, 59)"
      ]
     },
     "execution_count": 332,
     "metadata": {},
     "output_type": "execute_result"
    }
   ],
   "source": [
    "dataset3.shape"
   ]
  },
  {
   "cell_type": "code",
   "execution_count": 333,
   "metadata": {
    "colab": {},
    "colab_type": "code",
    "id": "3fTju8bGOviN",
    "outputId": "950ecb1a-80a4-4691-dc2a-ddef2ff255fd"
   },
   "outputs": [
    {
     "data": {
      "text/html": [
       "<div>\n",
       "<style scoped>\n",
       "    .dataframe tbody tr th:only-of-type {\n",
       "        vertical-align: middle;\n",
       "    }\n",
       "\n",
       "    .dataframe tbody tr th {\n",
       "        vertical-align: top;\n",
       "    }\n",
       "\n",
       "    .dataframe thead th {\n",
       "        text-align: right;\n",
       "    }\n",
       "</style>\n",
       "<table border=\"1\" class=\"dataframe\">\n",
       "  <thead>\n",
       "    <tr style=\"text-align: right;\">\n",
       "      <th></th>\n",
       "      <th>ServicePeriod</th>\n",
       "      <th>error1_avg</th>\n",
       "      <th>error2_avg</th>\n",
       "      <th>error3_avg</th>\n",
       "      <th>error4_avg</th>\n",
       "      <th>error5_avg</th>\n",
       "      <th>Comp_Timelapse_diff_errors</th>\n",
       "      <th>comp_1_replace_avg</th>\n",
       "      <th>comp_2_replace_avg</th>\n",
       "      <th>comp_3_replace_avg</th>\n",
       "      <th>...</th>\n",
       "      <th>MachineModel_model1</th>\n",
       "      <th>MachineModel_model2</th>\n",
       "      <th>MachineModel_model3</th>\n",
       "      <th>MachineModel_model4</th>\n",
       "      <th>MostOccuredError_error1</th>\n",
       "      <th>MostOccuredError_error2</th>\n",
       "      <th>MostOccuredError_error3</th>\n",
       "      <th>MostOccuredError_error4</th>\n",
       "      <th>MostOccuredError_error5</th>\n",
       "      <th>clt_labels</th>\n",
       "    </tr>\n",
       "  </thead>\n",
       "  <tbody>\n",
       "    <tr>\n",
       "      <th>0</th>\n",
       "      <td>6.0</td>\n",
       "      <td>112.50</td>\n",
       "      <td>22.50</td>\n",
       "      <td>56.89</td>\n",
       "      <td>63.75</td>\n",
       "      <td>0.0</td>\n",
       "      <td>23.18</td>\n",
       "      <td>112.5</td>\n",
       "      <td>22.50</td>\n",
       "      <td>85.0</td>\n",
       "      <td>...</td>\n",
       "      <td>0</td>\n",
       "      <td>1</td>\n",
       "      <td>0</td>\n",
       "      <td>0</td>\n",
       "      <td>0</td>\n",
       "      <td>0</td>\n",
       "      <td>0</td>\n",
       "      <td>1</td>\n",
       "      <td>0</td>\n",
       "      <td>0</td>\n",
       "    </tr>\n",
       "    <tr>\n",
       "      <th>1</th>\n",
       "      <td>21.0</td>\n",
       "      <td>78.14</td>\n",
       "      <td>48.75</td>\n",
       "      <td>65.00</td>\n",
       "      <td>30.00</td>\n",
       "      <td>40.0</td>\n",
       "      <td>14.17</td>\n",
       "      <td>105.0</td>\n",
       "      <td>58.78</td>\n",
       "      <td>30.0</td>\n",
       "      <td>...</td>\n",
       "      <td>1</td>\n",
       "      <td>0</td>\n",
       "      <td>0</td>\n",
       "      <td>0</td>\n",
       "      <td>0</td>\n",
       "      <td>0</td>\n",
       "      <td>0</td>\n",
       "      <td>0</td>\n",
       "      <td>1</td>\n",
       "      <td>0</td>\n",
       "    </tr>\n",
       "    <tr>\n",
       "      <th>2</th>\n",
       "      <td>9.0</td>\n",
       "      <td>0.00</td>\n",
       "      <td>42.00</td>\n",
       "      <td>30.00</td>\n",
       "      <td>127.77</td>\n",
       "      <td>0.0</td>\n",
       "      <td>26.12</td>\n",
       "      <td>0.0</td>\n",
       "      <td>30.00</td>\n",
       "      <td>0.0</td>\n",
       "      <td>...</td>\n",
       "      <td>0</td>\n",
       "      <td>0</td>\n",
       "      <td>0</td>\n",
       "      <td>1</td>\n",
       "      <td>0</td>\n",
       "      <td>1</td>\n",
       "      <td>0</td>\n",
       "      <td>0</td>\n",
       "      <td>0</td>\n",
       "      <td>0</td>\n",
       "    </tr>\n",
       "    <tr>\n",
       "      <th>3</th>\n",
       "      <td>19.0</td>\n",
       "      <td>43.98</td>\n",
       "      <td>80.00</td>\n",
       "      <td>85.44</td>\n",
       "      <td>15.57</td>\n",
       "      <td>52.5</td>\n",
       "      <td>19.09</td>\n",
       "      <td>0.0</td>\n",
       "      <td>120.00</td>\n",
       "      <td>0.0</td>\n",
       "      <td>...</td>\n",
       "      <td>0</td>\n",
       "      <td>0</td>\n",
       "      <td>1</td>\n",
       "      <td>0</td>\n",
       "      <td>0</td>\n",
       "      <td>0</td>\n",
       "      <td>0</td>\n",
       "      <td>0</td>\n",
       "      <td>1</td>\n",
       "      <td>1</td>\n",
       "    </tr>\n",
       "  </tbody>\n",
       "</table>\n",
       "<p>4 rows × 59 columns</p>\n",
       "</div>"
      ],
      "text/plain": [
       "   ServicePeriod  error1_avg  error2_avg  error3_avg  error4_avg  error5_avg  \\\n",
       "0            6.0      112.50       22.50       56.89       63.75         0.0   \n",
       "1           21.0       78.14       48.75       65.00       30.00        40.0   \n",
       "2            9.0        0.00       42.00       30.00      127.77         0.0   \n",
       "3           19.0       43.98       80.00       85.44       15.57        52.5   \n",
       "\n",
       "   Comp_Timelapse_diff_errors  comp_1_replace_avg  comp_2_replace_avg  \\\n",
       "0                       23.18               112.5               22.50   \n",
       "1                       14.17               105.0               58.78   \n",
       "2                       26.12                 0.0               30.00   \n",
       "3                       19.09                 0.0              120.00   \n",
       "\n",
       "   comp_3_replace_avg     ...      MachineModel_model1  MachineModel_model2  \\\n",
       "0                85.0     ...                        0                    1   \n",
       "1                30.0     ...                        1                    0   \n",
       "2                 0.0     ...                        0                    0   \n",
       "3                 0.0     ...                        0                    0   \n",
       "\n",
       "   MachineModel_model3  MachineModel_model4  MostOccuredError_error1  \\\n",
       "0                    0                    0                        0   \n",
       "1                    0                    0                        0   \n",
       "2                    0                    1                        0   \n",
       "3                    1                    0                        0   \n",
       "\n",
       "   MostOccuredError_error2  MostOccuredError_error3  MostOccuredError_error4  \\\n",
       "0                        0                        0                        1   \n",
       "1                        0                        0                        0   \n",
       "2                        1                        0                        0   \n",
       "3                        0                        0                        0   \n",
       "\n",
       "   MostOccuredError_error5  clt_labels  \n",
       "0                        0           0  \n",
       "1                        1           0  \n",
       "2                        0           0  \n",
       "3                        1           1  \n",
       "\n",
       "[4 rows x 59 columns]"
      ]
     },
     "execution_count": 333,
     "metadata": {},
     "output_type": "execute_result"
    }
   ],
   "source": [
    "dataset3.head(4)"
   ]
  },
  {
   "cell_type": "code",
   "execution_count": null,
   "metadata": {
    "colab": {},
    "colab_type": "code",
    "id": "5NDoxUMIOviQ"
   },
   "outputs": [],
   "source": []
  },
  {
   "cell_type": "code",
   "execution_count": 334,
   "metadata": {
    "colab": {},
    "colab_type": "code",
    "id": "BXUdyZLjOviR",
    "outputId": "a14ccbfa-ae35-4a19-9bd4-ed603638edae"
   },
   "outputs": [
    {
     "data": {
      "image/png": "[encoded data removed]",
      "text/plain": [
       "<Figure size 432x288 with 1 Axes>"
      ]
     },
     "metadata": {},
     "output_type": "display_data"
    }
   ],
   "source": [
    "sns.countplot(x='clt_labels', data=dataset1)\n",
    "#plt.savefig('class_prop.png')\n",
    "plt.show()"
   ]
  },
  {
   "cell_type": "code",
   "execution_count": 335,
   "metadata": {
    "colab": {},
    "colab_type": "code",
    "id": "yy3JPfXxOviT",
    "outputId": "93ea8b0d-6a39-4330-a6ac-ad25b80ffa88"
   },
   "outputs": [
    {
     "data": {
      "image/png": "[encoded data removed]",
      "text/plain": [
       "<Figure size 432x288 with 1 Axes>"
      ]
     },
     "metadata": {},
     "output_type": "display_data"
    }
   ],
   "source": [
    "sns.countplot(x='clt_labels', data=dataset2)\n",
    "#plt.savefig('class_prop.png')\n",
    "plt.show()"
   ]
  },
  {
   "cell_type": "code",
   "execution_count": 336,
   "metadata": {
    "colab": {},
    "colab_type": "code",
    "id": "huom8DGwOviV",
    "outputId": "c5753c9d-3a1d-44f0-93b9-ab3e8e1e2374"
   },
   "outputs": [
    {
     "data": {
      "image/png": "[encoded data removed]",
      "text/plain": [
       "<Figure size 432x288 with 1 Axes>"
      ]
     },
     "metadata": {},
     "output_type": "display_data"
    }
   ],
   "source": [
    "sns.countplot(x='clt_labels', data=dataset3)\n",
    "#plt.savefig('class_prop.png')\n",
    "plt.show()"
   ]
  },
  {
   "cell_type": "code",
   "execution_count": 337,
   "metadata": {
    "colab": {},
    "colab_type": "code",
    "id": "n5kES4VOOviY"
   },
   "outputs": [],
   "source": [
    "labels1 = dataset1['clt_labels']\n",
    "labels2 = dataset2['clt_labels']\n",
    "labels3 = dataset3['clt_labels']"
   ]
  },
  {
   "cell_type": "code",
   "execution_count": 338,
   "metadata": {
    "colab": {},
    "colab_type": "code",
    "id": "m4LkE3tjOviZ",
    "outputId": "2bcb38ef-e9e7-4fb9-c4fd-916ef899b0d0"
   },
   "outputs": [
    {
     "name": "stdout",
     "output_type": "stream",
     "text": [
      "The len of labels1 is  266\n",
      "The len of labels2 is  339\n",
      "The len of labels3 is  209\n"
     ]
    }
   ],
   "source": [
    "print(\"The len of labels1 is \", len(labels1))\n",
    "print(\"The len of labels2 is \", len(labels2))\n",
    "print(\"The len of labels3 is \", len(labels3))"
   ]
  },
  {
   "cell_type": "code",
   "execution_count": 339,
   "metadata": {
    "colab": {},
    "colab_type": "code",
    "id": "5XZG0pgAOvic"
   },
   "outputs": [],
   "source": [
    "dataset1.drop('clt_labels', axis=1, inplace=True)\n",
    "dataset2.drop('clt_labels', axis=1, inplace=True)\n",
    "dataset3.drop('clt_labels', axis=1, inplace=True)"
   ]
  },
  {
   "cell_type": "code",
   "execution_count": 340,
   "metadata": {},
   "outputs": [
    {
     "name": "stdout",
     "output_type": "stream",
     "text": [
      "The shape of dataset1 is  (266, 58)\n",
      "The shape of dataset2 is  (339, 58)\n",
      "The shape of dataset3 is  (209, 58)\n"
     ]
    }
   ],
   "source": [
    "print(\"The shape of dataset1 is \", dataset1.shape)\n",
    "print(\"The shape of dataset2 is \", dataset2.shape)\n",
    "print(\"The shape of dataset3 is \", dataset3.shape)"
   ]
  },
  {
   "cell_type": "markdown",
   "metadata": {
    "colab_type": "text",
    "id": "BNQf0cygOvig"
   },
   "source": [
    "### Model Building"
   ]
  },
  {
   "cell_type": "markdown",
   "metadata": {
    "colab_type": "text",
    "id": "JKMVNS2uTdB_"
   },
   "source": [
    "#### 9) SVM"
   ]
  },
  {
   "cell_type": "code",
   "execution_count": 341,
   "metadata": {
    "colab": {},
    "colab_type": "code",
    "id": "UzRrNp4wTdB_"
   },
   "outputs": [],
   "source": [
    "X_train1, X_test1, y_train1, y_test1 = train_test_split(dataset1, labels1, test_size=0.2, stratify=labels1, random_state=0) #0.4"
   ]
  },
  {
   "cell_type": "markdown",
   "metadata": {
    "colab_type": "text",
    "id": "oV3_YZDIOvij"
   },
   "source": [
    "#### 10) Prepating the pipeline and hyperparameter tuning with cross validation"
   ]
  },
  {
   "cell_type": "code",
   "execution_count": 342,
   "metadata": {
    "colab": {},
    "colab_type": "code",
    "id": "GEsjD95OOvij"
   },
   "outputs": [],
   "source": [
    "from sklearn.pipeline import Pipeline\n",
    "from sklearn.preprocessing import StandardScaler"
   ]
  },
  {
   "cell_type": "code",
   "execution_count": 343,
   "metadata": {
    "colab": {},
    "colab_type": "code",
    "id": "vW20xDXiOvik"
   },
   "outputs": [],
   "source": [
    "#Setting up pipeline\n",
    "steps = [('scaler', StandardScaler()),\n",
    "         ('SVM', SVC())] #\n",
    "pipeline = Pipeline(steps)"
   ]
  },
  {
   "cell_type": "markdown",
   "metadata": {
    "colab_type": "text",
    "id": "sJT1R7mJOvim"
   },
   "source": [
    "#### 11) Setting up hyper parameters like cost of error, kernel and class weights to address class imbalance"
   ]
  },
  {
   "cell_type": "code",
   "execution_count": 344,
   "metadata": {
    "colab": {},
    "colab_type": "code",
    "id": "ONHQjOE4Ovim"
   },
   "outputs": [],
   "source": [
    "#Setting params grid for hyper param tuning\n",
    "kfold = StratifiedKFold(n_splits=5, shuffle=True, random_state=143)\n",
    "param_grid = {'SVM__C': [40,50], 'SVM__gamma': [0.008, 0.003, 0.001], 'SVM__kernel':['rbf'],\n",
    "             'SVM__class_weight':[{0:0.3, 1:1}]} #'SVM__class_weight':[{0:0.3, 1:2, 2:0.6}]\n",
    "svm_grid = GridSearchCV(pipeline, param_grid=param_grid, cv=kfold)"
   ]
  },
  {
   "cell_type": "code",
   "execution_count": 345,
   "metadata": {
    "colab": {},
    "colab_type": "code",
    "id": "psJFigOCOvim",
    "outputId": "62f71cf2-e78b-4fed-db3f-a31f52fd13a5"
   },
   "outputs": [
    {
     "data": {
      "text/plain": [
       "GridSearchCV(cv=StratifiedKFold(n_splits=5, random_state=143, shuffle=True),\n",
       "       error_score='raise',\n",
       "       estimator=Pipeline(memory=None,\n",
       "     steps=[('scaler', StandardScaler(copy=True, with_mean=True, with_std=True)), ('SVM', SVC(C=1.0, cache_size=200, class_weight=None, coef0=0.0,\n",
       "  decision_function_shape='ovr', degree=3, gamma='auto', kernel='rbf',\n",
       "  max_iter=-1, probability=False, random_state=None, shrinking=True,\n",
       "  tol=0.001, verbose=False))]),\n",
       "       fit_params=None, iid=True, n_jobs=1,\n",
       "       param_grid={'SVM__C': [40, 50], 'SVM__gamma': [0.008, 0.003, 0.001], 'SVM__kernel': ['rbf'], 'SVM__class_weight': [{0: 0.3, 1: 1}]},\n",
       "       pre_dispatch='2*n_jobs', refit=True, return_train_score='warn',\n",
       "       scoring=None, verbose=0)"
      ]
     },
     "execution_count": 345,
     "metadata": {},
     "output_type": "execute_result"
    }
   ],
   "source": [
    "svm_grid.fit(X_train1, y_train1)"
   ]
  },
  {
   "cell_type": "markdown",
   "metadata": {
    "colab_type": "text",
    "id": "FxgMXPuJOvio"
   },
   "source": [
    "#### 12) Finding the best estimator from the grid search"
   ]
  },
  {
   "cell_type": "code",
   "execution_count": 346,
   "metadata": {
    "colab": {},
    "colab_type": "code",
    "id": "pvzy_cmOOvio"
   },
   "outputs": [],
   "source": [
    "svm_cv_best = svm_grid.best_estimator_\n",
    "y_pred1 = svm_cv_best.predict(X_test1)"
   ]
  },
  {
   "cell_type": "code",
   "execution_count": 347,
   "metadata": {
    "colab": {},
    "colab_type": "code",
    "id": "uzOVVqeeOvir",
    "outputId": "e65a5571-124c-4a1f-cccb-2b79d7e34a65"
   },
   "outputs": [
    {
     "name": "stdout",
     "output_type": "stream",
     "text": [
      "Accuracy: 0.8518518518518519\n",
      "             precision    recall  f1-score   support\n",
      "\n",
      "          0       0.88      0.93      0.90        40\n",
      "          1       0.75      0.64      0.69        14\n",
      "\n",
      "avg / total       0.85      0.85      0.85        54\n",
      "\n",
      "Tuned Model Best Parameters: {'SVM__C': 40, 'SVM__class_weight': {0: 0.3, 1: 1}, 'SVM__gamma': 0.008, 'SVM__kernel': 'rbf'}\n",
      "Tuned Model Best Score: 0.8443396226415094\n"
     ]
    }
   ],
   "source": [
    "print(\"Accuracy: {}\".format(svm_cv_best.score(X_test1, y_test1)))\n",
    "print(classification_report(y_test1, y_pred1))\n",
    "print(\"Tuned Model Best Parameters: {}\".format(svm_grid.best_params_))\n",
    "print(\"Tuned Model Best Score: {}\".format(svm_grid.best_score_))"
   ]
  },
  {
   "cell_type": "markdown",
   "metadata": {
    "colab_type": "text",
    "id": "sHmjW2eSOvis"
   },
   "source": [
    "#### 13) Confusion matrix"
   ]
  },
  {
   "cell_type": "code",
   "execution_count": 348,
   "metadata": {
    "colab": {},
    "colab_type": "code",
    "id": "1inw2xXGOvis"
   },
   "outputs": [],
   "source": [
    "def plot_confusion_matrix(cm, classes,\n",
    "                          title='Confusion matrix',\n",
    "                          cmap=plt.cm.Blues):\n",
    "    \"\"\"\n",
    "    This function prints and plots the confusion matrix.\n",
    "    Normalization can be applied by setting `normalize=True`.\n",
    "    \"\"\"\n",
    "\n",
    "    cm = cm.astype('float') / cm.sum(axis=1)[:, np.newaxis]\n",
    "\n",
    "    plt.imshow(cm, interpolation='nearest', cmap=cmap)\n",
    "    plt.title(title, fontsize=18)\n",
    "    plt.colorbar()\n",
    "    tick_marks = np.arange(len(classes))\n",
    "    plt.xticks(tick_marks, classes, rotation=45, fontsize=12)\n",
    "    plt.yticks(tick_marks, classes, fontsize=12)\n",
    "\n",
    "    fmt = '.05f'\n",
    "    thresh = cm.max() / 2.\n",
    "    for i, j in itertools.product(range(cm.shape[0]), range(cm.shape[1])):\n",
    "        plt.text(j, i, format(cm[i, j], fmt),\n",
    "                 horizontalalignment=\"center\",\n",
    "                 color=\"white\" if cm[i, j] > thresh else \"black\")\n",
    "\n",
    "    plt.ylabel('True label', fontsize=20)\n",
    "    plt.xlabel('Predicted label', fontsize=20)"
   ]
  },
  {
   "cell_type": "code",
   "execution_count": 349,
   "metadata": {
    "colab": {},
    "colab_type": "code",
    "id": "b0IlcR_qOvit",
    "outputId": "c5226bb2-3bb3-4d76-c71f-752a49cf9bbb"
   },
   "outputs": [
    {
     "data": {
      "image/png": "[encoded data removed]",
      "text/plain": [
       "<Figure size 720x504 with 2 Axes>"
      ]
     },
     "metadata": {},
     "output_type": "display_data"
    }
   ],
   "source": [
    "cnf_matrix = confusion_matrix(y_test1 , y_pred1)\n",
    "plt.figure(figsize=(10,7))\n",
    "plot_confusion_matrix(cnf_matrix, classes=labels1.unique(), title=\"Confusion matrix\")\n",
    "plt.show()"
   ]
  },
  {
   "cell_type": "markdown",
   "metadata": {
    "colab_type": "text",
    "id": "J9kCvdfyOviv"
   },
   "source": [
    "#### Linear SVM"
   ]
  },
  {
   "cell_type": "code",
   "execution_count": 350,
   "metadata": {
    "colab": {},
    "colab_type": "code",
    "id": "hwxI9FsaOviv"
   },
   "outputs": [],
   "source": [
    "from sklearn.svm import LinearSVC"
   ]
  },
  {
   "cell_type": "code",
   "execution_count": 351,
   "metadata": {
    "colab": {},
    "colab_type": "code",
    "id": "KlGtevLEOviw"
   },
   "outputs": [],
   "source": [
    "X_train3, X_test3, y_train3, y_test3 = train_test_split(dataset3, labels3, test_size=0.2, stratify=labels3, random_state=0) #0.4"
   ]
  },
  {
   "cell_type": "code",
   "execution_count": 352,
   "metadata": {
    "colab": {},
    "colab_type": "code",
    "id": "Gybjhr8OOviy"
   },
   "outputs": [],
   "source": [
    "#linear_svm = LinearSVC(random_state=143, C=10) #OneVsRestClassifier()\n",
    "steps_linear = [('scaler', StandardScaler()),\n",
    "         ('SVM_linear', LinearSVC())] \n",
    "pipeline_linear = Pipeline(steps_linear)\n",
    "\n",
    "#Setting params grid for hyper param tuning\n",
    "kfold = StratifiedKFold(n_splits=6, shuffle=True, random_state=143)\n",
    "param_grid_linear = {'SVM__C': [50]}\n",
    "linear_svm = GridSearchCV(pipeline, param_grid=param_grid_linear, cv=kfold)"
   ]
  },
  {
   "cell_type": "code",
   "execution_count": 353,
   "metadata": {
    "colab": {},
    "colab_type": "code",
    "id": "MgEToDTLOviy",
    "outputId": "3ff0840b-a4b4-4be2-8402-0f9c0f9ffde7"
   },
   "outputs": [
    {
     "data": {
      "text/plain": [
       "GridSearchCV(cv=StratifiedKFold(n_splits=6, random_state=143, shuffle=True),\n",
       "       error_score='raise',\n",
       "       estimator=Pipeline(memory=None,\n",
       "     steps=[('scaler', StandardScaler(copy=True, with_mean=True, with_std=True)), ('SVM', SVC(C=1.0, cache_size=200, class_weight=None, coef0=0.0,\n",
       "  decision_function_shape='ovr', degree=3, gamma='auto', kernel='rbf',\n",
       "  max_iter=-1, probability=False, random_state=None, shrinking=True,\n",
       "  tol=0.001, verbose=False))]),\n",
       "       fit_params=None, iid=True, n_jobs=1, param_grid={'SVM__C': [50]},\n",
       "       pre_dispatch='2*n_jobs', refit=True, return_train_score='warn',\n",
       "       scoring=None, verbose=0)"
      ]
     },
     "execution_count": 353,
     "metadata": {},
     "output_type": "execute_result"
    }
   ],
   "source": [
    "linear_svm.fit(X_train3, y_train3)"
   ]
  },
  {
   "cell_type": "code",
   "execution_count": 354,
   "metadata": {
    "colab": {},
    "colab_type": "code",
    "id": "F4_8Jq1VOvi1"
   },
   "outputs": [],
   "source": [
    "y_pred_linear3 = linear_svm.predict(X_test3)"
   ]
  },
  {
   "cell_type": "code",
   "execution_count": 355,
   "metadata": {
    "colab": {},
    "colab_type": "code",
    "id": "YKQMsQtyOvi3",
    "outputId": "abf5d075-62bb-406e-d34a-504a14009162"
   },
   "outputs": [
    {
     "name": "stdout",
     "output_type": "stream",
     "text": [
      "Accuracy: 0.8809523809523809\n",
      "             precision    recall  f1-score   support\n",
      "\n",
      "          0       0.87      0.96      0.92        28\n",
      "          1       0.91      0.71      0.80        14\n",
      "\n",
      "avg / total       0.88      0.88      0.88        42\n",
      "\n",
      "Tuned Model Best Parameters: {'SVM__C': 50}\n",
      "Tuned Model Best Score: 0.8023952095808383\n"
     ]
    }
   ],
   "source": [
    "print(\"Accuracy: {}\".format(linear_svm.score(X_test3, y_test3)))\n",
    "print(classification_report(y_test3, y_pred_linear3))\n",
    "print(\"Tuned Model Best Parameters: {}\".format(linear_svm.best_params_))\n",
    "print(\"Tuned Model Best Score: {}\".format(linear_svm.best_score_))"
   ]
  },
  {
   "cell_type": "code",
   "execution_count": 356,
   "metadata": {
    "colab": {},
    "colab_type": "code",
    "id": "vC-LWWlLOvi5",
    "outputId": "30df4bc9-213d-4f0c-f8b5-2ace164f711c"
   },
   "outputs": [
    {
     "data": {
      "image/png": "[encoded data removed]",
      "text/plain": [
       "<Figure size 720x504 with 2 Axes>"
      ]
     },
     "metadata": {},
     "output_type": "display_data"
    }
   ],
   "source": [
    "cnf_matrix = confusion_matrix(y_test3 , y_pred_linear3)\n",
    "plt.figure(figsize=(10,7))\n",
    "plot_confusion_matrix(cnf_matrix, classes=labels3.unique(), title=\"Confusion matrix\")\n",
    "plt.show()"
   ]
  },
  {
   "cell_type": "markdown",
   "metadata": {
    "colab_type": "text",
    "id": "t96IMIAAOvi9"
   },
   "source": [
    "#### SG classifier"
   ]
  },
  {
   "cell_type": "code",
   "execution_count": 357,
   "metadata": {
    "colab": {},
    "colab_type": "code",
    "id": "ufchOp0SOvi-"
   },
   "outputs": [],
   "source": [
    "X_train2, X_test2, y_train2, y_test2 = train_test_split(dataset2, labels2, test_size=0.2, stratify=labels2, random_state=0) #0.4"
   ]
  },
  {
   "cell_type": "code",
   "execution_count": 358,
   "metadata": {
    "colab": {},
    "colab_type": "code",
    "id": "MVLbk6EKOvi_"
   },
   "outputs": [],
   "source": [
    "steps_sgc = [('scaler', StandardScaler()),\n",
    "         ('SGC', SGDClassifier(random_state=143))]\n",
    "pipeline_sgc = Pipeline(steps_sgc)\n",
    "\n",
    "#Setting params grid for hyper param tuning\n",
    "kfold = StratifiedKFold(n_splits=6, shuffle=True, random_state=143)\n",
    "param_grid_sgc = {'SGC__loss':['modified_huber'], 'SGC__penalty': ['elasticnet'], 'SGC__alpha': [0.2,0.3],\n",
    "                     'SGC__l1_ratio': [0.1], 'SGC__max_iter': [70], 'SGC__learning_rate': ['optimal'], \n",
    "                     'SGC__eta0': [0.1], 'SGC__class_weight': [{0:0.3, 1:1}]}\n",
    "sgc_cv = GridSearchCV(pipeline_sgc, param_grid=param_grid_sgc, cv=kfold)"
   ]
  },
  {
   "cell_type": "code",
   "execution_count": 359,
   "metadata": {
    "colab": {},
    "colab_type": "code",
    "id": "ubHV2lhIOvjB",
    "outputId": "49c9348b-4036-4aa3-c625-514d0ee82364"
   },
   "outputs": [
    {
     "data": {
      "text/plain": [
       "GridSearchCV(cv=StratifiedKFold(n_splits=6, random_state=143, shuffle=True),\n",
       "       error_score='raise',\n",
       "       estimator=Pipeline(memory=None,\n",
       "     steps=[('scaler', StandardScaler(copy=True, with_mean=True, with_std=True)), ('SGC', SGDClassifier(alpha=0.0001, average=False, class_weight=None, epsilon=0.1,\n",
       "       eta0=0.0, fit_intercept=True, l1_ratio=0.15,\n",
       "       learning_rate='optimal', loss='hinge', max_iter=None, n_iter=None,\n",
       "       n_jobs=1, penalty='l2', power_t=0.5, random_state=143, shuffle=True,\n",
       "       tol=None, verbose=0, warm_start=False))]),\n",
       "       fit_params=None, iid=True, n_jobs=1,\n",
       "       param_grid={'SGC__loss': ['modified_huber'], 'SGC__penalty': ['elasticnet'], 'SGC__alpha': [0.2, 0.3], 'SGC__l1_ratio': [0.1], 'SGC__max_iter': [70], 'SGC__learning_rate': ['optimal'], 'SGC__eta0': [0.1], 'SGC__class_weight': [{0: 0.3, 1: 1}]},\n",
       "       pre_dispatch='2*n_jobs', refit=True, return_train_score='warn',\n",
       "       scoring=None, verbose=0)"
      ]
     },
     "execution_count": 359,
     "metadata": {},
     "output_type": "execute_result"
    }
   ],
   "source": [
    "sgc_cv.fit(X_train2, y_train2)"
   ]
  },
  {
   "cell_type": "code",
   "execution_count": 360,
   "metadata": {
    "colab": {},
    "colab_type": "code",
    "id": "HjuqbG40OvjD"
   },
   "outputs": [],
   "source": [
    "sgc_cv_best = sgc_cv.best_estimator_\n",
    "y_pred_sgc2 = sgc_cv_best.predict(X_test2)"
   ]
  },
  {
   "cell_type": "code",
   "execution_count": 361,
   "metadata": {
    "colab": {},
    "colab_type": "code",
    "id": "QpMXJSO6OvjF",
    "outputId": "0b59176b-898e-4bb2-926a-3b4be05b662e"
   },
   "outputs": [
    {
     "name": "stdout",
     "output_type": "stream",
     "text": [
      "Accuracy: 0.8676470588235294\n",
      "             precision    recall  f1-score   support\n",
      "\n",
      "          0       0.87      0.98      0.92        54\n",
      "          1       0.86      0.43      0.57        14\n",
      "\n",
      "avg / total       0.87      0.87      0.85        68\n",
      "\n",
      "Tuned Model Best Parameters: {'SGC__alpha': 0.3, 'SGC__class_weight': {0: 0.3, 1: 1}, 'SGC__eta0': 0.1, 'SGC__l1_ratio': 0.1, 'SGC__learning_rate': 'optimal', 'SGC__loss': 'modified_huber', 'SGC__max_iter': 70, 'SGC__penalty': 'elasticnet'}\n",
      "Tuned Model Best Score: 0.8560885608856088\n"
     ]
    }
   ],
   "source": [
    "print(\"Accuracy: {}\".format(sgc_cv_best.score(X_test2, y_test2)))\n",
    "print(classification_report(y_test2, y_pred_sgc2))\n",
    "print(\"Tuned Model Best Parameters: {}\".format(sgc_cv.best_params_))\n",
    "print(\"Tuned Model Best Score: {}\".format(sgc_cv.best_score_))"
   ]
  },
  {
   "cell_type": "code",
   "execution_count": 362,
   "metadata": {
    "colab": {},
    "colab_type": "code",
    "id": "3wzpxDkTOvjG",
    "outputId": "3060b172-6cf7-4672-b117-01ef9284dc6a"
   },
   "outputs": [
    {
     "data": {
      "image/png": "[encoded data removed]",
      "text/plain": [
       "<Figure size 720x504 with 2 Axes>"
      ]
     },
     "metadata": {},
     "output_type": "display_data"
    }
   ],
   "source": [
    "cnf_matrix = confusion_matrix(y_test2 , y_pred_sgc2)\n",
    "plt.figure(figsize=(10,7))\n",
    "plot_confusion_matrix(cnf_matrix, classes=labels2.unique(), title=\"Confusion matrix\")\n",
    "plt.show()"
   ]
  },
  {
   "cell_type": "code",
   "execution_count": null,
   "metadata": {
    "colab": {},
    "colab_type": "code",
    "id": "4KF4iDU0OvjM"
   },
   "outputs": [],
   "source": []
  },
  {
   "cell_type": "markdown",
   "metadata": {
    "colab_type": "text",
    "id": "yq-iMltDOvjO"
   },
   "source": [
    "### Predicting on test data and writing results back to csv"
   ]
  },
  {
   "cell_type": "code",
   "execution_count": 363,
   "metadata": {
    "colab": {},
    "colab_type": "code",
    "id": "6SN55v7uOvjO"
   },
   "outputs": [],
   "source": [
    "test = pd.read_csv(\"C:\\\\Users\\\\chait\\\\Documents\\\\Insofe\\\\PhD\\\\scripts\\\\my_test.csv\", header=0)"
   ]
  },
  {
   "cell_type": "code",
   "execution_count": 364,
   "metadata": {
    "colab": {},
    "colab_type": "code",
    "id": "gPe1HoW4OvjQ",
    "outputId": "afb2d933-d458-4fa1-b831-0bec21a60143"
   },
   "outputs": [
    {
     "data": {
      "text/html": [
       "<div>\n",
       "<style scoped>\n",
       "    .dataframe tbody tr th:only-of-type {\n",
       "        vertical-align: middle;\n",
       "    }\n",
       "\n",
       "    .dataframe tbody tr th {\n",
       "        vertical-align: top;\n",
       "    }\n",
       "\n",
       "    .dataframe thead th {\n",
       "        text-align: right;\n",
       "    }\n",
       "</style>\n",
       "<table border=\"1\" class=\"dataframe\">\n",
       "  <thead>\n",
       "    <tr style=\"text-align: right;\">\n",
       "      <th></th>\n",
       "      <th>MachineID</th>\n",
       "      <th>MachineModel</th>\n",
       "      <th>ServicePeriod</th>\n",
       "      <th>error1_avg</th>\n",
       "      <th>error2_avg</th>\n",
       "      <th>error3_avg</th>\n",
       "      <th>error4_avg</th>\n",
       "      <th>error5_avg</th>\n",
       "      <th>Comp_Timelapse_diff_errors</th>\n",
       "      <th>RecentError</th>\n",
       "      <th>...</th>\n",
       "      <th>Sensor3_max</th>\n",
       "      <th>Sensor4_max</th>\n",
       "      <th>Sensor1_min</th>\n",
       "      <th>Sensor2_min</th>\n",
       "      <th>Sensor3_min</th>\n",
       "      <th>Sensor4_min</th>\n",
       "      <th>Sensor1_mean</th>\n",
       "      <th>Sensor2_mean</th>\n",
       "      <th>Sensor3_mean</th>\n",
       "      <th>Sensor4_mean</th>\n",
       "    </tr>\n",
       "  </thead>\n",
       "  <tbody>\n",
       "    <tr>\n",
       "      <th>0</th>\n",
       "      <td>MID11006</td>\n",
       "      <td>model3</td>\n",
       "      <td>21</td>\n",
       "      <td>45.00</td>\n",
       "      <td>20.0</td>\n",
       "      <td>20.0</td>\n",
       "      <td>0.0</td>\n",
       "      <td>50.00</td>\n",
       "      <td>19.00</td>\n",
       "      <td>error1</td>\n",
       "      <td>...</td>\n",
       "      <td>156.43</td>\n",
       "      <td>65.47</td>\n",
       "      <td>113.24</td>\n",
       "      <td>198.63</td>\n",
       "      <td>61.67</td>\n",
       "      <td>21.63</td>\n",
       "      <td>170.78</td>\n",
       "      <td>446.93</td>\n",
       "      <td>100.87</td>\n",
       "      <td>40.55</td>\n",
       "    </tr>\n",
       "    <tr>\n",
       "      <th>1</th>\n",
       "      <td>MID11007</td>\n",
       "      <td>model2</td>\n",
       "      <td>21</td>\n",
       "      <td>30.00</td>\n",
       "      <td>25.9</td>\n",
       "      <td>0.0</td>\n",
       "      <td>60.0</td>\n",
       "      <td>40.00</td>\n",
       "      <td>17.14</td>\n",
       "      <td>error5</td>\n",
       "      <td>...</td>\n",
       "      <td>158.08</td>\n",
       "      <td>64.81</td>\n",
       "      <td>117.10</td>\n",
       "      <td>235.26</td>\n",
       "      <td>57.40</td>\n",
       "      <td>21.46</td>\n",
       "      <td>170.26</td>\n",
       "      <td>446.78</td>\n",
       "      <td>101.52</td>\n",
       "      <td>40.64</td>\n",
       "    </tr>\n",
       "    <tr>\n",
       "      <th>2</th>\n",
       "      <td>MID11039</td>\n",
       "      <td>model3</td>\n",
       "      <td>22</td>\n",
       "      <td>45.00</td>\n",
       "      <td>60.0</td>\n",
       "      <td>60.0</td>\n",
       "      <td>0.0</td>\n",
       "      <td>75.00</td>\n",
       "      <td>23.08</td>\n",
       "      <td>error1</td>\n",
       "      <td>...</td>\n",
       "      <td>152.31</td>\n",
       "      <td>69.27</td>\n",
       "      <td>118.99</td>\n",
       "      <td>217.51</td>\n",
       "      <td>64.54</td>\n",
       "      <td>21.08</td>\n",
       "      <td>170.94</td>\n",
       "      <td>446.35</td>\n",
       "      <td>100.87</td>\n",
       "      <td>40.57</td>\n",
       "    </tr>\n",
       "    <tr>\n",
       "      <th>3</th>\n",
       "      <td>MID11045</td>\n",
       "      <td>model4</td>\n",
       "      <td>21</td>\n",
       "      <td>30.00</td>\n",
       "      <td>25.0</td>\n",
       "      <td>25.0</td>\n",
       "      <td>0.0</td>\n",
       "      <td>62.26</td>\n",
       "      <td>16.98</td>\n",
       "      <td>error5</td>\n",
       "      <td>...</td>\n",
       "      <td>163.95</td>\n",
       "      <td>64.18</td>\n",
       "      <td>115.16</td>\n",
       "      <td>218.24</td>\n",
       "      <td>55.81</td>\n",
       "      <td>20.89</td>\n",
       "      <td>171.17</td>\n",
       "      <td>447.03</td>\n",
       "      <td>100.84</td>\n",
       "      <td>40.36</td>\n",
       "    </tr>\n",
       "    <tr>\n",
       "      <th>4</th>\n",
       "      <td>MID11049</td>\n",
       "      <td>model4</td>\n",
       "      <td>21</td>\n",
       "      <td>0.00</td>\n",
       "      <td>0.0</td>\n",
       "      <td>0.0</td>\n",
       "      <td>38.6</td>\n",
       "      <td>67.50</td>\n",
       "      <td>33.75</td>\n",
       "      <td>error5</td>\n",
       "      <td>...</td>\n",
       "      <td>146.07</td>\n",
       "      <td>64.56</td>\n",
       "      <td>102.39</td>\n",
       "      <td>205.97</td>\n",
       "      <td>66.63</td>\n",
       "      <td>21.34</td>\n",
       "      <td>170.73</td>\n",
       "      <td>446.50</td>\n",
       "      <td>100.61</td>\n",
       "      <td>40.52</td>\n",
       "    </tr>\n",
       "    <tr>\n",
       "      <th>5</th>\n",
       "      <td>MID11052</td>\n",
       "      <td>model3</td>\n",
       "      <td>21</td>\n",
       "      <td>84.43</td>\n",
       "      <td>100.0</td>\n",
       "      <td>100.0</td>\n",
       "      <td>0.0</td>\n",
       "      <td>75.00</td>\n",
       "      <td>22.50</td>\n",
       "      <td>error3</td>\n",
       "      <td>...</td>\n",
       "      <td>147.56</td>\n",
       "      <td>66.28</td>\n",
       "      <td>117.62</td>\n",
       "      <td>234.11</td>\n",
       "      <td>64.21</td>\n",
       "      <td>20.84</td>\n",
       "      <td>170.56</td>\n",
       "      <td>445.97</td>\n",
       "      <td>100.63</td>\n",
       "      <td>40.40</td>\n",
       "    </tr>\n",
       "  </tbody>\n",
       "</table>\n",
       "<p>6 rows × 37 columns</p>\n",
       "</div>"
      ],
      "text/plain": [
       "  MachineID MachineModel  ServicePeriod  error1_avg  error2_avg  error3_avg  \\\n",
       "0  MID11006       model3             21       45.00        20.0        20.0   \n",
       "1  MID11007       model2             21       30.00        25.9         0.0   \n",
       "2  MID11039       model3             22       45.00        60.0        60.0   \n",
       "3  MID11045       model4             21       30.00        25.0        25.0   \n",
       "4  MID11049       model4             21        0.00         0.0         0.0   \n",
       "5  MID11052       model3             21       84.43       100.0       100.0   \n",
       "\n",
       "   error4_avg  error5_avg  Comp_Timelapse_diff_errors RecentError  \\\n",
       "0         0.0       50.00                       19.00      error1   \n",
       "1        60.0       40.00                       17.14      error5   \n",
       "2         0.0       75.00                       23.08      error1   \n",
       "3         0.0       62.26                       16.98      error5   \n",
       "4        38.6       67.50                       33.75      error5   \n",
       "5         0.0       75.00                       22.50      error3   \n",
       "\n",
       "       ...      Sensor3_max  Sensor4_max  Sensor1_min  Sensor2_min  \\\n",
       "0      ...           156.43        65.47       113.24       198.63   \n",
       "1      ...           158.08        64.81       117.10       235.26   \n",
       "2      ...           152.31        69.27       118.99       217.51   \n",
       "3      ...           163.95        64.18       115.16       218.24   \n",
       "4      ...           146.07        64.56       102.39       205.97   \n",
       "5      ...           147.56        66.28       117.62       234.11   \n",
       "\n",
       "   Sensor3_min  Sensor4_min Sensor1_mean Sensor2_mean  Sensor3_mean  \\\n",
       "0        61.67        21.63       170.78       446.93        100.87   \n",
       "1        57.40        21.46       170.26       446.78        101.52   \n",
       "2        64.54        21.08       170.94       446.35        100.87   \n",
       "3        55.81        20.89       171.17       447.03        100.84   \n",
       "4        66.63        21.34       170.73       446.50        100.61   \n",
       "5        64.21        20.84       170.56       445.97        100.63   \n",
       "\n",
       "   Sensor4_mean  \n",
       "0         40.55  \n",
       "1         40.64  \n",
       "2         40.57  \n",
       "3         40.36  \n",
       "4         40.52  \n",
       "5         40.40  \n",
       "\n",
       "[6 rows x 37 columns]"
      ]
     },
     "execution_count": 364,
     "metadata": {},
     "output_type": "execute_result"
    }
   ],
   "source": [
    "test.head(6)"
   ]
  },
  {
   "cell_type": "code",
   "execution_count": 365,
   "metadata": {
    "colab": {},
    "colab_type": "code",
    "id": "avag5KRcOvjS"
   },
   "outputs": [],
   "source": [
    "test_machineID = test.MachineID.tolist()\n",
    "test.drop(labels=['MachineID','comp_4_replace_avg'], axis=1, inplace=True)"
   ]
  },
  {
   "cell_type": "code",
   "execution_count": 366,
   "metadata": {
    "colab": {},
    "colab_type": "code",
    "id": "LU92CHaDOvjU",
    "outputId": "63f1db9c-96e7-4854-9283-6706cc513192"
   },
   "outputs": [
    {
     "data": {
      "text/plain": [
       "'MID11052'"
      ]
     },
     "execution_count": 366,
     "metadata": {},
     "output_type": "execute_result"
    }
   ],
   "source": [
    "test_machineID[5]"
   ]
  },
  {
   "cell_type": "code",
   "execution_count": 367,
   "metadata": {
    "colab": {},
    "colab_type": "code",
    "id": "0gs_TPcVOvjW",
    "outputId": "0b5ad384-ce85-4242-afbf-f24ba2d15d41"
   },
   "outputs": [
    {
     "data": {
      "text/plain": [
       "MachineModel                   0\n",
       "ServicePeriod                  0\n",
       "error1_avg                     0\n",
       "error2_avg                     0\n",
       "error3_avg                     0\n",
       "error4_avg                     0\n",
       "error5_avg                     0\n",
       "Comp_Timelapse_diff_errors     0\n",
       "RecentError                    0\n",
       "MostOccuredError               0\n",
       "comp_1_replace_avg             0\n",
       "comp_2_replace_avg             0\n",
       "comp_3_replace_avg             0\n",
       "Comp_Timelapse_diff_replace    0\n",
       "RecentReplacedComp             0\n",
       "MostReplacedComp               0\n",
       "comp1_repair_avg               0\n",
       "comp2_repair_avg               0\n",
       "comp3_repair_avg               0\n",
       "comp4_repair_avg               0\n",
       "Comp_Timelapse_diff_repair     0\n",
       "RecentRepaired                 0\n",
       "MostRepairedComponent          0\n",
       "Sensor1_max                    0\n",
       "Sensor2_max                    0\n",
       "Sensor3_max                    0\n",
       "Sensor4_max                    0\n",
       "Sensor1_min                    0\n",
       "Sensor2_min                    0\n",
       "Sensor3_min                    0\n",
       "Sensor4_min                    0\n",
       "Sensor1_mean                   0\n",
       "Sensor2_mean                   0\n",
       "Sensor3_mean                   0\n",
       "Sensor4_mean                   0\n",
       "dtype: int64"
      ]
     },
     "execution_count": 367,
     "metadata": {},
     "output_type": "execute_result"
    }
   ],
   "source": [
    "test.isnull().sum(axis=0)"
   ]
  },
  {
   "cell_type": "code",
   "execution_count": 368,
   "metadata": {
    "colab": {},
    "colab_type": "code",
    "id": "unzV29WpOvjZ",
    "outputId": "b534856f-2642-495c-dd9c-9737d021bb9a"
   },
   "outputs": [
    {
     "data": {
      "text/plain": [
       "MachineModel                    object\n",
       "ServicePeriod                    int64\n",
       "error1_avg                     float64\n",
       "error2_avg                     float64\n",
       "error3_avg                     float64\n",
       "error4_avg                     float64\n",
       "error5_avg                     float64\n",
       "Comp_Timelapse_diff_errors     float64\n",
       "RecentError                     object\n",
       "MostOccuredError                object\n",
       "comp_1_replace_avg             float64\n",
       "comp_2_replace_avg             float64\n",
       "comp_3_replace_avg             float64\n",
       "Comp_Timelapse_diff_replace    float64\n",
       "RecentReplacedComp              object\n",
       "MostReplacedComp                object\n",
       "comp1_repair_avg               float64\n",
       "comp2_repair_avg               float64\n",
       "comp3_repair_avg               float64\n",
       "comp4_repair_avg               float64\n",
       "Comp_Timelapse_diff_repair     float64\n",
       "RecentRepaired                  object\n",
       "MostRepairedComponent           object\n",
       "Sensor1_max                    float64\n",
       "Sensor2_max                    float64\n",
       "Sensor3_max                    float64\n",
       "Sensor4_max                    float64\n",
       "Sensor1_min                    float64\n",
       "Sensor2_min                    float64\n",
       "Sensor3_min                    float64\n",
       "Sensor4_min                    float64\n",
       "Sensor1_mean                   float64\n",
       "Sensor2_mean                   float64\n",
       "Sensor3_mean                   float64\n",
       "Sensor4_mean                   float64\n",
       "dtype: object"
      ]
     },
     "execution_count": 368,
     "metadata": {},
     "output_type": "execute_result"
    }
   ],
   "source": [
    "test.dtypes"
   ]
  },
  {
   "cell_type": "code",
   "execution_count": 369,
   "metadata": {
    "colab": {},
    "colab_type": "code",
    "id": "o8PCybx5Ovjc"
   },
   "outputs": [],
   "source": [
    "test_columns = dataset.columns\n",
    "test_cat_attr = ['MachineModel', 'RecentError', 'MostOccuredError', 'RecentReplacedComp', 'MostReplacedComp', 'RecentRepaired', 'MostRepairedComponent']\n",
    "#num_attr = ['tenure', 'MonthlyCharges', 'TotalCharges']\n",
    "test_num_attr = list(set(test_columns) - set(test_cat_attr))"
   ]
  },
  {
   "cell_type": "code",
   "execution_count": 370,
   "metadata": {
    "colab": {},
    "colab_type": "code",
    "id": "UIa8b9cbOvjd",
    "outputId": "6d575a4f-a943-420f-b37d-6e5bfc7da4dd"
   },
   "outputs": [
    {
     "name": "stdout",
     "output_type": "stream",
     "text": [
      "The total columns in the dataset are 35\n",
      "The numerical columns in the dataset are 28\n",
      "The categorical columns in the dataset are 7\n"
     ]
    }
   ],
   "source": [
    "print(\"The total columns in the dataset are {}\".format(len(test_columns)))\n",
    "print(\"The numerical columns in the dataset are {}\".format(len(test_num_attr)))\n",
    "print(\"The categorical columns in the dataset are {}\".format(len(test_cat_attr)))"
   ]
  },
  {
   "cell_type": "code",
   "execution_count": 371,
   "metadata": {
    "colab": {},
    "colab_type": "code",
    "id": "J9vS3am9Ovjf"
   },
   "outputs": [],
   "source": [
    "test[test_num_attr] = dataset[test_num_attr].apply(lambda x: x.astype('float64'))"
   ]
  },
  {
   "cell_type": "code",
   "execution_count": 372,
   "metadata": {
    "colab": {},
    "colab_type": "code",
    "id": "jhk1OFdHOvjg"
   },
   "outputs": [],
   "source": [
    "test[test_cat_attr] = dataset[test_cat_attr].apply(lambda x: x.astype('category'))"
   ]
  },
  {
   "cell_type": "code",
   "execution_count": 373,
   "metadata": {
    "colab": {},
    "colab_type": "code",
    "id": "MTkJoxdjOvjg",
    "outputId": "68d81bdd-8ea9-40dd-b705-0632da698c50"
   },
   "outputs": [
    {
     "data": {
      "text/plain": [
       "MachineModel                   category\n",
       "ServicePeriod                   float64\n",
       "error1_avg                      float64\n",
       "error2_avg                      float64\n",
       "error3_avg                      float64\n",
       "error4_avg                      float64\n",
       "error5_avg                      float64\n",
       "Comp_Timelapse_diff_errors      float64\n",
       "RecentError                    category\n",
       "MostOccuredError               category\n",
       "comp_1_replace_avg              float64\n",
       "comp_2_replace_avg              float64\n",
       "comp_3_replace_avg              float64\n",
       "Comp_Timelapse_diff_replace     float64\n",
       "RecentReplacedComp             category\n",
       "MostReplacedComp               category\n",
       "comp1_repair_avg                float64\n",
       "comp2_repair_avg                float64\n",
       "comp3_repair_avg                float64\n",
       "comp4_repair_avg                float64\n",
       "Comp_Timelapse_diff_repair      float64\n",
       "RecentRepaired                 category\n",
       "MostRepairedComponent          category\n",
       "Sensor1_max                     float64\n",
       "Sensor2_max                     float64\n",
       "Sensor3_max                     float64\n",
       "Sensor4_max                     float64\n",
       "Sensor1_min                     float64\n",
       "Sensor2_min                     float64\n",
       "Sensor3_min                     float64\n",
       "Sensor4_min                     float64\n",
       "Sensor1_mean                    float64\n",
       "Sensor2_mean                    float64\n",
       "Sensor3_mean                    float64\n",
       "Sensor4_mean                    float64\n",
       "dtype: object"
      ]
     },
     "execution_count": 373,
     "metadata": {},
     "output_type": "execute_result"
    }
   ],
   "source": [
    "test.dtypes"
   ]
  },
  {
   "cell_type": "code",
   "execution_count": 374,
   "metadata": {
    "colab": {},
    "colab_type": "code",
    "id": "pguAkiElOvji"
   },
   "outputs": [],
   "source": [
    "test_dumm = pd.get_dummies(data=test, columns=test_cat_attr)"
   ]
  },
  {
   "cell_type": "code",
   "execution_count": 375,
   "metadata": {
    "colab": {},
    "colab_type": "code",
    "id": "dsy5ypIPOvjk",
    "outputId": "522fcc62-6e15-43bd-c93e-c684c76b7b69"
   },
   "outputs": [
    {
     "data": {
      "text/plain": [
       "Index(['ServicePeriod', 'error1_avg', 'error2_avg', 'error3_avg', 'error4_avg',\n",
       "       'error5_avg', 'Comp_Timelapse_diff_errors', 'comp_1_replace_avg',\n",
       "       'comp_2_replace_avg', 'comp_3_replace_avg',\n",
       "       'Comp_Timelapse_diff_replace', 'comp1_repair_avg', 'comp2_repair_avg',\n",
       "       'comp3_repair_avg', 'comp4_repair_avg', 'Comp_Timelapse_diff_repair',\n",
       "       'Sensor1_max', 'Sensor2_max', 'Sensor3_max', 'Sensor4_max',\n",
       "       'Sensor1_min', 'Sensor2_min', 'Sensor3_min', 'Sensor4_min',\n",
       "       'Sensor1_mean', 'Sensor2_mean', 'Sensor3_mean', 'Sensor4_mean',\n",
       "       'MachineModel_model1', 'MachineModel_model2', 'MachineModel_model3',\n",
       "       'MachineModel_model4', 'RecentError_error1', 'RecentError_error2',\n",
       "       'RecentError_error3', 'RecentError_error4', 'RecentError_error5',\n",
       "       'MostOccuredError_error1', 'MostOccuredError_error2',\n",
       "       'MostOccuredError_error3', 'MostOccuredError_error4',\n",
       "       'MostOccuredError_error5', 'RecentReplacedComp_Component1',\n",
       "       'RecentReplacedComp_Component2', 'RecentReplacedComp_Component3',\n",
       "       'RecentReplacedComp_Component4', 'MostReplacedComp_Component1',\n",
       "       'MostReplacedComp_Component2', 'MostReplacedComp_Component3',\n",
       "       'MostReplacedComp_Component4', 'RecentRepaired_Component1',\n",
       "       'RecentRepaired_Component2', 'RecentRepaired_Component3',\n",
       "       'RecentRepaired_Component4', 'MostRepairedComponent_Component1',\n",
       "       'MostRepairedComponent_Component2', 'MostRepairedComponent_Component3',\n",
       "       'MostRepairedComponent_Component4'],\n",
       "      dtype='object')"
      ]
     },
     "execution_count": 375,
     "metadata": {},
     "output_type": "execute_result"
    }
   ],
   "source": [
    "test_dumm.columns"
   ]
  },
  {
   "cell_type": "code",
   "execution_count": 376,
   "metadata": {},
   "outputs": [],
   "source": [
    "### Model1  Predictions"
   ]
  },
  {
   "cell_type": "code",
   "execution_count": 377,
   "metadata": {},
   "outputs": [],
   "source": [
    "test_preds1 = svm_cv_best.predict(test_dumm)"
   ]
  },
  {
   "cell_type": "code",
   "execution_count": 378,
   "metadata": {},
   "outputs": [
    {
     "data": {
      "text/plain": [
       "(326,)"
      ]
     },
     "execution_count": 378,
     "metadata": {},
     "output_type": "execute_result"
    }
   ],
   "source": [
    "test_preds1.shape"
   ]
  },
  {
   "cell_type": "code",
   "execution_count": 379,
   "metadata": {},
   "outputs": [
    {
     "data": {
      "text/plain": [
       "array([1, 1, 1, 1, 1], dtype=int64)"
      ]
     },
     "execution_count": 379,
     "metadata": {},
     "output_type": "execute_result"
    }
   ],
   "source": [
    "test_preds1[:5]"
   ]
  },
  {
   "cell_type": "code",
   "execution_count": 380,
   "metadata": {},
   "outputs": [],
   "source": [
    "#### Model2 predictions"
   ]
  },
  {
   "cell_type": "code",
   "execution_count": 381,
   "metadata": {},
   "outputs": [],
   "source": [
    "test_preds2 = sgc_cv_best.predict(test_dumm)"
   ]
  },
  {
   "cell_type": "code",
   "execution_count": 382,
   "metadata": {},
   "outputs": [
    {
     "data": {
      "text/plain": [
       "(326,)"
      ]
     },
     "execution_count": 382,
     "metadata": {},
     "output_type": "execute_result"
    }
   ],
   "source": [
    "test_preds2.shape"
   ]
  },
  {
   "cell_type": "code",
   "execution_count": 383,
   "metadata": {},
   "outputs": [
    {
     "data": {
      "text/plain": [
       "array([1, 1, 0, 0, 1], dtype=int64)"
      ]
     },
     "execution_count": 383,
     "metadata": {},
     "output_type": "execute_result"
    }
   ],
   "source": [
    "test_preds2[:5]"
   ]
  },
  {
   "cell_type": "code",
   "execution_count": 384,
   "metadata": {},
   "outputs": [],
   "source": [
    "#### Model 3 predictions"
   ]
  },
  {
   "cell_type": "code",
   "execution_count": 385,
   "metadata": {},
   "outputs": [],
   "source": [
    "test_preds3 = linear_svm.predict(test_dumm)"
   ]
  },
  {
   "cell_type": "code",
   "execution_count": 386,
   "metadata": {},
   "outputs": [
    {
     "data": {
      "text/plain": [
       "(326,)"
      ]
     },
     "execution_count": 386,
     "metadata": {},
     "output_type": "execute_result"
    }
   ],
   "source": [
    "test_preds3.shape"
   ]
  },
  {
   "cell_type": "code",
   "execution_count": 387,
   "metadata": {},
   "outputs": [
    {
     "data": {
      "text/plain": [
       "array([1, 0, 1, 0, 1], dtype=int64)"
      ]
     },
     "execution_count": 387,
     "metadata": {},
     "output_type": "execute_result"
    }
   ],
   "source": [
    "test_preds3[:5]"
   ]
  },
  {
   "cell_type": "code",
   "execution_count": 388,
   "metadata": {
    "colab": {},
    "colab_type": "code",
    "id": "yrNgDGrYOvjp",
    "outputId": "de76b36c-fa6b-424f-cf3a-496ff1c5a18c"
   },
   "outputs": [
    {
     "name": "stdout",
     "output_type": "stream",
     "text": [
      "Length of test machine ID 326\n",
      "Length of test pred classes 326\n"
     ]
    }
   ],
   "source": [
    "print(\"Length of test machine ID {}\".format(len(test_machineID)))\n",
    "print(\"Length of test pred classes {}\".format(len(test_preds3)))"
   ]
  },
  {
   "cell_type": "code",
   "execution_count": 389,
   "metadata": {
    "colab": {},
    "colab_type": "code",
    "id": "Nz7t_BdzOvjs"
   },
   "outputs": [],
   "source": [
    "test_preds_dict = {'Testpreds1': test_preds1, 'Testpreds2': test_preds2, 'Testpreds3': test_preds3}\n",
    "test_preds_df = pd.DataFrame(test_preds_dict)"
   ]
  },
  {
   "cell_type": "code",
   "execution_count": 390,
   "metadata": {
    "colab": {},
    "colab_type": "code",
    "id": "ruoiISrAOvjs",
    "outputId": "41f884fd-96da-440a-fbec-18e7973b8a28"
   },
   "outputs": [
    {
     "data": {
      "text/html": [
       "<div>\n",
       "<style scoped>\n",
       "    .dataframe tbody tr th:only-of-type {\n",
       "        vertical-align: middle;\n",
       "    }\n",
       "\n",
       "    .dataframe tbody tr th {\n",
       "        vertical-align: top;\n",
       "    }\n",
       "\n",
       "    .dataframe thead th {\n",
       "        text-align: right;\n",
       "    }\n",
       "</style>\n",
       "<table border=\"1\" class=\"dataframe\">\n",
       "  <thead>\n",
       "    <tr style=\"text-align: right;\">\n",
       "      <th></th>\n",
       "      <th>Testpreds1</th>\n",
       "      <th>Testpreds2</th>\n",
       "      <th>Testpreds3</th>\n",
       "    </tr>\n",
       "  </thead>\n",
       "  <tbody>\n",
       "    <tr>\n",
       "      <th>0</th>\n",
       "      <td>1</td>\n",
       "      <td>1</td>\n",
       "      <td>1</td>\n",
       "    </tr>\n",
       "    <tr>\n",
       "      <th>1</th>\n",
       "      <td>1</td>\n",
       "      <td>1</td>\n",
       "      <td>0</td>\n",
       "    </tr>\n",
       "    <tr>\n",
       "      <th>2</th>\n",
       "      <td>1</td>\n",
       "      <td>0</td>\n",
       "      <td>1</td>\n",
       "    </tr>\n",
       "    <tr>\n",
       "      <th>3</th>\n",
       "      <td>1</td>\n",
       "      <td>0</td>\n",
       "      <td>0</td>\n",
       "    </tr>\n",
       "    <tr>\n",
       "      <th>4</th>\n",
       "      <td>1</td>\n",
       "      <td>1</td>\n",
       "      <td>1</td>\n",
       "    </tr>\n",
       "  </tbody>\n",
       "</table>\n",
       "</div>"
      ],
      "text/plain": [
       "   Testpreds1  Testpreds2  Testpreds3\n",
       "0           1           1           1\n",
       "1           1           1           0\n",
       "2           1           0           1\n",
       "3           1           0           0\n",
       "4           1           1           1"
      ]
     },
     "execution_count": 390,
     "metadata": {},
     "output_type": "execute_result"
    }
   ],
   "source": [
    "test_preds_df.head(5)"
   ]
  },
  {
   "cell_type": "code",
   "execution_count": 391,
   "metadata": {},
   "outputs": [],
   "source": [
    "result_preds = test_preds_df.mode(axis=1)"
   ]
  },
  {
   "cell_type": "code",
   "execution_count": 392,
   "metadata": {},
   "outputs": [],
   "source": [
    "result_preds.columns = ['result']"
   ]
  },
  {
   "cell_type": "code",
   "execution_count": 393,
   "metadata": {},
   "outputs": [
    {
     "data": {
      "text/html": [
       "<div>\n",
       "<style scoped>\n",
       "    .dataframe tbody tr th:only-of-type {\n",
       "        vertical-align: middle;\n",
       "    }\n",
       "\n",
       "    .dataframe tbody tr th {\n",
       "        vertical-align: top;\n",
       "    }\n",
       "\n",
       "    .dataframe thead th {\n",
       "        text-align: right;\n",
       "    }\n",
       "</style>\n",
       "<table border=\"1\" class=\"dataframe\">\n",
       "  <thead>\n",
       "    <tr style=\"text-align: right;\">\n",
       "      <th></th>\n",
       "      <th>result</th>\n",
       "    </tr>\n",
       "  </thead>\n",
       "  <tbody>\n",
       "    <tr>\n",
       "      <th>0</th>\n",
       "      <td>1</td>\n",
       "    </tr>\n",
       "    <tr>\n",
       "      <th>1</th>\n",
       "      <td>1</td>\n",
       "    </tr>\n",
       "    <tr>\n",
       "      <th>2</th>\n",
       "      <td>1</td>\n",
       "    </tr>\n",
       "    <tr>\n",
       "      <th>3</th>\n",
       "      <td>0</td>\n",
       "    </tr>\n",
       "    <tr>\n",
       "      <th>4</th>\n",
       "      <td>1</td>\n",
       "    </tr>\n",
       "  </tbody>\n",
       "</table>\n",
       "</div>"
      ],
      "text/plain": [
       "   result\n",
       "0       1\n",
       "1       1\n",
       "2       1\n",
       "3       0\n",
       "4       1"
      ]
     },
     "execution_count": 393,
     "metadata": {},
     "output_type": "execute_result"
    }
   ],
   "source": [
    "result_preds.head(5)"
   ]
  },
  {
   "cell_type": "code",
   "execution_count": 394,
   "metadata": {},
   "outputs": [],
   "source": [
    "result_preds['result'] = result_preds['result'].map({0: 'ComponentRepair', 1: 'ComponentReplacement'})"
   ]
  },
  {
   "cell_type": "code",
   "execution_count": 395,
   "metadata": {},
   "outputs": [
    {
     "data": {
      "text/html": [
       "<div>\n",
       "<style scoped>\n",
       "    .dataframe tbody tr th:only-of-type {\n",
       "        vertical-align: middle;\n",
       "    }\n",
       "\n",
       "    .dataframe tbody tr th {\n",
       "        vertical-align: top;\n",
       "    }\n",
       "\n",
       "    .dataframe thead th {\n",
       "        text-align: right;\n",
       "    }\n",
       "</style>\n",
       "<table border=\"1\" class=\"dataframe\">\n",
       "  <thead>\n",
       "    <tr style=\"text-align: right;\">\n",
       "      <th></th>\n",
       "      <th>result</th>\n",
       "    </tr>\n",
       "  </thead>\n",
       "  <tbody>\n",
       "    <tr>\n",
       "      <th>0</th>\n",
       "      <td>ComponentReplacement</td>\n",
       "    </tr>\n",
       "    <tr>\n",
       "      <th>1</th>\n",
       "      <td>ComponentReplacement</td>\n",
       "    </tr>\n",
       "    <tr>\n",
       "      <th>2</th>\n",
       "      <td>ComponentReplacement</td>\n",
       "    </tr>\n",
       "    <tr>\n",
       "      <th>3</th>\n",
       "      <td>ComponentRepair</td>\n",
       "    </tr>\n",
       "    <tr>\n",
       "      <th>4</th>\n",
       "      <td>ComponentReplacement</td>\n",
       "    </tr>\n",
       "  </tbody>\n",
       "</table>\n",
       "</div>"
      ],
      "text/plain": [
       "                 result\n",
       "0  ComponentReplacement\n",
       "1  ComponentReplacement\n",
       "2  ComponentReplacement\n",
       "3       ComponentRepair\n",
       "4  ComponentReplacement"
      ]
     },
     "execution_count": 395,
     "metadata": {},
     "output_type": "execute_result"
    }
   ],
   "source": [
    "result_preds.head(5)"
   ]
  },
  {
   "cell_type": "code",
   "execution_count": 396,
   "metadata": {},
   "outputs": [
    {
     "data": {
      "text/plain": [
       "ComponentReplacement    235\n",
       "ComponentRepair          91\n",
       "Name: result, dtype: int64"
      ]
     },
     "execution_count": 396,
     "metadata": {},
     "output_type": "execute_result"
    }
   ],
   "source": [
    "result_preds['result'].value_counts()"
   ]
  },
  {
   "cell_type": "code",
   "execution_count": null,
   "metadata": {},
   "outputs": [],
   "source": []
  },
  {
   "cell_type": "raw",
   "metadata": {},
   "source": [
    "test_dict = {'MachineID':test_machineID, 'ActionPoint': result_preds['result']}\n",
    "test_df = pd.DataFrame(test_dict)"
   ]
  },
  {
   "cell_type": "code",
   "execution_count": 397,
   "metadata": {
    "colab": {},
    "colab_type": "code",
    "id": "xHwyKFtLOvjt"
   },
   "outputs": [],
   "source": [
    "test_df.to_csv('../submissions/clustering.csv', index=False)"
   ]
  },
  {
   "cell_type": "code",
   "execution_count": null,
   "metadata": {},
   "outputs": [],
   "source": []
  }
 ],
 "metadata": {
  "accelerator": "GPU",
  "colab": {
   "collapsed_sections": [
    "JKMVNS2uTdB_"
   ],
   "name": "Clustering_Predictive_Maintainence.ipynb",
   "provenance": [],
   "version": "0.3.2"
  },
  "kernelspec": {
   "display_name": "Python 3",
   "language": "python",
   "name": "python3"
  },
  "language_info": {
   "codemirror_mode": {
    "name": "ipython",
    "version": 3
   },
   "file_extension": ".py",
   "mimetype": "text/x-python",
   "name": "python",
   "nbconvert_exporter": "python",
   "pygments_lexer": "ipython3",
   "version": "3.6.4"
  }
 },
 "nbformat": 4,
 "nbformat_minor": 1
}
